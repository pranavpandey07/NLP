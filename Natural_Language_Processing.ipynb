{
 "cells": [
  {
   "cell_type": "markdown",
   "id": "d1cf642d",
   "metadata": {},
   "source": [
    "# This is the project of ratings prediction with the help of reviews given by customers on various mobile phones, by using NLP.This is the problem of classification. "
   ]
  },
  {
   "cell_type": "markdown",
   "id": "21e421dc",
   "metadata": {},
   "source": [
    "# Importing Important Python Modules"
   ]
  },
  {
   "cell_type": "code",
   "execution_count": 20,
   "id": "549d64fc",
   "metadata": {},
   "outputs": [],
   "source": [
    "import pandas as pd\n",
    "import numpy as np\n",
    "import warnings\n",
    "warnings.filterwarnings('ignore')"
   ]
  },
  {
   "cell_type": "markdown",
   "id": "96cb2796",
   "metadata": {},
   "source": [
    "Loading the dataset into a pandas dataframe"
   ]
  },
  {
   "cell_type": "code",
   "execution_count": 21,
   "id": "b7740dba",
   "metadata": {},
   "outputs": [],
   "source": [
    "df=pd.read_csv('new_mobile.csv')"
   ]
  },
  {
   "cell_type": "code",
   "execution_count": 22,
   "id": "efb3e13c",
   "metadata": {},
   "outputs": [
    {
     "data": {
      "text/html": [
       "<div>\n",
       "<style scoped>\n",
       "    .dataframe tbody tr th:only-of-type {\n",
       "        vertical-align: middle;\n",
       "    }\n",
       "\n",
       "    .dataframe tbody tr th {\n",
       "        vertical-align: top;\n",
       "    }\n",
       "\n",
       "    .dataframe thead th {\n",
       "        text-align: right;\n",
       "    }\n",
       "</style>\n",
       "<table border=\"1\" class=\"dataframe\">\n",
       "  <thead>\n",
       "    <tr style=\"text-align: right;\">\n",
       "      <th></th>\n",
       "      <th>Unnamed: 0</th>\n",
       "      <th>ratings</th>\n",
       "      <th>review</th>\n",
       "    </tr>\n",
       "  </thead>\n",
       "  <tbody>\n",
       "    <tr>\n",
       "      <th>0</th>\n",
       "      <td>0</td>\n",
       "      <td>4.0</td>\n",
       "      <td>i been using this beauty for last 6 days, ordered on big billion days sale, the is brand new not refurbished, got the charger and headset and pin in the box, got them checked in apple service center, the built is truly premium, sophisticated space grey color, it is blazing fast device, never hangs, never get heated, or no lags at all. giving 1 day battery for moderate use, like whatsapp regularly and checking email in intervals, and some calling. this is my 1st  iphone, i came from android, s...</td>\n",
       "    </tr>\n",
       "    <tr>\n",
       "      <th>1</th>\n",
       "      <td>1</td>\n",
       "      <td>5.0</td>\n",
       "      <td>1st of all guys i don't believe in online shopping specially for the phone (specially apple)</td>\n",
       "    </tr>\n",
       "    <tr>\n",
       "      <th>2</th>\n",
       "      <td>2</td>\n",
       "      <td>5.0</td>\n",
       "      <td>Super class phone display awesome sounds awesome camera good quality great deals in this price</td>\n",
       "    </tr>\n",
       "    <tr>\n",
       "      <th>3</th>\n",
       "      <td>3</td>\n",
       "      <td>5.0</td>\n",
       "      <td>On this purchase I got great deal with flipkart thanks flipkart. And its delivered before estimate date so over all its my great experience with flipkart.</td>\n",
       "    </tr>\n",
       "    <tr>\n",
       "      <th>4</th>\n",
       "      <td>4</td>\n",
       "      <td>4.0</td>\n",
       "      <td>i love the size of this phone. it camera is good love the ios performance is best overall</td>\n",
       "    </tr>\n",
       "    <tr>\n",
       "      <th>...</th>\n",
       "      <td>...</td>\n",
       "      <td>...</td>\n",
       "      <td>...</td>\n",
       "    </tr>\n",
       "    <tr>\n",
       "      <th>2325</th>\n",
       "      <td>2325</td>\n",
       "      <td>4.0</td>\n",
       "      <td>affordable phone in good price</td>\n",
       "    </tr>\n",
       "    <tr>\n",
       "      <th>2326</th>\n",
       "      <td>2326</td>\n",
       "      <td>5.0</td>\n",
       "      <td>very very bad mobile phone</td>\n",
       "    </tr>\n",
       "    <tr>\n",
       "      <th>2327</th>\n",
       "      <td>2327</td>\n",
       "      <td>5.0</td>\n",
       "      <td>Good product, excellent phone.........</td>\n",
       "    </tr>\n",
       "    <tr>\n",
       "      <th>2328</th>\n",
       "      <td>2328</td>\n",
       "      <td>5.0</td>\n",
       "      <td>Experience Pubg in high graphics</td>\n",
       "    </tr>\n",
       "    <tr>\n",
       "      <th>2329</th>\n",
       "      <td>2329</td>\n",
       "      <td>NaN</td>\n",
       "      <td>NaN</td>\n",
       "    </tr>\n",
       "  </tbody>\n",
       "</table>\n",
       "<p>2330 rows × 3 columns</p>\n",
       "</div>"
      ],
      "text/plain": [
       "      Unnamed: 0  ratings  \\\n",
       "0     0           4.0       \n",
       "1     1           5.0       \n",
       "2     2           5.0       \n",
       "3     3           5.0       \n",
       "4     4           4.0       \n",
       "...  ..           ...       \n",
       "2325  2325        4.0       \n",
       "2326  2326        5.0       \n",
       "2327  2327        5.0       \n",
       "2328  2328        5.0       \n",
       "2329  2329       NaN        \n",
       "\n",
       "                                                                                                                                                                                                                                                                                                                                                                                                                                                                                                                    review  \n",
       "0     i been using this beauty for last 6 days, ordered on big billion days sale, the is brand new not refurbished, got the charger and headset and pin in the box, got them checked in apple service center, the built is truly premium, sophisticated space grey color, it is blazing fast device, never hangs, never get heated, or no lags at all. giving 1 day battery for moderate use, like whatsapp regularly and checking email in intervals, and some calling. this is my 1st  iphone, i came from android, s...  \n",
       "1     1st of all guys i don't believe in online shopping specially for the phone (specially apple)                                                                                                                                                                                                                                                                                                                                                                                                                          \n",
       "2     Super class phone display awesome sounds awesome camera good quality great deals in this price                                                                                                                                                                                                                                                                                                                                                                                                                        \n",
       "3     On this purchase I got great deal with flipkart thanks flipkart. And its delivered before estimate date so over all its my great experience with flipkart.                                                                                                                                                                                                                                                                                                                                                            \n",
       "4     i love the size of this phone. it camera is good love the ios performance is best overall                                                                                                                                                                                                                                                                                                                                                                                                                             \n",
       "...                                                                                         ...                                                                                                                                                                                                                                                                                                                                                                                                                             \n",
       "2325  affordable phone in good price                                                                                                                                                                                                                                                                                                                                                                                                                                                                                        \n",
       "2326  very very bad mobile phone                                                                                                                                                                                                                                                                                                                                                                                                                                                                                            \n",
       "2327  Good product, excellent phone.........                                                                                                                                                                                                                                                                                                                                                                                                                                                                                \n",
       "2328  Experience Pubg in high graphics                                                                                                                                                                                                                                                                                                                                                                                                                                                                                      \n",
       "2329  NaN                                                                                                                                                                                                                                                                                                                                                                                                                                                                                                                   \n",
       "\n",
       "[2330 rows x 3 columns]"
      ]
     },
     "execution_count": 22,
     "metadata": {},
     "output_type": "execute_result"
    }
   ],
   "source": [
    "df"
   ]
  },
  {
   "cell_type": "code",
   "execution_count": 23,
   "id": "a6836623",
   "metadata": {},
   "outputs": [
    {
     "data": {
      "text/plain": [
       "Unnamed: 0    0\n",
       "ratings       2\n",
       "review        2\n",
       "dtype: int64"
      ]
     },
     "execution_count": 23,
     "metadata": {},
     "output_type": "execute_result"
    }
   ],
   "source": [
    "df.isnull().sum()"
   ]
  },
  {
   "cell_type": "markdown",
   "id": "38438144",
   "metadata": {},
   "source": [
    "We can see that our dataset have few null values"
   ]
  },
  {
   "cell_type": "code",
   "execution_count": 24,
   "id": "cfd8399e",
   "metadata": {},
   "outputs": [],
   "source": [
    "#We are dropping this Unnamed: 0 column since it does not have any information.\n",
    "df=df.drop(['Unnamed: 0'], axis = 1)"
   ]
  },
  {
   "cell_type": "code",
   "execution_count": null,
   "id": "b74f0c13",
   "metadata": {},
   "outputs": [],
   "source": []
  },
  {
   "cell_type": "code",
   "execution_count": 25,
   "id": "5e0cc9d0",
   "metadata": {},
   "outputs": [],
   "source": [
    "#Dropping the null values present in the dataset.\n",
    "df = df.dropna()"
   ]
  },
  {
   "cell_type": "code",
   "execution_count": 26,
   "id": "7560d407",
   "metadata": {},
   "outputs": [
    {
     "data": {
      "text/plain": [
       "array([4., 5., 3.])"
      ]
     },
     "execution_count": 26,
     "metadata": {},
     "output_type": "execute_result"
    }
   ],
   "source": [
    "#Checking for the ratings present in the dataset.\n",
    "df['ratings'].unique()"
   ]
  },
  {
   "cell_type": "code",
   "execution_count": 27,
   "id": "decdd76d",
   "metadata": {},
   "outputs": [
    {
     "data": {
      "text/plain": [
       "ratings    0\n",
       "review     0\n",
       "dtype: int64"
      ]
     },
     "execution_count": 27,
     "metadata": {},
     "output_type": "execute_result"
    }
   ],
   "source": [
    "df.isnull().sum()"
   ]
  },
  {
   "cell_type": "code",
   "execution_count": 28,
   "id": "2de2ad40",
   "metadata": {},
   "outputs": [
    {
     "data": {
      "text/plain": [
       "array([4., 5., 3.])"
      ]
     },
     "execution_count": 28,
     "metadata": {},
     "output_type": "execute_result"
    }
   ],
   "source": [
    "df['ratings'].unique()"
   ]
  },
  {
   "cell_type": "code",
   "execution_count": 29,
   "id": "f812e29b",
   "metadata": {},
   "outputs": [
    {
     "data": {
      "text/plain": [
       "5.0    1770\n",
       "4.0    426 \n",
       "3.0    132 \n",
       "Name: ratings, dtype: int64"
      ]
     },
     "execution_count": 29,
     "metadata": {},
     "output_type": "execute_result"
    }
   ],
   "source": [
    "df['ratings'].value_counts()"
   ]
  },
  {
   "cell_type": "code",
   "execution_count": 30,
   "id": "0ef6cd6d",
   "metadata": {},
   "outputs": [],
   "source": [
    "pd.set_option('display.max_colwidth', -1)"
   ]
  },
  {
   "cell_type": "code",
   "execution_count": 31,
   "id": "44e7bc02",
   "metadata": {},
   "outputs": [
    {
     "data": {
      "text/plain": [
       "'!\"#$%&\\'()*+,-./:;<=>?@[\\\\]^_`{|}~'"
      ]
     },
     "execution_count": 31,
     "metadata": {},
     "output_type": "execute_result"
    }
   ],
   "source": [
    "#library that contains punctuation\n",
    "import string\n",
    "string.punctuation"
   ]
  },
  {
   "cell_type": "markdown",
   "id": "068a2e2f",
   "metadata": {},
   "source": [
    "# Let us count the number of words present in each row"
   ]
  },
  {
   "cell_type": "code",
   "execution_count": 32,
   "id": "f6ed060e",
   "metadata": {},
   "outputs": [],
   "source": [
    "#Function to get number of words present in each row.\n",
    "df['Word_counts']=df['review'].apply(lambda x: len (str(x).split()))"
   ]
  },
  {
   "cell_type": "code",
   "execution_count": 33,
   "id": "d3811a39",
   "metadata": {},
   "outputs": [
    {
     "data": {
      "text/html": [
       "<div>\n",
       "<style scoped>\n",
       "    .dataframe tbody tr th:only-of-type {\n",
       "        vertical-align: middle;\n",
       "    }\n",
       "\n",
       "    .dataframe tbody tr th {\n",
       "        vertical-align: top;\n",
       "    }\n",
       "\n",
       "    .dataframe thead th {\n",
       "        text-align: right;\n",
       "    }\n",
       "</style>\n",
       "<table border=\"1\" class=\"dataframe\">\n",
       "  <thead>\n",
       "    <tr style=\"text-align: right;\">\n",
       "      <th></th>\n",
       "      <th>ratings</th>\n",
       "      <th>review</th>\n",
       "      <th>Word_counts</th>\n",
       "    </tr>\n",
       "  </thead>\n",
       "  <tbody>\n",
       "    <tr>\n",
       "      <th>0</th>\n",
       "      <td>4.0</td>\n",
       "      <td>i been using this beauty for last 6 days, ordered on big billion days sale, the is brand new not refurbished, got the charger and headset and pin in the box, got them checked in apple service center, the built is truly premium, sophisticated space grey color, it is blazing fast device, never hangs, never get heated, or no lags at all. giving 1 day battery for moderate use, like whatsapp regularly and checking email in intervals, and some calling. this is my 1st  iphone, i came from android, s...</td>\n",
       "      <td>90</td>\n",
       "    </tr>\n",
       "    <tr>\n",
       "      <th>1</th>\n",
       "      <td>5.0</td>\n",
       "      <td>1st of all guys i don't believe in online shopping specially for the phone (specially apple)</td>\n",
       "      <td>16</td>\n",
       "    </tr>\n",
       "    <tr>\n",
       "      <th>2</th>\n",
       "      <td>5.0</td>\n",
       "      <td>Super class phone display awesome sounds awesome camera good quality great deals in this price</td>\n",
       "      <td>15</td>\n",
       "    </tr>\n",
       "    <tr>\n",
       "      <th>3</th>\n",
       "      <td>5.0</td>\n",
       "      <td>On this purchase I got great deal with flipkart thanks flipkart. And its delivered before estimate date so over all its my great experience with flipkart.</td>\n",
       "      <td>26</td>\n",
       "    </tr>\n",
       "    <tr>\n",
       "      <th>4</th>\n",
       "      <td>4.0</td>\n",
       "      <td>i love the size of this phone. it camera is good love the ios performance is best overall</td>\n",
       "      <td>18</td>\n",
       "    </tr>\n",
       "  </tbody>\n",
       "</table>\n",
       "</div>"
      ],
      "text/plain": [
       "   ratings  \\\n",
       "0  4.0       \n",
       "1  5.0       \n",
       "2  5.0       \n",
       "3  5.0       \n",
       "4  4.0       \n",
       "\n",
       "                                                                                                                                                                                                                                                                                                                                                                                                                                                                                                                 review  \\\n",
       "0  i been using this beauty for last 6 days, ordered on big billion days sale, the is brand new not refurbished, got the charger and headset and pin in the box, got them checked in apple service center, the built is truly premium, sophisticated space grey color, it is blazing fast device, never hangs, never get heated, or no lags at all. giving 1 day battery for moderate use, like whatsapp regularly and checking email in intervals, and some calling. this is my 1st  iphone, i came from android, s...   \n",
       "1  1st of all guys i don't believe in online shopping specially for the phone (specially apple)                                                                                                                                                                                                                                                                                                                                                                                                                           \n",
       "2  Super class phone display awesome sounds awesome camera good quality great deals in this price                                                                                                                                                                                                                                                                                                                                                                                                                         \n",
       "3  On this purchase I got great deal with flipkart thanks flipkart. And its delivered before estimate date so over all its my great experience with flipkart.                                                                                                                                                                                                                                                                                                                                                             \n",
       "4  i love the size of this phone. it camera is good love the ios performance is best overall                                                                                                                                                                                                                                                                                                                                                                                                                              \n",
       "\n",
       "   Word_counts  \n",
       "0  90           \n",
       "1  16           \n",
       "2  15           \n",
       "3  26           \n",
       "4  18           "
      ]
     },
     "execution_count": 33,
     "metadata": {},
     "output_type": "execute_result"
    }
   ],
   "source": [
    "df.head()"
   ]
  },
  {
   "cell_type": "markdown",
   "id": "ba66604d",
   "metadata": {},
   "source": [
    "# Let us count total number of character present in the sentence of each row."
   ]
  },
  {
   "cell_type": "code",
   "execution_count": 34,
   "id": "cb3b2041",
   "metadata": {},
   "outputs": [],
   "source": [
    "#Function to find out total number of the character present in each row\n",
    "df['Char_counts']=df['review'].apply(lambda x: len(str(x)))"
   ]
  },
  {
   "cell_type": "code",
   "execution_count": 35,
   "id": "7df971e6",
   "metadata": {},
   "outputs": [
    {
     "data": {
      "text/html": [
       "<div>\n",
       "<style scoped>\n",
       "    .dataframe tbody tr th:only-of-type {\n",
       "        vertical-align: middle;\n",
       "    }\n",
       "\n",
       "    .dataframe tbody tr th {\n",
       "        vertical-align: top;\n",
       "    }\n",
       "\n",
       "    .dataframe thead th {\n",
       "        text-align: right;\n",
       "    }\n",
       "</style>\n",
       "<table border=\"1\" class=\"dataframe\">\n",
       "  <thead>\n",
       "    <tr style=\"text-align: right;\">\n",
       "      <th></th>\n",
       "      <th>ratings</th>\n",
       "      <th>review</th>\n",
       "      <th>Word_counts</th>\n",
       "      <th>Char_counts</th>\n",
       "    </tr>\n",
       "  </thead>\n",
       "  <tbody>\n",
       "    <tr>\n",
       "      <th>0</th>\n",
       "      <td>4.0</td>\n",
       "      <td>i been using this beauty for last 6 days, ordered on big billion days sale, the is brand new not refurbished, got the charger and headset and pin in the box, got them checked in apple service center, the built is truly premium, sophisticated space grey color, it is blazing fast device, never hangs, never get heated, or no lags at all. giving 1 day battery for moderate use, like whatsapp regularly and checking email in intervals, and some calling. this is my 1st  iphone, i came from android, s...</td>\n",
       "      <td>90</td>\n",
       "      <td>500</td>\n",
       "    </tr>\n",
       "    <tr>\n",
       "      <th>1</th>\n",
       "      <td>5.0</td>\n",
       "      <td>1st of all guys i don't believe in online shopping specially for the phone (specially apple)</td>\n",
       "      <td>16</td>\n",
       "      <td>92</td>\n",
       "    </tr>\n",
       "    <tr>\n",
       "      <th>2</th>\n",
       "      <td>5.0</td>\n",
       "      <td>Super class phone display awesome sounds awesome camera good quality great deals in this price</td>\n",
       "      <td>15</td>\n",
       "      <td>95</td>\n",
       "    </tr>\n",
       "    <tr>\n",
       "      <th>3</th>\n",
       "      <td>5.0</td>\n",
       "      <td>On this purchase I got great deal with flipkart thanks flipkart. And its delivered before estimate date so over all its my great experience with flipkart.</td>\n",
       "      <td>26</td>\n",
       "      <td>154</td>\n",
       "    </tr>\n",
       "    <tr>\n",
       "      <th>4</th>\n",
       "      <td>4.0</td>\n",
       "      <td>i love the size of this phone. it camera is good love the ios performance is best overall</td>\n",
       "      <td>18</td>\n",
       "      <td>89</td>\n",
       "    </tr>\n",
       "  </tbody>\n",
       "</table>\n",
       "</div>"
      ],
      "text/plain": [
       "   ratings  \\\n",
       "0  4.0       \n",
       "1  5.0       \n",
       "2  5.0       \n",
       "3  5.0       \n",
       "4  4.0       \n",
       "\n",
       "                                                                                                                                                                                                                                                                                                                                                                                                                                                                                                                 review  \\\n",
       "0  i been using this beauty for last 6 days, ordered on big billion days sale, the is brand new not refurbished, got the charger and headset and pin in the box, got them checked in apple service center, the built is truly premium, sophisticated space grey color, it is blazing fast device, never hangs, never get heated, or no lags at all. giving 1 day battery for moderate use, like whatsapp regularly and checking email in intervals, and some calling. this is my 1st  iphone, i came from android, s...   \n",
       "1  1st of all guys i don't believe in online shopping specially for the phone (specially apple)                                                                                                                                                                                                                                                                                                                                                                                                                           \n",
       "2  Super class phone display awesome sounds awesome camera good quality great deals in this price                                                                                                                                                                                                                                                                                                                                                                                                                         \n",
       "3  On this purchase I got great deal with flipkart thanks flipkart. And its delivered before estimate date so over all its my great experience with flipkart.                                                                                                                                                                                                                                                                                                                                                             \n",
       "4  i love the size of this phone. it camera is good love the ios performance is best overall                                                                                                                                                                                                                                                                                                                                                                                                                              \n",
       "\n",
       "   Word_counts  Char_counts  \n",
       "0  90           500          \n",
       "1  16           92           \n",
       "2  15           95           \n",
       "3  26           154          \n",
       "4  18           89           "
      ]
     },
     "execution_count": 35,
     "metadata": {},
     "output_type": "execute_result"
    }
   ],
   "source": [
    "df.head()"
   ]
  },
  {
   "cell_type": "markdown",
   "id": "d90d22d1",
   "metadata": {},
   "source": [
    "# Let us find out Average Word length."
   ]
  },
  {
   "cell_type": "code",
   "execution_count": 36,
   "id": "29e13a28",
   "metadata": {},
   "outputs": [],
   "source": [
    "#We are defining the following function to get average word per sentence.\n",
    "def get_avg_word_len(x):\n",
    "    words=str(x).split()\n",
    "    word_len=0\n",
    "    for word in words:\n",
    "        word_len=word_len + len(word)\n",
    "    return word_len/len(words)"
   ]
  },
  {
   "cell_type": "code",
   "execution_count": 37,
   "id": "f7213d7d",
   "metadata": {},
   "outputs": [],
   "source": [
    "df[\"average_word_length\"]=df['review'].apply(lambda x:get_avg_word_len(x))"
   ]
  },
  {
   "cell_type": "code",
   "execution_count": 38,
   "id": "403e567a",
   "metadata": {},
   "outputs": [
    {
     "data": {
      "text/html": [
       "<div>\n",
       "<style scoped>\n",
       "    .dataframe tbody tr th:only-of-type {\n",
       "        vertical-align: middle;\n",
       "    }\n",
       "\n",
       "    .dataframe tbody tr th {\n",
       "        vertical-align: top;\n",
       "    }\n",
       "\n",
       "    .dataframe thead th {\n",
       "        text-align: right;\n",
       "    }\n",
       "</style>\n",
       "<table border=\"1\" class=\"dataframe\">\n",
       "  <thead>\n",
       "    <tr style=\"text-align: right;\">\n",
       "      <th></th>\n",
       "      <th>ratings</th>\n",
       "      <th>review</th>\n",
       "      <th>Word_counts</th>\n",
       "      <th>Char_counts</th>\n",
       "      <th>average_word_length</th>\n",
       "    </tr>\n",
       "  </thead>\n",
       "  <tbody>\n",
       "    <tr>\n",
       "      <th>0</th>\n",
       "      <td>4.0</td>\n",
       "      <td>i been using this beauty for last 6 days, ordered on big billion days sale, the is brand new not refurbished, got the charger and headset and pin in the box, got them checked in apple service center, the built is truly premium, sophisticated space grey color, it is blazing fast device, never hangs, never get heated, or no lags at all. giving 1 day battery for moderate use, like whatsapp regularly and checking email in intervals, and some calling. this is my 1st  iphone, i came from android, s...</td>\n",
       "      <td>90</td>\n",
       "      <td>500</td>\n",
       "      <td>4.555556</td>\n",
       "    </tr>\n",
       "    <tr>\n",
       "      <th>1</th>\n",
       "      <td>5.0</td>\n",
       "      <td>1st of all guys i don't believe in online shopping specially for the phone (specially apple)</td>\n",
       "      <td>16</td>\n",
       "      <td>92</td>\n",
       "      <td>4.812500</td>\n",
       "    </tr>\n",
       "    <tr>\n",
       "      <th>2</th>\n",
       "      <td>5.0</td>\n",
       "      <td>Super class phone display awesome sounds awesome camera good quality great deals in this price</td>\n",
       "      <td>15</td>\n",
       "      <td>95</td>\n",
       "      <td>5.333333</td>\n",
       "    </tr>\n",
       "    <tr>\n",
       "      <th>3</th>\n",
       "      <td>5.0</td>\n",
       "      <td>On this purchase I got great deal with flipkart thanks flipkart. And its delivered before estimate date so over all its my great experience with flipkart.</td>\n",
       "      <td>26</td>\n",
       "      <td>154</td>\n",
       "      <td>4.961538</td>\n",
       "    </tr>\n",
       "    <tr>\n",
       "      <th>4</th>\n",
       "      <td>4.0</td>\n",
       "      <td>i love the size of this phone. it camera is good love the ios performance is best overall</td>\n",
       "      <td>18</td>\n",
       "      <td>89</td>\n",
       "      <td>4.000000</td>\n",
       "    </tr>\n",
       "  </tbody>\n",
       "</table>\n",
       "</div>"
      ],
      "text/plain": [
       "   ratings  \\\n",
       "0  4.0       \n",
       "1  5.0       \n",
       "2  5.0       \n",
       "3  5.0       \n",
       "4  4.0       \n",
       "\n",
       "                                                                                                                                                                                                                                                                                                                                                                                                                                                                                                                 review  \\\n",
       "0  i been using this beauty for last 6 days, ordered on big billion days sale, the is brand new not refurbished, got the charger and headset and pin in the box, got them checked in apple service center, the built is truly premium, sophisticated space grey color, it is blazing fast device, never hangs, never get heated, or no lags at all. giving 1 day battery for moderate use, like whatsapp regularly and checking email in intervals, and some calling. this is my 1st  iphone, i came from android, s...   \n",
       "1  1st of all guys i don't believe in online shopping specially for the phone (specially apple)                                                                                                                                                                                                                                                                                                                                                                                                                           \n",
       "2  Super class phone display awesome sounds awesome camera good quality great deals in this price                                                                                                                                                                                                                                                                                                                                                                                                                         \n",
       "3  On this purchase I got great deal with flipkart thanks flipkart. And its delivered before estimate date so over all its my great experience with flipkart.                                                                                                                                                                                                                                                                                                                                                             \n",
       "4  i love the size of this phone. it camera is good love the ios performance is best overall                                                                                                                                                                                                                                                                                                                                                                                                                              \n",
       "\n",
       "   Word_counts  Char_counts  average_word_length  \n",
       "0  90           500          4.555556             \n",
       "1  16           92           4.812500             \n",
       "2  15           95           5.333333             \n",
       "3  26           154          4.961538             \n",
       "4  18           89           4.000000             "
      ]
     },
     "execution_count": 38,
     "metadata": {},
     "output_type": "execute_result"
    }
   ],
   "source": [
    "df.head()"
   ]
  },
  {
   "cell_type": "markdown",
   "id": "ff7aaeba",
   "metadata": {},
   "source": [
    "# Importing spacy"
   ]
  },
  {
   "cell_type": "code",
   "execution_count": 39,
   "id": "72084213",
   "metadata": {},
   "outputs": [],
   "source": [
    "import spacy\n",
    "from spacy.lang.en.stop_words import STOP_WORDS"
   ]
  },
  {
   "cell_type": "markdown",
   "id": "8592111f",
   "metadata": {},
   "source": [
    "#  Let us count the Stop Words in each sentence"
   ]
  },
  {
   "cell_type": "code",
   "execution_count": 40,
   "id": "914b0ca9",
   "metadata": {},
   "outputs": [
    {
     "name": "stdout",
     "output_type": "stream",
     "text": [
      "{'on', 'moreover', 'always', 'so', 'over', \"'re\", 'anything', 'thence', 'someone', 'done', 'each', 'was', 'my', 'full', 'amongst', 'may', 'bottom', 'whence', 'this', 'who', 'made', 'against', \"'d\", 'an', 'whole', 'here', 'became', 'herself', 'both', 'rather', 'get', 'somewhere', 'name', 'nine', 'the', 'could', 'empty', '’m', '’ve', 'within', 'everywhere', 'first', 'nevertheless', '‘re', 'only', 'by', 'make', 'move', 'and', 'already', 'seemed', 'well', 'back', 'wherever', 'did', 'therein', 'every', 'via', 'that', 'hereupon', 'some', 'he', 'often', 'serious', 'anyway', 'their', 'we', 'should', 'besides', 'your', 'give', 'sometimes', 'whatever', 'twenty', 'few', 'sometime', '’ll', 'noone', 'used', 'not', 'elsewhere', 'into', 'it', '’d', 'which', 'becoming', 'regarding', 'own', 'whenever', 'seems', 'am', 'him', 'nowhere', 'all', 'when', 'quite', 'through', 'anyhow', 'hereafter', 'enough', 'a', 'three', 'anywhere', 'one', 'ever', 'still', 'does', 'of', 'latterly', 'beforehand', 'show', 'except', 'any', 'front', 'whereupon', 'for', 'now', 'had', 'between', 'while', 'again', 'where', 'other', \"'ll\", 'she', 'them', 'ten', 'whoever', 'though', 'itself', 'hundred', 'will', 'neither', 'due', 'several', 'toward', 'but', 'under', 'even', 'beyond', 'thru', 'then', 'really', 'another', 'indeed', 'meanwhile', 'in', \"'m\", 'towards', 'how', 'becomes', 'same', 'once', 'might', 'take', 'whereas', '‘m', 'about', '‘ve', 'fifteen', 'call', 'eleven', 'why', 'see', 'although', 'onto', 'to', 'many', \"n't\", 'are', 'everyone', 'her', 'five', 'using', 'whom', 'upon', 'fifty', 'afterwards', 'ca', 'twelve', 'whither', 'part', 'around', 'whereby', 'formerly', 'also', 'down', 'anyone', 'nobody', 'sixty', 'n‘t', 'therefore', 'whether', 're', '‘s', 'behind', 'else', 'hers', 'with', 'last', 'as', 'forty', 'former', 'put', '‘ll', 'third', 'four', 'latter', 'eight', 'less', '‘d', 'hence', 'something', 'hereby', 'off', 'must', '’re', 'too', 'there', 'out', 'become', 'no', 'at', 'throughout', \"'s\", 'yourself', 'most', 'none', 'thus', 'together', 'until', 'above', 'across', 'everything', 'do', 'never', 'without', 'its', 'nor', 'say', 'himself', 'cannot', 'least', 'more', 'beside', 'further', 'if', 'whose', 'themselves', 'you', 'were', 'keep', 'be', 'up', 'below', 'his', 'perhaps', 'i', \"'ve\", 'almost', 'whereafter', 'very', 'yourselves', 'been', 'us', 'wherein', 'would', 'they', 'from', 'or', 'please', 'than', 'those', 'just', 'ourselves', 'nothing', 'among', 'have', 'various', 'along', 'per', 'next', 'seem', 'thereby', 'these', 'top', 'doing', 'being', 'what', 'our', '’s', 'n’t', 'somehow', 'mine', 'otherwise', 'because', 'is', 'mostly', 'before', 'namely', 'can', 'alone', 'unless', 'after', 'yet', 'two', 'since', 'side', 'much', 'ours', 'yours', 'six', 'has', 'however', 'amount', 'either', 'go', 'such', 'myself', 'herein', 'thereupon', 'during', 'seeming', 'others', 'thereafter', 'me'}\n"
     ]
    }
   ],
   "source": [
    "#All stop words in english language.\n",
    "print(STOP_WORDS)"
   ]
  },
  {
   "cell_type": "code",
   "execution_count": 41,
   "id": "14044571",
   "metadata": {},
   "outputs": [],
   "source": [
    "df['stop_words']=df['review'].apply(lambda x:len([i for i in str(x).split() if i in STOP_WORDS]))"
   ]
  },
  {
   "cell_type": "code",
   "execution_count": 42,
   "id": "19565d20",
   "metadata": {},
   "outputs": [
    {
     "data": {
      "text/html": [
       "<div>\n",
       "<style scoped>\n",
       "    .dataframe tbody tr th:only-of-type {\n",
       "        vertical-align: middle;\n",
       "    }\n",
       "\n",
       "    .dataframe tbody tr th {\n",
       "        vertical-align: top;\n",
       "    }\n",
       "\n",
       "    .dataframe thead th {\n",
       "        text-align: right;\n",
       "    }\n",
       "</style>\n",
       "<table border=\"1\" class=\"dataframe\">\n",
       "  <thead>\n",
       "    <tr style=\"text-align: right;\">\n",
       "      <th></th>\n",
       "      <th>ratings</th>\n",
       "      <th>review</th>\n",
       "      <th>Word_counts</th>\n",
       "      <th>Char_counts</th>\n",
       "      <th>average_word_length</th>\n",
       "      <th>stop_words</th>\n",
       "    </tr>\n",
       "  </thead>\n",
       "  <tbody>\n",
       "    <tr>\n",
       "      <th>0</th>\n",
       "      <td>4.0</td>\n",
       "      <td>i been using this beauty for last 6 days, ordered on big billion days sale, the is brand new not refurbished, got the charger and headset and pin in the box, got them checked in apple service center, the built is truly premium, sophisticated space grey color, it is blazing fast device, never hangs, never get heated, or no lags at all. giving 1 day battery for moderate use, like whatsapp regularly and checking email in intervals, and some calling. this is my 1st  iphone, i came from android, s...</td>\n",
       "      <td>90</td>\n",
       "      <td>500</td>\n",
       "      <td>4.555556</td>\n",
       "      <td>37</td>\n",
       "    </tr>\n",
       "    <tr>\n",
       "      <th>1</th>\n",
       "      <td>5.0</td>\n",
       "      <td>1st of all guys i don't believe in online shopping specially for the phone (specially apple)</td>\n",
       "      <td>16</td>\n",
       "      <td>92</td>\n",
       "      <td>4.812500</td>\n",
       "      <td>6</td>\n",
       "    </tr>\n",
       "    <tr>\n",
       "      <th>2</th>\n",
       "      <td>5.0</td>\n",
       "      <td>Super class phone display awesome sounds awesome camera good quality great deals in this price</td>\n",
       "      <td>15</td>\n",
       "      <td>95</td>\n",
       "      <td>5.333333</td>\n",
       "      <td>2</td>\n",
       "    </tr>\n",
       "    <tr>\n",
       "      <th>3</th>\n",
       "      <td>5.0</td>\n",
       "      <td>On this purchase I got great deal with flipkart thanks flipkart. And its delivered before estimate date so over all its my great experience with flipkart.</td>\n",
       "      <td>26</td>\n",
       "      <td>154</td>\n",
       "      <td>4.961538</td>\n",
       "      <td>10</td>\n",
       "    </tr>\n",
       "    <tr>\n",
       "      <th>4</th>\n",
       "      <td>4.0</td>\n",
       "      <td>i love the size of this phone. it camera is good love the ios performance is best overall</td>\n",
       "      <td>18</td>\n",
       "      <td>89</td>\n",
       "      <td>4.000000</td>\n",
       "      <td>8</td>\n",
       "    </tr>\n",
       "  </tbody>\n",
       "</table>\n",
       "</div>"
      ],
      "text/plain": [
       "   ratings  \\\n",
       "0  4.0       \n",
       "1  5.0       \n",
       "2  5.0       \n",
       "3  5.0       \n",
       "4  4.0       \n",
       "\n",
       "                                                                                                                                                                                                                                                                                                                                                                                                                                                                                                                 review  \\\n",
       "0  i been using this beauty for last 6 days, ordered on big billion days sale, the is brand new not refurbished, got the charger and headset and pin in the box, got them checked in apple service center, the built is truly premium, sophisticated space grey color, it is blazing fast device, never hangs, never get heated, or no lags at all. giving 1 day battery for moderate use, like whatsapp regularly and checking email in intervals, and some calling. this is my 1st  iphone, i came from android, s...   \n",
       "1  1st of all guys i don't believe in online shopping specially for the phone (specially apple)                                                                                                                                                                                                                                                                                                                                                                                                                           \n",
       "2  Super class phone display awesome sounds awesome camera good quality great deals in this price                                                                                                                                                                                                                                                                                                                                                                                                                         \n",
       "3  On this purchase I got great deal with flipkart thanks flipkart. And its delivered before estimate date so over all its my great experience with flipkart.                                                                                                                                                                                                                                                                                                                                                             \n",
       "4  i love the size of this phone. it camera is good love the ios performance is best overall                                                                                                                                                                                                                                                                                                                                                                                                                              \n",
       "\n",
       "   Word_counts  Char_counts  average_word_length  stop_words  \n",
       "0  90           500          4.555556             37          \n",
       "1  16           92           4.812500             6           \n",
       "2  15           95           5.333333             2           \n",
       "3  26           154          4.961538             10          \n",
       "4  18           89           4.000000             8           "
      ]
     },
     "execution_count": 42,
     "metadata": {},
     "output_type": "execute_result"
    }
   ],
   "source": [
    "df.head()"
   ]
  },
  {
   "cell_type": "markdown",
   "id": "3a9bb20e",
   "metadata": {},
   "source": [
    "#Let us count Hashtag and @Mentions present in each sentence."
   ]
  },
  {
   "cell_type": "code",
   "execution_count": 43,
   "id": "f26155be",
   "metadata": {},
   "outputs": [],
   "source": [
    "x='This  #hashtag and this is @mention'\n",
    "\n"
   ]
  },
  {
   "cell_type": "code",
   "execution_count": 44,
   "id": "2ea043cf",
   "metadata": {},
   "outputs": [
    {
     "data": {
      "text/plain": [
       "['@mention']"
      ]
     },
     "execution_count": 44,
     "metadata": {},
     "output_type": "execute_result"
    }
   ],
   "source": [
    "[t for t in x.split() if t.startswith('@')]"
   ]
  },
  {
   "cell_type": "code",
   "execution_count": 45,
   "id": "90c511df",
   "metadata": {},
   "outputs": [],
   "source": [
    "df['hashtags_count']=df['review'].apply(lambda x: len([t for t in str(x).split() if t.startswith('#')]))\n",
    "df['mention_count']=df['review'].apply(lambda x: len([t for t in str(x).split() if t.startswith('@')]))"
   ]
  },
  {
   "cell_type": "code",
   "execution_count": 46,
   "id": "1ad05b08",
   "metadata": {},
   "outputs": [
    {
     "data": {
      "text/html": [
       "<div>\n",
       "<style scoped>\n",
       "    .dataframe tbody tr th:only-of-type {\n",
       "        vertical-align: middle;\n",
       "    }\n",
       "\n",
       "    .dataframe tbody tr th {\n",
       "        vertical-align: top;\n",
       "    }\n",
       "\n",
       "    .dataframe thead th {\n",
       "        text-align: right;\n",
       "    }\n",
       "</style>\n",
       "<table border=\"1\" class=\"dataframe\">\n",
       "  <thead>\n",
       "    <tr style=\"text-align: right;\">\n",
       "      <th></th>\n",
       "      <th>ratings</th>\n",
       "      <th>review</th>\n",
       "      <th>Word_counts</th>\n",
       "      <th>Char_counts</th>\n",
       "      <th>average_word_length</th>\n",
       "      <th>stop_words</th>\n",
       "      <th>hashtags_count</th>\n",
       "      <th>mention_count</th>\n",
       "    </tr>\n",
       "  </thead>\n",
       "  <tbody>\n",
       "    <tr>\n",
       "      <th>0</th>\n",
       "      <td>4.0</td>\n",
       "      <td>i been using this beauty for last 6 days, ordered on big billion days sale, the is brand new not refurbished, got the charger and headset and pin in the box, got them checked in apple service center, the built is truly premium, sophisticated space grey color, it is blazing fast device, never hangs, never get heated, or no lags at all. giving 1 day battery for moderate use, like whatsapp regularly and checking email in intervals, and some calling. this is my 1st  iphone, i came from android, s...</td>\n",
       "      <td>90</td>\n",
       "      <td>500</td>\n",
       "      <td>4.555556</td>\n",
       "      <td>37</td>\n",
       "      <td>0</td>\n",
       "      <td>0</td>\n",
       "    </tr>\n",
       "    <tr>\n",
       "      <th>1</th>\n",
       "      <td>5.0</td>\n",
       "      <td>1st of all guys i don't believe in online shopping specially for the phone (specially apple)</td>\n",
       "      <td>16</td>\n",
       "      <td>92</td>\n",
       "      <td>4.812500</td>\n",
       "      <td>6</td>\n",
       "      <td>0</td>\n",
       "      <td>0</td>\n",
       "    </tr>\n",
       "    <tr>\n",
       "      <th>2</th>\n",
       "      <td>5.0</td>\n",
       "      <td>Super class phone display awesome sounds awesome camera good quality great deals in this price</td>\n",
       "      <td>15</td>\n",
       "      <td>95</td>\n",
       "      <td>5.333333</td>\n",
       "      <td>2</td>\n",
       "      <td>0</td>\n",
       "      <td>0</td>\n",
       "    </tr>\n",
       "    <tr>\n",
       "      <th>3</th>\n",
       "      <td>5.0</td>\n",
       "      <td>On this purchase I got great deal with flipkart thanks flipkart. And its delivered before estimate date so over all its my great experience with flipkart.</td>\n",
       "      <td>26</td>\n",
       "      <td>154</td>\n",
       "      <td>4.961538</td>\n",
       "      <td>10</td>\n",
       "      <td>0</td>\n",
       "      <td>0</td>\n",
       "    </tr>\n",
       "    <tr>\n",
       "      <th>4</th>\n",
       "      <td>4.0</td>\n",
       "      <td>i love the size of this phone. it camera is good love the ios performance is best overall</td>\n",
       "      <td>18</td>\n",
       "      <td>89</td>\n",
       "      <td>4.000000</td>\n",
       "      <td>8</td>\n",
       "      <td>0</td>\n",
       "      <td>0</td>\n",
       "    </tr>\n",
       "  </tbody>\n",
       "</table>\n",
       "</div>"
      ],
      "text/plain": [
       "   ratings  \\\n",
       "0  4.0       \n",
       "1  5.0       \n",
       "2  5.0       \n",
       "3  5.0       \n",
       "4  4.0       \n",
       "\n",
       "                                                                                                                                                                                                                                                                                                                                                                                                                                                                                                                 review  \\\n",
       "0  i been using this beauty for last 6 days, ordered on big billion days sale, the is brand new not refurbished, got the charger and headset and pin in the box, got them checked in apple service center, the built is truly premium, sophisticated space grey color, it is blazing fast device, never hangs, never get heated, or no lags at all. giving 1 day battery for moderate use, like whatsapp regularly and checking email in intervals, and some calling. this is my 1st  iphone, i came from android, s...   \n",
       "1  1st of all guys i don't believe in online shopping specially for the phone (specially apple)                                                                                                                                                                                                                                                                                                                                                                                                                           \n",
       "2  Super class phone display awesome sounds awesome camera good quality great deals in this price                                                                                                                                                                                                                                                                                                                                                                                                                         \n",
       "3  On this purchase I got great deal with flipkart thanks flipkart. And its delivered before estimate date so over all its my great experience with flipkart.                                                                                                                                                                                                                                                                                                                                                             \n",
       "4  i love the size of this phone. it camera is good love the ios performance is best overall                                                                                                                                                                                                                                                                                                                                                                                                                              \n",
       "\n",
       "   Word_counts  Char_counts  average_word_length  stop_words  hashtags_count  \\\n",
       "0  90           500          4.555556             37          0                \n",
       "1  16           92           4.812500             6           0                \n",
       "2  15           95           5.333333             2           0                \n",
       "3  26           154          4.961538             10          0                \n",
       "4  18           89           4.000000             8           0                \n",
       "\n",
       "   mention_count  \n",
       "0  0              \n",
       "1  0              \n",
       "2  0              \n",
       "3  0              \n",
       "4  0              "
      ]
     },
     "execution_count": 46,
     "metadata": {},
     "output_type": "execute_result"
    }
   ],
   "source": [
    "df.head()"
   ]
  },
  {
   "cell_type": "code",
   "execution_count": 47,
   "id": "e725d954",
   "metadata": {},
   "outputs": [
    {
     "data": {
      "text/html": [
       "<div>\n",
       "<style scoped>\n",
       "    .dataframe tbody tr th:only-of-type {\n",
       "        vertical-align: middle;\n",
       "    }\n",
       "\n",
       "    .dataframe tbody tr th {\n",
       "        vertical-align: top;\n",
       "    }\n",
       "\n",
       "    .dataframe thead th {\n",
       "        text-align: right;\n",
       "    }\n",
       "</style>\n",
       "<table border=\"1\" class=\"dataframe\">\n",
       "  <thead>\n",
       "    <tr style=\"text-align: right;\">\n",
       "      <th></th>\n",
       "      <th>ratings</th>\n",
       "      <th>review</th>\n",
       "      <th>Word_counts</th>\n",
       "      <th>Char_counts</th>\n",
       "      <th>average_word_length</th>\n",
       "      <th>stop_words</th>\n",
       "      <th>hashtags_count</th>\n",
       "      <th>mention_count</th>\n",
       "    </tr>\n",
       "  </thead>\n",
       "  <tbody>\n",
       "    <tr>\n",
       "      <th>0</th>\n",
       "      <td>4.0</td>\n",
       "      <td>i been using this beauty for last 6 days, ordered on big billion days sale, the is brand new not refurbished, got the charger and headset and pin in the box, got them checked in apple service center, the built is truly premium, sophisticated space grey color, it is blazing fast device, never hangs, never get heated, or no lags at all. giving 1 day battery for moderate use, like whatsapp regularly and checking email in intervals, and some calling. this is my 1st  iphone, i came from android, s...</td>\n",
       "      <td>90</td>\n",
       "      <td>500</td>\n",
       "      <td>4.555556</td>\n",
       "      <td>37</td>\n",
       "      <td>0</td>\n",
       "      <td>0</td>\n",
       "    </tr>\n",
       "    <tr>\n",
       "      <th>1</th>\n",
       "      <td>5.0</td>\n",
       "      <td>1st of all guys i don't believe in online shopping specially for the phone (specially apple)</td>\n",
       "      <td>16</td>\n",
       "      <td>92</td>\n",
       "      <td>4.812500</td>\n",
       "      <td>6</td>\n",
       "      <td>0</td>\n",
       "      <td>0</td>\n",
       "    </tr>\n",
       "    <tr>\n",
       "      <th>2</th>\n",
       "      <td>5.0</td>\n",
       "      <td>Super class phone display awesome sounds awesome camera good quality great deals in this price</td>\n",
       "      <td>15</td>\n",
       "      <td>95</td>\n",
       "      <td>5.333333</td>\n",
       "      <td>2</td>\n",
       "      <td>0</td>\n",
       "      <td>0</td>\n",
       "    </tr>\n",
       "    <tr>\n",
       "      <th>3</th>\n",
       "      <td>5.0</td>\n",
       "      <td>On this purchase I got great deal with flipkart thanks flipkart. And its delivered before estimate date so over all its my great experience with flipkart.</td>\n",
       "      <td>26</td>\n",
       "      <td>154</td>\n",
       "      <td>4.961538</td>\n",
       "      <td>10</td>\n",
       "      <td>0</td>\n",
       "      <td>0</td>\n",
       "    </tr>\n",
       "    <tr>\n",
       "      <th>4</th>\n",
       "      <td>4.0</td>\n",
       "      <td>i love the size of this phone. it camera is good love the ios performance is best overall</td>\n",
       "      <td>18</td>\n",
       "      <td>89</td>\n",
       "      <td>4.000000</td>\n",
       "      <td>8</td>\n",
       "      <td>0</td>\n",
       "      <td>0</td>\n",
       "    </tr>\n",
       "    <tr>\n",
       "      <th>...</th>\n",
       "      <td>...</td>\n",
       "      <td>...</td>\n",
       "      <td>...</td>\n",
       "      <td>...</td>\n",
       "      <td>...</td>\n",
       "      <td>...</td>\n",
       "      <td>...</td>\n",
       "      <td>...</td>\n",
       "    </tr>\n",
       "    <tr>\n",
       "      <th>2324</th>\n",
       "      <td>4.0</td>\n",
       "      <td>Battery is quite good. Value for money. Camera needs to improve.</td>\n",
       "      <td>11</td>\n",
       "      <td>64</td>\n",
       "      <td>4.909091</td>\n",
       "      <td>4</td>\n",
       "      <td>0</td>\n",
       "      <td>0</td>\n",
       "    </tr>\n",
       "    <tr>\n",
       "      <th>2325</th>\n",
       "      <td>4.0</td>\n",
       "      <td>affordable phone in good price</td>\n",
       "      <td>5</td>\n",
       "      <td>30</td>\n",
       "      <td>5.200000</td>\n",
       "      <td>1</td>\n",
       "      <td>0</td>\n",
       "      <td>0</td>\n",
       "    </tr>\n",
       "    <tr>\n",
       "      <th>2326</th>\n",
       "      <td>5.0</td>\n",
       "      <td>very very bad mobile phone</td>\n",
       "      <td>5</td>\n",
       "      <td>26</td>\n",
       "      <td>4.400000</td>\n",
       "      <td>2</td>\n",
       "      <td>0</td>\n",
       "      <td>0</td>\n",
       "    </tr>\n",
       "    <tr>\n",
       "      <th>2327</th>\n",
       "      <td>5.0</td>\n",
       "      <td>Good product, excellent phone.........</td>\n",
       "      <td>4</td>\n",
       "      <td>38</td>\n",
       "      <td>8.750000</td>\n",
       "      <td>0</td>\n",
       "      <td>0</td>\n",
       "      <td>0</td>\n",
       "    </tr>\n",
       "    <tr>\n",
       "      <th>2328</th>\n",
       "      <td>5.0</td>\n",
       "      <td>Experience Pubg in high graphics</td>\n",
       "      <td>5</td>\n",
       "      <td>32</td>\n",
       "      <td>5.600000</td>\n",
       "      <td>1</td>\n",
       "      <td>0</td>\n",
       "      <td>0</td>\n",
       "    </tr>\n",
       "  </tbody>\n",
       "</table>\n",
       "<p>2328 rows × 8 columns</p>\n",
       "</div>"
      ],
      "text/plain": [
       "      ratings  \\\n",
       "0     4.0       \n",
       "1     5.0       \n",
       "2     5.0       \n",
       "3     5.0       \n",
       "4     4.0       \n",
       "...   ...       \n",
       "2324  4.0       \n",
       "2325  4.0       \n",
       "2326  5.0       \n",
       "2327  5.0       \n",
       "2328  5.0       \n",
       "\n",
       "                                                                                                                                                                                                                                                                                                                                                                                                                                                                                                                    review  \\\n",
       "0     i been using this beauty for last 6 days, ordered on big billion days sale, the is brand new not refurbished, got the charger and headset and pin in the box, got them checked in apple service center, the built is truly premium, sophisticated space grey color, it is blazing fast device, never hangs, never get heated, or no lags at all. giving 1 day battery for moderate use, like whatsapp regularly and checking email in intervals, and some calling. this is my 1st  iphone, i came from android, s...   \n",
       "1     1st of all guys i don't believe in online shopping specially for the phone (specially apple)                                                                                                                                                                                                                                                                                                                                                                                                                           \n",
       "2     Super class phone display awesome sounds awesome camera good quality great deals in this price                                                                                                                                                                                                                                                                                                                                                                                                                         \n",
       "3     On this purchase I got great deal with flipkart thanks flipkart. And its delivered before estimate date so over all its my great experience with flipkart.                                                                                                                                                                                                                                                                                                                                                             \n",
       "4     i love the size of this phone. it camera is good love the ios performance is best overall                                                                                                                                                                                                                                                                                                                                                                                                                              \n",
       "...                                                                                         ...                                                                                                                                                                                                                                                                                                                                                                                                                              \n",
       "2324  Battery is quite good. Value for money. Camera needs to improve.                                                                                                                                                                                                                                                                                                                                                                                                                                                       \n",
       "2325  affordable phone in good price                                                                                                                                                                                                                                                                                                                                                                                                                                                                                         \n",
       "2326  very very bad mobile phone                                                                                                                                                                                                                                                                                                                                                                                                                                                                                             \n",
       "2327  Good product, excellent phone.........                                                                                                                                                                                                                                                                                                                                                                                                                                                                                 \n",
       "2328  Experience Pubg in high graphics                                                                                                                                                                                                                                                                                                                                                                                                                                                                                       \n",
       "\n",
       "      Word_counts  Char_counts  average_word_length  stop_words  \\\n",
       "0     90           500          4.555556             37           \n",
       "1     16           92           4.812500             6            \n",
       "2     15           95           5.333333             2            \n",
       "3     26           154          4.961538             10           \n",
       "4     18           89           4.000000             8            \n",
       "...   ..           ..                ...            ..            \n",
       "2324  11           64           4.909091             4            \n",
       "2325  5            30           5.200000             1            \n",
       "2326  5            26           4.400000             2            \n",
       "2327  4            38           8.750000             0            \n",
       "2328  5            32           5.600000             1            \n",
       "\n",
       "      hashtags_count  mention_count  \n",
       "0     0               0              \n",
       "1     0               0              \n",
       "2     0               0              \n",
       "3     0               0              \n",
       "4     0               0              \n",
       "...  ..              ..              \n",
       "2324  0               0              \n",
       "2325  0               0              \n",
       "2326  0               0              \n",
       "2327  0               0              \n",
       "2328  0               0              \n",
       "\n",
       "[2328 rows x 8 columns]"
      ]
     },
     "execution_count": 47,
     "metadata": {},
     "output_type": "execute_result"
    }
   ],
   "source": [
    "df"
   ]
  },
  {
   "cell_type": "markdown",
   "id": "9a31e57c",
   "metadata": {},
   "source": [
    "# Let us check if numeric digits are present in  any review."
   ]
  },
  {
   "cell_type": "code",
   "execution_count": 48,
   "id": "bca92f7f",
   "metadata": {},
   "outputs": [],
   "source": [
    "#Function to find out whether any given sentence has number or not.\n",
    "def numeric_digit_count(x):\n",
    "    num=[]\n",
    "    for i in str(x).split():\n",
    "        for t in i:\n",
    "            if t.isdigit():\n",
    "                num.append(t)\n",
    "    return len(num)\n",
    "                "
   ]
  },
  {
   "cell_type": "code",
   "execution_count": 49,
   "id": "a9f8019d",
   "metadata": {},
   "outputs": [],
   "source": [
    "df['numeric_count']=df['review'].apply(lambda x :numeric_digit_count(x))"
   ]
  },
  {
   "cell_type": "code",
   "execution_count": 50,
   "id": "d797937f",
   "metadata": {},
   "outputs": [
    {
     "data": {
      "text/html": [
       "<div>\n",
       "<style scoped>\n",
       "    .dataframe tbody tr th:only-of-type {\n",
       "        vertical-align: middle;\n",
       "    }\n",
       "\n",
       "    .dataframe tbody tr th {\n",
       "        vertical-align: top;\n",
       "    }\n",
       "\n",
       "    .dataframe thead th {\n",
       "        text-align: right;\n",
       "    }\n",
       "</style>\n",
       "<table border=\"1\" class=\"dataframe\">\n",
       "  <thead>\n",
       "    <tr style=\"text-align: right;\">\n",
       "      <th></th>\n",
       "      <th>ratings</th>\n",
       "      <th>review</th>\n",
       "      <th>Word_counts</th>\n",
       "      <th>Char_counts</th>\n",
       "      <th>average_word_length</th>\n",
       "      <th>stop_words</th>\n",
       "      <th>hashtags_count</th>\n",
       "      <th>mention_count</th>\n",
       "      <th>numeric_count</th>\n",
       "    </tr>\n",
       "  </thead>\n",
       "  <tbody>\n",
       "    <tr>\n",
       "      <th>0</th>\n",
       "      <td>4.0</td>\n",
       "      <td>i been using this beauty for last 6 days, ordered on big billion days sale, the is brand new not refurbished, got the charger and headset and pin in the box, got them checked in apple service center, the built is truly premium, sophisticated space grey color, it is blazing fast device, never hangs, never get heated, or no lags at all. giving 1 day battery for moderate use, like whatsapp regularly and checking email in intervals, and some calling. this is my 1st  iphone, i came from android, s...</td>\n",
       "      <td>90</td>\n",
       "      <td>500</td>\n",
       "      <td>4.555556</td>\n",
       "      <td>37</td>\n",
       "      <td>0</td>\n",
       "      <td>0</td>\n",
       "      <td>3</td>\n",
       "    </tr>\n",
       "    <tr>\n",
       "      <th>1</th>\n",
       "      <td>5.0</td>\n",
       "      <td>1st of all guys i don't believe in online shopping specially for the phone (specially apple)</td>\n",
       "      <td>16</td>\n",
       "      <td>92</td>\n",
       "      <td>4.812500</td>\n",
       "      <td>6</td>\n",
       "      <td>0</td>\n",
       "      <td>0</td>\n",
       "      <td>1</td>\n",
       "    </tr>\n",
       "    <tr>\n",
       "      <th>2</th>\n",
       "      <td>5.0</td>\n",
       "      <td>Super class phone display awesome sounds awesome camera good quality great deals in this price</td>\n",
       "      <td>15</td>\n",
       "      <td>95</td>\n",
       "      <td>5.333333</td>\n",
       "      <td>2</td>\n",
       "      <td>0</td>\n",
       "      <td>0</td>\n",
       "      <td>0</td>\n",
       "    </tr>\n",
       "    <tr>\n",
       "      <th>3</th>\n",
       "      <td>5.0</td>\n",
       "      <td>On this purchase I got great deal with flipkart thanks flipkart. And its delivered before estimate date so over all its my great experience with flipkart.</td>\n",
       "      <td>26</td>\n",
       "      <td>154</td>\n",
       "      <td>4.961538</td>\n",
       "      <td>10</td>\n",
       "      <td>0</td>\n",
       "      <td>0</td>\n",
       "      <td>0</td>\n",
       "    </tr>\n",
       "    <tr>\n",
       "      <th>4</th>\n",
       "      <td>4.0</td>\n",
       "      <td>i love the size of this phone. it camera is good love the ios performance is best overall</td>\n",
       "      <td>18</td>\n",
       "      <td>89</td>\n",
       "      <td>4.000000</td>\n",
       "      <td>8</td>\n",
       "      <td>0</td>\n",
       "      <td>0</td>\n",
       "      <td>0</td>\n",
       "    </tr>\n",
       "    <tr>\n",
       "      <th>...</th>\n",
       "      <td>...</td>\n",
       "      <td>...</td>\n",
       "      <td>...</td>\n",
       "      <td>...</td>\n",
       "      <td>...</td>\n",
       "      <td>...</td>\n",
       "      <td>...</td>\n",
       "      <td>...</td>\n",
       "      <td>...</td>\n",
       "    </tr>\n",
       "    <tr>\n",
       "      <th>2324</th>\n",
       "      <td>4.0</td>\n",
       "      <td>Battery is quite good. Value for money. Camera needs to improve.</td>\n",
       "      <td>11</td>\n",
       "      <td>64</td>\n",
       "      <td>4.909091</td>\n",
       "      <td>4</td>\n",
       "      <td>0</td>\n",
       "      <td>0</td>\n",
       "      <td>0</td>\n",
       "    </tr>\n",
       "    <tr>\n",
       "      <th>2325</th>\n",
       "      <td>4.0</td>\n",
       "      <td>affordable phone in good price</td>\n",
       "      <td>5</td>\n",
       "      <td>30</td>\n",
       "      <td>5.200000</td>\n",
       "      <td>1</td>\n",
       "      <td>0</td>\n",
       "      <td>0</td>\n",
       "      <td>0</td>\n",
       "    </tr>\n",
       "    <tr>\n",
       "      <th>2326</th>\n",
       "      <td>5.0</td>\n",
       "      <td>very very bad mobile phone</td>\n",
       "      <td>5</td>\n",
       "      <td>26</td>\n",
       "      <td>4.400000</td>\n",
       "      <td>2</td>\n",
       "      <td>0</td>\n",
       "      <td>0</td>\n",
       "      <td>0</td>\n",
       "    </tr>\n",
       "    <tr>\n",
       "      <th>2327</th>\n",
       "      <td>5.0</td>\n",
       "      <td>Good product, excellent phone.........</td>\n",
       "      <td>4</td>\n",
       "      <td>38</td>\n",
       "      <td>8.750000</td>\n",
       "      <td>0</td>\n",
       "      <td>0</td>\n",
       "      <td>0</td>\n",
       "      <td>0</td>\n",
       "    </tr>\n",
       "    <tr>\n",
       "      <th>2328</th>\n",
       "      <td>5.0</td>\n",
       "      <td>Experience Pubg in high graphics</td>\n",
       "      <td>5</td>\n",
       "      <td>32</td>\n",
       "      <td>5.600000</td>\n",
       "      <td>1</td>\n",
       "      <td>0</td>\n",
       "      <td>0</td>\n",
       "      <td>0</td>\n",
       "    </tr>\n",
       "  </tbody>\n",
       "</table>\n",
       "<p>2328 rows × 9 columns</p>\n",
       "</div>"
      ],
      "text/plain": [
       "      ratings  \\\n",
       "0     4.0       \n",
       "1     5.0       \n",
       "2     5.0       \n",
       "3     5.0       \n",
       "4     4.0       \n",
       "...   ...       \n",
       "2324  4.0       \n",
       "2325  4.0       \n",
       "2326  5.0       \n",
       "2327  5.0       \n",
       "2328  5.0       \n",
       "\n",
       "                                                                                                                                                                                                                                                                                                                                                                                                                                                                                                                    review  \\\n",
       "0     i been using this beauty for last 6 days, ordered on big billion days sale, the is brand new not refurbished, got the charger and headset and pin in the box, got them checked in apple service center, the built is truly premium, sophisticated space grey color, it is blazing fast device, never hangs, never get heated, or no lags at all. giving 1 day battery for moderate use, like whatsapp regularly and checking email in intervals, and some calling. this is my 1st  iphone, i came from android, s...   \n",
       "1     1st of all guys i don't believe in online shopping specially for the phone (specially apple)                                                                                                                                                                                                                                                                                                                                                                                                                           \n",
       "2     Super class phone display awesome sounds awesome camera good quality great deals in this price                                                                                                                                                                                                                                                                                                                                                                                                                         \n",
       "3     On this purchase I got great deal with flipkart thanks flipkart. And its delivered before estimate date so over all its my great experience with flipkart.                                                                                                                                                                                                                                                                                                                                                             \n",
       "4     i love the size of this phone. it camera is good love the ios performance is best overall                                                                                                                                                                                                                                                                                                                                                                                                                              \n",
       "...                                                                                         ...                                                                                                                                                                                                                                                                                                                                                                                                                              \n",
       "2324  Battery is quite good. Value for money. Camera needs to improve.                                                                                                                                                                                                                                                                                                                                                                                                                                                       \n",
       "2325  affordable phone in good price                                                                                                                                                                                                                                                                                                                                                                                                                                                                                         \n",
       "2326  very very bad mobile phone                                                                                                                                                                                                                                                                                                                                                                                                                                                                                             \n",
       "2327  Good product, excellent phone.........                                                                                                                                                                                                                                                                                                                                                                                                                                                                                 \n",
       "2328  Experience Pubg in high graphics                                                                                                                                                                                                                                                                                                                                                                                                                                                                                       \n",
       "\n",
       "      Word_counts  Char_counts  average_word_length  stop_words  \\\n",
       "0     90           500          4.555556             37           \n",
       "1     16           92           4.812500             6            \n",
       "2     15           95           5.333333             2            \n",
       "3     26           154          4.961538             10           \n",
       "4     18           89           4.000000             8            \n",
       "...   ..           ..                ...            ..            \n",
       "2324  11           64           4.909091             4            \n",
       "2325  5            30           5.200000             1            \n",
       "2326  5            26           4.400000             2            \n",
       "2327  4            38           8.750000             0            \n",
       "2328  5            32           5.600000             1            \n",
       "\n",
       "      hashtags_count  mention_count  numeric_count  \n",
       "0     0               0              3              \n",
       "1     0               0              1              \n",
       "2     0               0              0              \n",
       "3     0               0              0              \n",
       "4     0               0              0              \n",
       "...  ..              ..             ..              \n",
       "2324  0               0              0              \n",
       "2325  0               0              0              \n",
       "2326  0               0              0              \n",
       "2327  0               0              0              \n",
       "2328  0               0              0              \n",
       "\n",
       "[2328 rows x 9 columns]"
      ]
     },
     "execution_count": 50,
     "metadata": {},
     "output_type": "execute_result"
    }
   ],
   "source": [
    "df"
   ]
  },
  {
   "cell_type": "markdown",
   "id": "4ae393e1",
   "metadata": {},
   "source": [
    "#Let us check if there is any uppercase present in review"
   ]
  },
  {
   "cell_type": "code",
   "execution_count": 51,
   "id": "aad771ec",
   "metadata": {},
   "outputs": [],
   "source": [
    "#Function for checking out whether a given sentence have uppercase or not.\n",
    "def uppercase_alphabet_count(x):\n",
    "    upper_case=[]\n",
    "    for i in str(x).split():\n",
    "        for t in i:\n",
    "            if t.isupper() and len(t)>3:\n",
    "                upper_case.append(t)\n",
    "    return len(upper_case)\n",
    "                "
   ]
  },
  {
   "cell_type": "code",
   "execution_count": null,
   "id": "b7cbf0e8",
   "metadata": {},
   "outputs": [],
   "source": []
  },
  {
   "cell_type": "code",
   "execution_count": 52,
   "id": "4704f218",
   "metadata": {},
   "outputs": [],
   "source": [
    "df['upper_case_alphabet_count']=df['review'].apply(lambda x : uppercase_alphabet_count(x))"
   ]
  },
  {
   "cell_type": "code",
   "execution_count": 53,
   "id": "2c6c9ce8",
   "metadata": {},
   "outputs": [
    {
     "data": {
      "text/html": [
       "<div>\n",
       "<style scoped>\n",
       "    .dataframe tbody tr th:only-of-type {\n",
       "        vertical-align: middle;\n",
       "    }\n",
       "\n",
       "    .dataframe tbody tr th {\n",
       "        vertical-align: top;\n",
       "    }\n",
       "\n",
       "    .dataframe thead th {\n",
       "        text-align: right;\n",
       "    }\n",
       "</style>\n",
       "<table border=\"1\" class=\"dataframe\">\n",
       "  <thead>\n",
       "    <tr style=\"text-align: right;\">\n",
       "      <th></th>\n",
       "      <th>ratings</th>\n",
       "      <th>review</th>\n",
       "      <th>Word_counts</th>\n",
       "      <th>Char_counts</th>\n",
       "      <th>average_word_length</th>\n",
       "      <th>stop_words</th>\n",
       "      <th>hashtags_count</th>\n",
       "      <th>mention_count</th>\n",
       "      <th>numeric_count</th>\n",
       "      <th>upper_case_alphabet_count</th>\n",
       "    </tr>\n",
       "  </thead>\n",
       "  <tbody>\n",
       "    <tr>\n",
       "      <th>0</th>\n",
       "      <td>4.0</td>\n",
       "      <td>i been using this beauty for last 6 days, ordered on big billion days sale, the is brand new not refurbished, got the charger and headset and pin in the box, got them checked in apple service center, the built is truly premium, sophisticated space grey color, it is blazing fast device, never hangs, never get heated, or no lags at all. giving 1 day battery for moderate use, like whatsapp regularly and checking email in intervals, and some calling. this is my 1st  iphone, i came from android, s...</td>\n",
       "      <td>90</td>\n",
       "      <td>500</td>\n",
       "      <td>4.555556</td>\n",
       "      <td>37</td>\n",
       "      <td>0</td>\n",
       "      <td>0</td>\n",
       "      <td>3</td>\n",
       "      <td>0</td>\n",
       "    </tr>\n",
       "    <tr>\n",
       "      <th>1</th>\n",
       "      <td>5.0</td>\n",
       "      <td>1st of all guys i don't believe in online shopping specially for the phone (specially apple)</td>\n",
       "      <td>16</td>\n",
       "      <td>92</td>\n",
       "      <td>4.812500</td>\n",
       "      <td>6</td>\n",
       "      <td>0</td>\n",
       "      <td>0</td>\n",
       "      <td>1</td>\n",
       "      <td>0</td>\n",
       "    </tr>\n",
       "    <tr>\n",
       "      <th>2</th>\n",
       "      <td>5.0</td>\n",
       "      <td>Super class phone display awesome sounds awesome camera good quality great deals in this price</td>\n",
       "      <td>15</td>\n",
       "      <td>95</td>\n",
       "      <td>5.333333</td>\n",
       "      <td>2</td>\n",
       "      <td>0</td>\n",
       "      <td>0</td>\n",
       "      <td>0</td>\n",
       "      <td>0</td>\n",
       "    </tr>\n",
       "    <tr>\n",
       "      <th>3</th>\n",
       "      <td>5.0</td>\n",
       "      <td>On this purchase I got great deal with flipkart thanks flipkart. And its delivered before estimate date so over all its my great experience with flipkart.</td>\n",
       "      <td>26</td>\n",
       "      <td>154</td>\n",
       "      <td>4.961538</td>\n",
       "      <td>10</td>\n",
       "      <td>0</td>\n",
       "      <td>0</td>\n",
       "      <td>0</td>\n",
       "      <td>0</td>\n",
       "    </tr>\n",
       "    <tr>\n",
       "      <th>4</th>\n",
       "      <td>4.0</td>\n",
       "      <td>i love the size of this phone. it camera is good love the ios performance is best overall</td>\n",
       "      <td>18</td>\n",
       "      <td>89</td>\n",
       "      <td>4.000000</td>\n",
       "      <td>8</td>\n",
       "      <td>0</td>\n",
       "      <td>0</td>\n",
       "      <td>0</td>\n",
       "      <td>0</td>\n",
       "    </tr>\n",
       "  </tbody>\n",
       "</table>\n",
       "</div>"
      ],
      "text/plain": [
       "   ratings  \\\n",
       "0  4.0       \n",
       "1  5.0       \n",
       "2  5.0       \n",
       "3  5.0       \n",
       "4  4.0       \n",
       "\n",
       "                                                                                                                                                                                                                                                                                                                                                                                                                                                                                                                 review  \\\n",
       "0  i been using this beauty for last 6 days, ordered on big billion days sale, the is brand new not refurbished, got the charger and headset and pin in the box, got them checked in apple service center, the built is truly premium, sophisticated space grey color, it is blazing fast device, never hangs, never get heated, or no lags at all. giving 1 day battery for moderate use, like whatsapp regularly and checking email in intervals, and some calling. this is my 1st  iphone, i came from android, s...   \n",
       "1  1st of all guys i don't believe in online shopping specially for the phone (specially apple)                                                                                                                                                                                                                                                                                                                                                                                                                           \n",
       "2  Super class phone display awesome sounds awesome camera good quality great deals in this price                                                                                                                                                                                                                                                                                                                                                                                                                         \n",
       "3  On this purchase I got great deal with flipkart thanks flipkart. And its delivered before estimate date so over all its my great experience with flipkart.                                                                                                                                                                                                                                                                                                                                                             \n",
       "4  i love the size of this phone. it camera is good love the ios performance is best overall                                                                                                                                                                                                                                                                                                                                                                                                                              \n",
       "\n",
       "   Word_counts  Char_counts  average_word_length  stop_words  hashtags_count  \\\n",
       "0  90           500          4.555556             37          0                \n",
       "1  16           92           4.812500             6           0                \n",
       "2  15           95           5.333333             2           0                \n",
       "3  26           154          4.961538             10          0                \n",
       "4  18           89           4.000000             8           0                \n",
       "\n",
       "   mention_count  numeric_count  upper_case_alphabet_count  \n",
       "0  0              3              0                          \n",
       "1  0              1              0                          \n",
       "2  0              0              0                          \n",
       "3  0              0              0                          \n",
       "4  0              0              0                          "
      ]
     },
     "execution_count": 53,
     "metadata": {},
     "output_type": "execute_result"
    }
   ],
   "source": [
    "df.head()"
   ]
  },
  {
   "cell_type": "code",
   "execution_count": 54,
   "id": "cd3bddc3",
   "metadata": {},
   "outputs": [
    {
     "data": {
      "text/plain": [
       "'aswome phone'"
      ]
     },
     "execution_count": 54,
     "metadata": {},
     "output_type": "execute_result"
    }
   ],
   "source": [
    "df.loc[330]['review']"
   ]
  },
  {
   "cell_type": "markdown",
   "id": "8597ce3a",
   "metadata": {},
   "source": [
    "# Let us do!!!! Preprocessing & Cleaning on the dataset."
   ]
  },
  {
   "cell_type": "markdown",
   "id": "c008ed9d",
   "metadata": {},
   "source": [
    "Converting all upper cases into lower cases"
   ]
  },
  {
   "cell_type": "code",
   "execution_count": 55,
   "id": "85dbe274",
   "metadata": {},
   "outputs": [],
   "source": [
    "df['review']=df['review'].apply(lambda x : str(x).lower())"
   ]
  },
  {
   "cell_type": "code",
   "execution_count": 56,
   "id": "e795dffb",
   "metadata": {},
   "outputs": [
    {
     "data": {
      "text/html": [
       "<div>\n",
       "<style scoped>\n",
       "    .dataframe tbody tr th:only-of-type {\n",
       "        vertical-align: middle;\n",
       "    }\n",
       "\n",
       "    .dataframe tbody tr th {\n",
       "        vertical-align: top;\n",
       "    }\n",
       "\n",
       "    .dataframe thead th {\n",
       "        text-align: right;\n",
       "    }\n",
       "</style>\n",
       "<table border=\"1\" class=\"dataframe\">\n",
       "  <thead>\n",
       "    <tr style=\"text-align: right;\">\n",
       "      <th></th>\n",
       "      <th>ratings</th>\n",
       "      <th>review</th>\n",
       "      <th>Word_counts</th>\n",
       "      <th>Char_counts</th>\n",
       "      <th>average_word_length</th>\n",
       "      <th>stop_words</th>\n",
       "      <th>hashtags_count</th>\n",
       "      <th>mention_count</th>\n",
       "      <th>numeric_count</th>\n",
       "      <th>upper_case_alphabet_count</th>\n",
       "    </tr>\n",
       "  </thead>\n",
       "  <tbody>\n",
       "    <tr>\n",
       "      <th>0</th>\n",
       "      <td>4.0</td>\n",
       "      <td>i been using this beauty for last 6 days, ordered on big billion days sale, the is brand new not refurbished, got the charger and headset and pin in the box, got them checked in apple service center, the built is truly premium, sophisticated space grey color, it is blazing fast device, never hangs, never get heated, or no lags at all. giving 1 day battery for moderate use, like whatsapp regularly and checking email in intervals, and some calling. this is my 1st  iphone, i came from android, s...</td>\n",
       "      <td>90</td>\n",
       "      <td>500</td>\n",
       "      <td>4.555556</td>\n",
       "      <td>37</td>\n",
       "      <td>0</td>\n",
       "      <td>0</td>\n",
       "      <td>3</td>\n",
       "      <td>0</td>\n",
       "    </tr>\n",
       "    <tr>\n",
       "      <th>1</th>\n",
       "      <td>5.0</td>\n",
       "      <td>1st of all guys i don't believe in online shopping specially for the phone (specially apple)</td>\n",
       "      <td>16</td>\n",
       "      <td>92</td>\n",
       "      <td>4.812500</td>\n",
       "      <td>6</td>\n",
       "      <td>0</td>\n",
       "      <td>0</td>\n",
       "      <td>1</td>\n",
       "      <td>0</td>\n",
       "    </tr>\n",
       "    <tr>\n",
       "      <th>2</th>\n",
       "      <td>5.0</td>\n",
       "      <td>super class phone display awesome sounds awesome camera good quality great deals in this price</td>\n",
       "      <td>15</td>\n",
       "      <td>95</td>\n",
       "      <td>5.333333</td>\n",
       "      <td>2</td>\n",
       "      <td>0</td>\n",
       "      <td>0</td>\n",
       "      <td>0</td>\n",
       "      <td>0</td>\n",
       "    </tr>\n",
       "    <tr>\n",
       "      <th>3</th>\n",
       "      <td>5.0</td>\n",
       "      <td>on this purchase i got great deal with flipkart thanks flipkart. and its delivered before estimate date so over all its my great experience with flipkart.</td>\n",
       "      <td>26</td>\n",
       "      <td>154</td>\n",
       "      <td>4.961538</td>\n",
       "      <td>10</td>\n",
       "      <td>0</td>\n",
       "      <td>0</td>\n",
       "      <td>0</td>\n",
       "      <td>0</td>\n",
       "    </tr>\n",
       "    <tr>\n",
       "      <th>4</th>\n",
       "      <td>4.0</td>\n",
       "      <td>i love the size of this phone. it camera is good love the ios performance is best overall</td>\n",
       "      <td>18</td>\n",
       "      <td>89</td>\n",
       "      <td>4.000000</td>\n",
       "      <td>8</td>\n",
       "      <td>0</td>\n",
       "      <td>0</td>\n",
       "      <td>0</td>\n",
       "      <td>0</td>\n",
       "    </tr>\n",
       "  </tbody>\n",
       "</table>\n",
       "</div>"
      ],
      "text/plain": [
       "   ratings  \\\n",
       "0  4.0       \n",
       "1  5.0       \n",
       "2  5.0       \n",
       "3  5.0       \n",
       "4  4.0       \n",
       "\n",
       "                                                                                                                                                                                                                                                                                                                                                                                                                                                                                                                 review  \\\n",
       "0  i been using this beauty for last 6 days, ordered on big billion days sale, the is brand new not refurbished, got the charger and headset and pin in the box, got them checked in apple service center, the built is truly premium, sophisticated space grey color, it is blazing fast device, never hangs, never get heated, or no lags at all. giving 1 day battery for moderate use, like whatsapp regularly and checking email in intervals, and some calling. this is my 1st  iphone, i came from android, s...   \n",
       "1  1st of all guys i don't believe in online shopping specially for the phone (specially apple)                                                                                                                                                                                                                                                                                                                                                                                                                           \n",
       "2  super class phone display awesome sounds awesome camera good quality great deals in this price                                                                                                                                                                                                                                                                                                                                                                                                                         \n",
       "3  on this purchase i got great deal with flipkart thanks flipkart. and its delivered before estimate date so over all its my great experience with flipkart.                                                                                                                                                                                                                                                                                                                                                             \n",
       "4  i love the size of this phone. it camera is good love the ios performance is best overall                                                                                                                                                                                                                                                                                                                                                                                                                              \n",
       "\n",
       "   Word_counts  Char_counts  average_word_length  stop_words  hashtags_count  \\\n",
       "0  90           500          4.555556             37          0                \n",
       "1  16           92           4.812500             6           0                \n",
       "2  15           95           5.333333             2           0                \n",
       "3  26           154          4.961538             10          0                \n",
       "4  18           89           4.000000             8           0                \n",
       "\n",
       "   mention_count  numeric_count  upper_case_alphabet_count  \n",
       "0  0              3              0                          \n",
       "1  0              1              0                          \n",
       "2  0              0              0                          \n",
       "3  0              0              0                          \n",
       "4  0              0              0                          "
      ]
     },
     "execution_count": 56,
     "metadata": {},
     "output_type": "execute_result"
    }
   ],
   "source": [
    "df.head()"
   ]
  },
  {
   "cell_type": "markdown",
   "id": "ae084dca",
   "metadata": {},
   "source": [
    "# Let us do the expansion of the contracted english words"
   ]
  },
  {
   "cell_type": "code",
   "execution_count": 59,
   "id": "0ebcad0b",
   "metadata": {},
   "outputs": [],
   "source": [
    "#Dictionary of the contractions.\n",
    "contractions = { \n",
    "\"ain't\": \"am not\",\n",
    "\"aren't\": \"are not\",\n",
    "\"can't\": \"cannot\",\n",
    "\"can't've\": \"cannot have\",\n",
    "\"cause\": \"because\",\n",
    "\"could've\": \"could have\",\n",
    "\"couldn't\": \"could not\",\n",
    "\"couldn't've\": \"could not have\",\n",
    "\"didn't\": \"did not\",\n",
    "\"doesn't\": \"does not\",\n",
    "\"don't\": \"do not\",\n",
    "\"hadn't\": \"had not\",\n",
    "\"hadn't've\": \"had not have\",\n",
    "\"hasn't\": \"has not\",\n",
    "\"haven't\": \"have not\",\n",
    "\"he'd\": \"he had\",\n",
    "\"he'd've\": \"he would have\",\n",
    "\"he'll\": \"he shall\",\n",
    "\"he'll've\": \"he shall have\",\n",
    "\"he's\": \"he has\",\n",
    "\"how'd\": \"how did\",\n",
    "\"how'd'y\": \"how do you\",\n",
    "\"how'll\": \"how will\",\n",
    "\"how's\": \"how has\",\n",
    "\"i'd\": \"i would\",\n",
    "\"i'd've\": \"i would have\",\n",
    "\"i'll\": \"i will\",\n",
    "\"i'll've\": \"i will have\",\n",
    "\"i'm\": \"i am\",\n",
    "\"i've\": \"i have\",\n",
    "\"isn't\": \"is not\",\n",
    "\"it'd\": \"it would\",\n",
    "\"it'd've\": \"it would have\",\n",
    "\"it'll\": \"it will\",\n",
    "\"it'll've\": \"it will have\",\n",
    "\"it's\": \"it is\",\n",
    "\"let's\": \"let us\",\n",
    "\"ma'am\": \"madam\",\n",
    "\"mayn't\": \"may not\",\n",
    "\"might've\": \"might have\",\n",
    "\"mightn't\": \"might not\",\n",
    "\"mightn't've\": \"might not have\",\n",
    "\"must've\": \"must have\",\n",
    "\"mustn't\": \"must not\",\n",
    "\"mustn't've\": \"must not have\",\n",
    "\"needn't\": \"need not\",\n",
    "\"needn't've\": \"need not have\",\n",
    "\"o'clock\": \"of the clock\",\n",
    "\"oughtn't\": \"ought not\",\n",
    "\"oughtn't've\": \"ought not have\",\n",
    "\"shan't\": \"shall not\",\n",
    "\"sha'n't\": \"shall not\",\n",
    "\"shan't've\": \"shall not have\",\n",
    "\"she'd\": \"she would\",\n",
    "\"she'd've\": \"she would have\",\n",
    "\"she'll\": \"she will\",\n",
    "\"she'll've\": \"she will have\",\n",
    "\"she's\": \"she is\",\n",
    "\"should've\": \"should have\",\n",
    "\"shouldn't\": \"should not\",\n",
    "\"shouldn't've\": \"should not have\",\n",
    "\"so've\": \"so have\",\n",
    "\"so's\": \"so is\",\n",
    "\"that'd\": \"that would\",\n",
    "\"that'd've\": \"that would have\",\n",
    "\"that's\": \"that is\",\n",
    "\"there'd\": \"there would\",\n",
    "\"there'd've\": \"there would have\",\n",
    "\"there's\": \"there is\",\n",
    "\"they'd\": \"they would\",\n",
    "\"they'd've\": \"they would have\",\n",
    "\"they'll\": \"they will\",\n",
    "\"they'll've\": \"they will have\",\n",
    "\"they're\": \"they are\",\n",
    "\"they've\": \"they have\",\n",
    "\"to've\": \"to have\",\n",
    "\"wasn't\": \"was not\",\n",
    "\"we'd\": \"we would\",\n",
    "\"we'd've\": \"we would have\",\n",
    "\"we'll\": \"we will\",\n",
    "\"we'll've\": \"we will have\",\n",
    "\"we're\": \"we are\",\n",
    "\"we've\": \"we have\",\n",
    "\"weren't\": \"were not\",\n",
    "\"what'll\": \"what will\",\n",
    "\"what'll've\": \"what will have\",\n",
    "\"what're\": \"what are\",\n",
    "\"what's\": \"what is\",\n",
    "\"what've\": \"what have\",\n",
    "\"when's\": \"when is\",\n",
    "\"when've\": \"when have\",\n",
    "\"where'd\": \"where did\",\n",
    "\"where's\": \"where is\",\n",
    "\"where've\": \"where have\",\n",
    "\"who'll\": \"who will\",\n",
    "\"who'll've\": \"who will have\",\n",
    "\"who's\": \"who is\",\n",
    "\"who've\": \"who have\",\n",
    "\"why's\": \"why is\",\n",
    "\"why've\": \"why have\",\n",
    "\"will've\": \"will have\",\n",
    "\"won't\": \"will not\",\n",
    "\"won't've\": \"will not have\",\n",
    "\"would've\": \"would have\",\n",
    "\"wouldn't\": \"would not\",\n",
    "\"wouldn't've\": \"would not have\",\n",
    "\"y'all\": \"you all\",\n",
    "\"y'all'd\": \"you all would\",\n",
    "\"y'all'd've\": \"you all would have\",\n",
    "\"y'all're\": \"you all are\",\n",
    "\"y'all've\": \"you all have\",\n",
    "\"you'd\": \"you would\",\n",
    "\"you'd've\": \"you would have\",\n",
    "\"you'll\": \"you will\",\n",
    "\"you'll've\": \"you will have\",\n",
    "\"you're\": \"you are\",\n",
    "\"you've\": \"you have\",\n",
    "\" u \" : \" you \",\n",
    "\" ur \" : \" your \",\n",
    "\" n \" : \" and \",\n",
    "\" i'd \" : \"i would \"\n",
    "}"
   ]
  },
  {
   "cell_type": "code",
   "execution_count": 60,
   "id": "3509cadd",
   "metadata": {},
   "outputs": [
    {
     "data": {
      "text/plain": [
       "121"
      ]
     },
     "execution_count": 60,
     "metadata": {},
     "output_type": "execute_result"
    }
   ],
   "source": [
    "len(contractions)"
   ]
  },
  {
   "cell_type": "code",
   "execution_count": 61,
   "id": "0edf012d",
   "metadata": {},
   "outputs": [],
   "source": [
    "#Function to replace the contraction words with expansion words.\n",
    "def cont_to_expansion(x):\n",
    "    if type(x) is str:\n",
    "        for key in contractions:\n",
    "            value=contractions[key]\n",
    "            x=x.replace(key,value)\n",
    "        return x\n",
    "    else:\n",
    "        return x"
   ]
  },
  {
   "cell_type": "code",
   "execution_count": 62,
   "id": "53db2375",
   "metadata": {},
   "outputs": [],
   "source": [
    "x=\"hi, i'd be happy\""
   ]
  },
  {
   "cell_type": "code",
   "execution_count": 63,
   "id": "bd2d94de",
   "metadata": {},
   "outputs": [
    {
     "data": {
      "text/plain": [
       "'hi, i would be happy'"
      ]
     },
     "execution_count": 63,
     "metadata": {},
     "output_type": "execute_result"
    }
   ],
   "source": [
    "cont_to_expansion(x)"
   ]
  },
  {
   "cell_type": "code",
   "execution_count": 64,
   "id": "38c0cc13",
   "metadata": {},
   "outputs": [
    {
     "name": "stdout",
     "output_type": "stream",
     "text": [
      "Wall time: 121 ms\n"
     ]
    }
   ],
   "source": [
    "%%time\n",
    "df['review']=df['review'].apply(lambda x:cont_to_expansion(x))"
   ]
  },
  {
   "cell_type": "code",
   "execution_count": 65,
   "id": "189253e8",
   "metadata": {},
   "outputs": [
    {
     "data": {
      "text/html": [
       "<div>\n",
       "<style scoped>\n",
       "    .dataframe tbody tr th:only-of-type {\n",
       "        vertical-align: middle;\n",
       "    }\n",
       "\n",
       "    .dataframe tbody tr th {\n",
       "        vertical-align: top;\n",
       "    }\n",
       "\n",
       "    .dataframe thead th {\n",
       "        text-align: right;\n",
       "    }\n",
       "</style>\n",
       "<table border=\"1\" class=\"dataframe\">\n",
       "  <thead>\n",
       "    <tr style=\"text-align: right;\">\n",
       "      <th></th>\n",
       "      <th>ratings</th>\n",
       "      <th>review</th>\n",
       "      <th>Word_counts</th>\n",
       "      <th>Char_counts</th>\n",
       "      <th>average_word_length</th>\n",
       "      <th>stop_words</th>\n",
       "      <th>hashtags_count</th>\n",
       "      <th>mention_count</th>\n",
       "      <th>numeric_count</th>\n",
       "      <th>upper_case_alphabet_count</th>\n",
       "    </tr>\n",
       "  </thead>\n",
       "  <tbody>\n",
       "    <tr>\n",
       "      <th>0</th>\n",
       "      <td>4.0</td>\n",
       "      <td>i been using this beauty for last 6 days, ordered on big billion days sale, the is brand new not refurbished, got the charger and headset and pin in the box, got them checked in apple service center, the built is truly premium, sophisticated space grey color, it is blazing fast device, never hangs, never get heated, or no lags at all. giving 1 day battery for moderate use, like whatsapp regularly and checking email in intervals, and some calling. this is my 1st  iphone, i came from android, s...</td>\n",
       "      <td>90</td>\n",
       "      <td>500</td>\n",
       "      <td>4.555556</td>\n",
       "      <td>37</td>\n",
       "      <td>0</td>\n",
       "      <td>0</td>\n",
       "      <td>3</td>\n",
       "      <td>0</td>\n",
       "    </tr>\n",
       "    <tr>\n",
       "      <th>1</th>\n",
       "      <td>5.0</td>\n",
       "      <td>1st of all guys i do not believe in online shopping specially for the phone (specially apple)</td>\n",
       "      <td>16</td>\n",
       "      <td>92</td>\n",
       "      <td>4.812500</td>\n",
       "      <td>6</td>\n",
       "      <td>0</td>\n",
       "      <td>0</td>\n",
       "      <td>1</td>\n",
       "      <td>0</td>\n",
       "    </tr>\n",
       "    <tr>\n",
       "      <th>2</th>\n",
       "      <td>5.0</td>\n",
       "      <td>super class phone display awesome sounds awesome camera good quality great deals in this price</td>\n",
       "      <td>15</td>\n",
       "      <td>95</td>\n",
       "      <td>5.333333</td>\n",
       "      <td>2</td>\n",
       "      <td>0</td>\n",
       "      <td>0</td>\n",
       "      <td>0</td>\n",
       "      <td>0</td>\n",
       "    </tr>\n",
       "    <tr>\n",
       "      <th>3</th>\n",
       "      <td>5.0</td>\n",
       "      <td>on this purchase i got great deal with flipkart thanks flipkart. and its delivered before estimate date so over all its my great experience with flipkart.</td>\n",
       "      <td>26</td>\n",
       "      <td>154</td>\n",
       "      <td>4.961538</td>\n",
       "      <td>10</td>\n",
       "      <td>0</td>\n",
       "      <td>0</td>\n",
       "      <td>0</td>\n",
       "      <td>0</td>\n",
       "    </tr>\n",
       "    <tr>\n",
       "      <th>4</th>\n",
       "      <td>4.0</td>\n",
       "      <td>i love the size of this phone. it camera is good love the ios performance is best overall</td>\n",
       "      <td>18</td>\n",
       "      <td>89</td>\n",
       "      <td>4.000000</td>\n",
       "      <td>8</td>\n",
       "      <td>0</td>\n",
       "      <td>0</td>\n",
       "      <td>0</td>\n",
       "      <td>0</td>\n",
       "    </tr>\n",
       "    <tr>\n",
       "      <th>...</th>\n",
       "      <td>...</td>\n",
       "      <td>...</td>\n",
       "      <td>...</td>\n",
       "      <td>...</td>\n",
       "      <td>...</td>\n",
       "      <td>...</td>\n",
       "      <td>...</td>\n",
       "      <td>...</td>\n",
       "      <td>...</td>\n",
       "      <td>...</td>\n",
       "    </tr>\n",
       "    <tr>\n",
       "      <th>2324</th>\n",
       "      <td>4.0</td>\n",
       "      <td>battery is quite good. value for money. camera needs to improve.</td>\n",
       "      <td>11</td>\n",
       "      <td>64</td>\n",
       "      <td>4.909091</td>\n",
       "      <td>4</td>\n",
       "      <td>0</td>\n",
       "      <td>0</td>\n",
       "      <td>0</td>\n",
       "      <td>0</td>\n",
       "    </tr>\n",
       "    <tr>\n",
       "      <th>2325</th>\n",
       "      <td>4.0</td>\n",
       "      <td>affordable phone in good price</td>\n",
       "      <td>5</td>\n",
       "      <td>30</td>\n",
       "      <td>5.200000</td>\n",
       "      <td>1</td>\n",
       "      <td>0</td>\n",
       "      <td>0</td>\n",
       "      <td>0</td>\n",
       "      <td>0</td>\n",
       "    </tr>\n",
       "    <tr>\n",
       "      <th>2326</th>\n",
       "      <td>5.0</td>\n",
       "      <td>very very bad mobile phone</td>\n",
       "      <td>5</td>\n",
       "      <td>26</td>\n",
       "      <td>4.400000</td>\n",
       "      <td>2</td>\n",
       "      <td>0</td>\n",
       "      <td>0</td>\n",
       "      <td>0</td>\n",
       "      <td>0</td>\n",
       "    </tr>\n",
       "    <tr>\n",
       "      <th>2327</th>\n",
       "      <td>5.0</td>\n",
       "      <td>good product, excellent phone.........</td>\n",
       "      <td>4</td>\n",
       "      <td>38</td>\n",
       "      <td>8.750000</td>\n",
       "      <td>0</td>\n",
       "      <td>0</td>\n",
       "      <td>0</td>\n",
       "      <td>0</td>\n",
       "      <td>0</td>\n",
       "    </tr>\n",
       "    <tr>\n",
       "      <th>2328</th>\n",
       "      <td>5.0</td>\n",
       "      <td>experience pubg in high graphics</td>\n",
       "      <td>5</td>\n",
       "      <td>32</td>\n",
       "      <td>5.600000</td>\n",
       "      <td>1</td>\n",
       "      <td>0</td>\n",
       "      <td>0</td>\n",
       "      <td>0</td>\n",
       "      <td>0</td>\n",
       "    </tr>\n",
       "  </tbody>\n",
       "</table>\n",
       "<p>2328 rows × 10 columns</p>\n",
       "</div>"
      ],
      "text/plain": [
       "      ratings  \\\n",
       "0     4.0       \n",
       "1     5.0       \n",
       "2     5.0       \n",
       "3     5.0       \n",
       "4     4.0       \n",
       "...   ...       \n",
       "2324  4.0       \n",
       "2325  4.0       \n",
       "2326  5.0       \n",
       "2327  5.0       \n",
       "2328  5.0       \n",
       "\n",
       "                                                                                                                                                                                                                                                                                                                                                                                                                                                                                                                    review  \\\n",
       "0     i been using this beauty for last 6 days, ordered on big billion days sale, the is brand new not refurbished, got the charger and headset and pin in the box, got them checked in apple service center, the built is truly premium, sophisticated space grey color, it is blazing fast device, never hangs, never get heated, or no lags at all. giving 1 day battery for moderate use, like whatsapp regularly and checking email in intervals, and some calling. this is my 1st  iphone, i came from android, s...   \n",
       "1     1st of all guys i do not believe in online shopping specially for the phone (specially apple)                                                                                                                                                                                                                                                                                                                                                                                                                          \n",
       "2     super class phone display awesome sounds awesome camera good quality great deals in this price                                                                                                                                                                                                                                                                                                                                                                                                                         \n",
       "3     on this purchase i got great deal with flipkart thanks flipkart. and its delivered before estimate date so over all its my great experience with flipkart.                                                                                                                                                                                                                                                                                                                                                             \n",
       "4     i love the size of this phone. it camera is good love the ios performance is best overall                                                                                                                                                                                                                                                                                                                                                                                                                              \n",
       "...                                                                                         ...                                                                                                                                                                                                                                                                                                                                                                                                                              \n",
       "2324  battery is quite good. value for money. camera needs to improve.                                                                                                                                                                                                                                                                                                                                                                                                                                                       \n",
       "2325  affordable phone in good price                                                                                                                                                                                                                                                                                                                                                                                                                                                                                         \n",
       "2326  very very bad mobile phone                                                                                                                                                                                                                                                                                                                                                                                                                                                                                             \n",
       "2327  good product, excellent phone.........                                                                                                                                                                                                                                                                                                                                                                                                                                                                                 \n",
       "2328  experience pubg in high graphics                                                                                                                                                                                                                                                                                                                                                                                                                                                                                       \n",
       "\n",
       "      Word_counts  Char_counts  average_word_length  stop_words  \\\n",
       "0     90           500          4.555556             37           \n",
       "1     16           92           4.812500             6            \n",
       "2     15           95           5.333333             2            \n",
       "3     26           154          4.961538             10           \n",
       "4     18           89           4.000000             8            \n",
       "...   ..           ..                ...            ..            \n",
       "2324  11           64           4.909091             4            \n",
       "2325  5            30           5.200000             1            \n",
       "2326  5            26           4.400000             2            \n",
       "2327  4            38           8.750000             0            \n",
       "2328  5            32           5.600000             1            \n",
       "\n",
       "      hashtags_count  mention_count  numeric_count  upper_case_alphabet_count  \n",
       "0     0               0              3              0                          \n",
       "1     0               0              1              0                          \n",
       "2     0               0              0              0                          \n",
       "3     0               0              0              0                          \n",
       "4     0               0              0              0                          \n",
       "...  ..              ..             ..             ..                          \n",
       "2324  0               0              0              0                          \n",
       "2325  0               0              0              0                          \n",
       "2326  0               0              0              0                          \n",
       "2327  0               0              0              0                          \n",
       "2328  0               0              0              0                          \n",
       "\n",
       "[2328 rows x 10 columns]"
      ]
     },
     "execution_count": 65,
     "metadata": {},
     "output_type": "execute_result"
    }
   ],
   "source": [
    "df"
   ]
  },
  {
   "cell_type": "markdown",
   "id": "074969d4",
   "metadata": {},
   "source": [
    "# Let us Counts and Remove Emails using regex module of python"
   ]
  },
  {
   "cell_type": "code",
   "execution_count": 66,
   "id": "54573d47",
   "metadata": {},
   "outputs": [],
   "source": [
    "import re"
   ]
  },
  {
   "cell_type": "code",
   "execution_count": 67,
   "id": "5c1b41e1",
   "metadata": {},
   "outputs": [],
   "source": [
    "x='hi my email me at email@email.com and kamlesh@yahoo.com'"
   ]
  },
  {
   "cell_type": "code",
   "execution_count": 68,
   "id": "57f56726",
   "metadata": {},
   "outputs": [
    {
     "data": {
      "text/plain": [
       "['email@email.com', 'kamlesh@yahoo.com']"
      ]
     },
     "execution_count": 68,
     "metadata": {},
     "output_type": "execute_result"
    }
   ],
   "source": [
    "re.findall(r'([a-zA-Z0-9+._-]+@[a-zA-Z0-9._-]+\\.[a-zA-Z0-9_-]+)',x)"
   ]
  },
  {
   "cell_type": "code",
   "execution_count": 69,
   "id": "fc25e514",
   "metadata": {},
   "outputs": [],
   "source": [
    "#Function to get number of email ids present in each row.\n",
    "df['emails']=df['review'].apply(lambda x: re.findall(r'([a-zA-Z0-9+._-]+@[a-zA-Z0-9._-]+\\.[a-zA-Z0-9_-]+)',x))"
   ]
  },
  {
   "cell_type": "markdown",
   "id": "fe95d994",
   "metadata": {},
   "source": []
  },
  {
   "cell_type": "code",
   "execution_count": 70,
   "id": "aceed82e",
   "metadata": {},
   "outputs": [],
   "source": [
    "#Counting those emails\n",
    "df['emails_count']=df['emails'].apply(lambda x : len(x) )"
   ]
  },
  {
   "cell_type": "code",
   "execution_count": 71,
   "id": "54d39bcb",
   "metadata": {},
   "outputs": [
    {
     "data": {
      "text/html": [
       "<div>\n",
       "<style scoped>\n",
       "    .dataframe tbody tr th:only-of-type {\n",
       "        vertical-align: middle;\n",
       "    }\n",
       "\n",
       "    .dataframe tbody tr th {\n",
       "        vertical-align: top;\n",
       "    }\n",
       "\n",
       "    .dataframe thead th {\n",
       "        text-align: right;\n",
       "    }\n",
       "</style>\n",
       "<table border=\"1\" class=\"dataframe\">\n",
       "  <thead>\n",
       "    <tr style=\"text-align: right;\">\n",
       "      <th></th>\n",
       "      <th>ratings</th>\n",
       "      <th>review</th>\n",
       "      <th>Word_counts</th>\n",
       "      <th>Char_counts</th>\n",
       "      <th>average_word_length</th>\n",
       "      <th>stop_words</th>\n",
       "      <th>hashtags_count</th>\n",
       "      <th>mention_count</th>\n",
       "      <th>numeric_count</th>\n",
       "      <th>upper_case_alphabet_count</th>\n",
       "      <th>emails</th>\n",
       "      <th>emails_count</th>\n",
       "    </tr>\n",
       "  </thead>\n",
       "  <tbody>\n",
       "    <tr>\n",
       "      <th>0</th>\n",
       "      <td>4.0</td>\n",
       "      <td>i been using this beauty for last 6 days, ordered on big billion days sale, the is brand new not refurbished, got the charger and headset and pin in the box, got them checked in apple service center, the built is truly premium, sophisticated space grey color, it is blazing fast device, never hangs, never get heated, or no lags at all. giving 1 day battery for moderate use, like whatsapp regularly and checking email in intervals, and some calling. this is my 1st  iphone, i came from android, s...</td>\n",
       "      <td>90</td>\n",
       "      <td>500</td>\n",
       "      <td>4.555556</td>\n",
       "      <td>37</td>\n",
       "      <td>0</td>\n",
       "      <td>0</td>\n",
       "      <td>3</td>\n",
       "      <td>0</td>\n",
       "      <td>[]</td>\n",
       "      <td>0</td>\n",
       "    </tr>\n",
       "    <tr>\n",
       "      <th>1</th>\n",
       "      <td>5.0</td>\n",
       "      <td>1st of all guys i do not believe in online shopping specially for the phone (specially apple)</td>\n",
       "      <td>16</td>\n",
       "      <td>92</td>\n",
       "      <td>4.812500</td>\n",
       "      <td>6</td>\n",
       "      <td>0</td>\n",
       "      <td>0</td>\n",
       "      <td>1</td>\n",
       "      <td>0</td>\n",
       "      <td>[]</td>\n",
       "      <td>0</td>\n",
       "    </tr>\n",
       "    <tr>\n",
       "      <th>2</th>\n",
       "      <td>5.0</td>\n",
       "      <td>super class phone display awesome sounds awesome camera good quality great deals in this price</td>\n",
       "      <td>15</td>\n",
       "      <td>95</td>\n",
       "      <td>5.333333</td>\n",
       "      <td>2</td>\n",
       "      <td>0</td>\n",
       "      <td>0</td>\n",
       "      <td>0</td>\n",
       "      <td>0</td>\n",
       "      <td>[]</td>\n",
       "      <td>0</td>\n",
       "    </tr>\n",
       "    <tr>\n",
       "      <th>3</th>\n",
       "      <td>5.0</td>\n",
       "      <td>on this purchase i got great deal with flipkart thanks flipkart. and its delivered before estimate date so over all its my great experience with flipkart.</td>\n",
       "      <td>26</td>\n",
       "      <td>154</td>\n",
       "      <td>4.961538</td>\n",
       "      <td>10</td>\n",
       "      <td>0</td>\n",
       "      <td>0</td>\n",
       "      <td>0</td>\n",
       "      <td>0</td>\n",
       "      <td>[]</td>\n",
       "      <td>0</td>\n",
       "    </tr>\n",
       "    <tr>\n",
       "      <th>4</th>\n",
       "      <td>4.0</td>\n",
       "      <td>i love the size of this phone. it camera is good love the ios performance is best overall</td>\n",
       "      <td>18</td>\n",
       "      <td>89</td>\n",
       "      <td>4.000000</td>\n",
       "      <td>8</td>\n",
       "      <td>0</td>\n",
       "      <td>0</td>\n",
       "      <td>0</td>\n",
       "      <td>0</td>\n",
       "      <td>[]</td>\n",
       "      <td>0</td>\n",
       "    </tr>\n",
       "  </tbody>\n",
       "</table>\n",
       "</div>"
      ],
      "text/plain": [
       "   ratings  \\\n",
       "0  4.0       \n",
       "1  5.0       \n",
       "2  5.0       \n",
       "3  5.0       \n",
       "4  4.0       \n",
       "\n",
       "                                                                                                                                                                                                                                                                                                                                                                                                                                                                                                                 review  \\\n",
       "0  i been using this beauty for last 6 days, ordered on big billion days sale, the is brand new not refurbished, got the charger and headset and pin in the box, got them checked in apple service center, the built is truly premium, sophisticated space grey color, it is blazing fast device, never hangs, never get heated, or no lags at all. giving 1 day battery for moderate use, like whatsapp regularly and checking email in intervals, and some calling. this is my 1st  iphone, i came from android, s...   \n",
       "1  1st of all guys i do not believe in online shopping specially for the phone (specially apple)                                                                                                                                                                                                                                                                                                                                                                                                                          \n",
       "2  super class phone display awesome sounds awesome camera good quality great deals in this price                                                                                                                                                                                                                                                                                                                                                                                                                         \n",
       "3  on this purchase i got great deal with flipkart thanks flipkart. and its delivered before estimate date so over all its my great experience with flipkart.                                                                                                                                                                                                                                                                                                                                                             \n",
       "4  i love the size of this phone. it camera is good love the ios performance is best overall                                                                                                                                                                                                                                                                                                                                                                                                                              \n",
       "\n",
       "   Word_counts  Char_counts  average_word_length  stop_words  hashtags_count  \\\n",
       "0  90           500          4.555556             37          0                \n",
       "1  16           92           4.812500             6           0                \n",
       "2  15           95           5.333333             2           0                \n",
       "3  26           154          4.961538             10          0                \n",
       "4  18           89           4.000000             8           0                \n",
       "\n",
       "   mention_count  numeric_count  upper_case_alphabet_count emails  \\\n",
       "0  0              3              0                          []      \n",
       "1  0              1              0                          []      \n",
       "2  0              0              0                          []      \n",
       "3  0              0              0                          []      \n",
       "4  0              0              0                          []      \n",
       "\n",
       "   emails_count  \n",
       "0  0             \n",
       "1  0             \n",
       "2  0             \n",
       "3  0             \n",
       "4  0             "
      ]
     },
     "execution_count": 71,
     "metadata": {},
     "output_type": "execute_result"
    }
   ],
   "source": [
    "df.head()"
   ]
  },
  {
   "cell_type": "code",
   "execution_count": 72,
   "id": "d0434011",
   "metadata": {},
   "outputs": [
    {
     "data": {
      "text/plain": [
       "'hi my email me at  and '"
      ]
     },
     "execution_count": 72,
     "metadata": {},
     "output_type": "execute_result"
    }
   ],
   "source": [
    "re.sub(r'([a-zA-Z0-9+._-]+@[a-zA-Z0-9._-]+\\.[a-zA-Z0-9_-]+)', '',x)"
   ]
  },
  {
   "cell_type": "code",
   "execution_count": 73,
   "id": "5f29102a",
   "metadata": {},
   "outputs": [],
   "source": [
    "df['review']=df['review'].apply(lambda x:re.sub(r'([a-zA-Z0-9+._-]+@[a-zA-Z0-9._-]+\\.[a-zA-Z0-9_-]+)', '',x))"
   ]
  },
  {
   "cell_type": "markdown",
   "id": "452bb4f8",
   "metadata": {},
   "source": [
    "# Let us count Urls and remove it using regex module"
   ]
  },
  {
   "cell_type": "code",
   "execution_count": 74,
   "id": "06f81bb8",
   "metadata": {},
   "outputs": [],
   "source": [
    "x='hi , to watch more visit https://youtube.com'"
   ]
  },
  {
   "cell_type": "code",
   "execution_count": 75,
   "id": "271ee5c8",
   "metadata": {},
   "outputs": [],
   "source": [
    "regex = r\"(?i)\\b((?:https?://|www\\d{0,3}[.]|[a-z0-9.\\-]+[.][a-z]{2,4}/)(?:[^\\s()<>]+|\\(([^\\s()<>]+|(\\([^\\s()<>]+\\)))*\\))+(?:\\(([^\\s()<>]+|(\\([^\\s()<>]+\\)))*\\)|[^\\s`!()\\[\\]{};:'\\\".,<>?«»“”‘’]))\""
   ]
  },
  {
   "cell_type": "code",
   "execution_count": 76,
   "id": "d7382862",
   "metadata": {},
   "outputs": [
    {
     "data": {
      "text/plain": [
       "[('https://youtube.com', '', '', '', '')]"
      ]
     },
     "execution_count": 76,
     "metadata": {},
     "output_type": "execute_result"
    }
   ],
   "source": [
    "re.findall(regex,x)"
   ]
  },
  {
   "cell_type": "code",
   "execution_count": 77,
   "id": "9bc7110b",
   "metadata": {},
   "outputs": [],
   "source": [
    "#Function to find out the url present in the rows.\n",
    "df['url_flag']=df['review'].apply(lambda x : len(re.findall(regex,x)))"
   ]
  },
  {
   "cell_type": "code",
   "execution_count": 78,
   "id": "5de7743f",
   "metadata": {},
   "outputs": [],
   "source": [
    "#This function is removing urls if any in rows.\n",
    "df['review']=df['review'].apply(lambda x:re.sub(r\"(?i)\\b((?:https?://|www\\d{0,3}[.]|[a-z0-9.\\-]+[.][a-z]{2,4}/)(?:[^\\s()<>]+|\\(([^\\s()<>]+|(\\([^\\s()<>]+\\)))*\\))+(?:\\(([^\\s()<>]+|(\\([^\\s()<>]+\\)))*\\)|[^\\s`!()\\[\\]{};:'\\\".,<>?«»“”‘’]))\",'',x))"
   ]
  },
  {
   "cell_type": "code",
   "execution_count": 79,
   "id": "e6a86833",
   "metadata": {},
   "outputs": [
    {
     "data": {
      "text/html": [
       "<div>\n",
       "<style scoped>\n",
       "    .dataframe tbody tr th:only-of-type {\n",
       "        vertical-align: middle;\n",
       "    }\n",
       "\n",
       "    .dataframe tbody tr th {\n",
       "        vertical-align: top;\n",
       "    }\n",
       "\n",
       "    .dataframe thead th {\n",
       "        text-align: right;\n",
       "    }\n",
       "</style>\n",
       "<table border=\"1\" class=\"dataframe\">\n",
       "  <thead>\n",
       "    <tr style=\"text-align: right;\">\n",
       "      <th></th>\n",
       "      <th>ratings</th>\n",
       "      <th>review</th>\n",
       "      <th>Word_counts</th>\n",
       "      <th>Char_counts</th>\n",
       "      <th>average_word_length</th>\n",
       "      <th>stop_words</th>\n",
       "      <th>hashtags_count</th>\n",
       "      <th>mention_count</th>\n",
       "      <th>numeric_count</th>\n",
       "      <th>upper_case_alphabet_count</th>\n",
       "      <th>emails</th>\n",
       "      <th>emails_count</th>\n",
       "      <th>url_flag</th>\n",
       "    </tr>\n",
       "  </thead>\n",
       "  <tbody>\n",
       "    <tr>\n",
       "      <th>0</th>\n",
       "      <td>4.0</td>\n",
       "      <td>i been using this beauty for last 6 days, ordered on big billion days sale, the is brand new not refurbished, got the charger and headset and pin in the box, got them checked in apple service center, the built is truly premium, sophisticated space grey color, it is blazing fast device, never hangs, never get heated, or no lags at all. giving 1 day battery for moderate use, like whatsapp regularly and checking email in intervals, and some calling. this is my 1st  iphone, i came from android, s...</td>\n",
       "      <td>90</td>\n",
       "      <td>500</td>\n",
       "      <td>4.555556</td>\n",
       "      <td>37</td>\n",
       "      <td>0</td>\n",
       "      <td>0</td>\n",
       "      <td>3</td>\n",
       "      <td>0</td>\n",
       "      <td>[]</td>\n",
       "      <td>0</td>\n",
       "      <td>0</td>\n",
       "    </tr>\n",
       "    <tr>\n",
       "      <th>1</th>\n",
       "      <td>5.0</td>\n",
       "      <td>1st of all guys i do not believe in online shopping specially for the phone (specially apple)</td>\n",
       "      <td>16</td>\n",
       "      <td>92</td>\n",
       "      <td>4.812500</td>\n",
       "      <td>6</td>\n",
       "      <td>0</td>\n",
       "      <td>0</td>\n",
       "      <td>1</td>\n",
       "      <td>0</td>\n",
       "      <td>[]</td>\n",
       "      <td>0</td>\n",
       "      <td>0</td>\n",
       "    </tr>\n",
       "    <tr>\n",
       "      <th>2</th>\n",
       "      <td>5.0</td>\n",
       "      <td>super class phone display awesome sounds awesome camera good quality great deals in this price</td>\n",
       "      <td>15</td>\n",
       "      <td>95</td>\n",
       "      <td>5.333333</td>\n",
       "      <td>2</td>\n",
       "      <td>0</td>\n",
       "      <td>0</td>\n",
       "      <td>0</td>\n",
       "      <td>0</td>\n",
       "      <td>[]</td>\n",
       "      <td>0</td>\n",
       "      <td>0</td>\n",
       "    </tr>\n",
       "    <tr>\n",
       "      <th>3</th>\n",
       "      <td>5.0</td>\n",
       "      <td>on this purchase i got great deal with flipkart thanks flipkart. and its delivered before estimate date so over all its my great experience with flipkart.</td>\n",
       "      <td>26</td>\n",
       "      <td>154</td>\n",
       "      <td>4.961538</td>\n",
       "      <td>10</td>\n",
       "      <td>0</td>\n",
       "      <td>0</td>\n",
       "      <td>0</td>\n",
       "      <td>0</td>\n",
       "      <td>[]</td>\n",
       "      <td>0</td>\n",
       "      <td>0</td>\n",
       "    </tr>\n",
       "    <tr>\n",
       "      <th>4</th>\n",
       "      <td>4.0</td>\n",
       "      <td>i love the size of this phone. it camera is good love the ios performance is best overall</td>\n",
       "      <td>18</td>\n",
       "      <td>89</td>\n",
       "      <td>4.000000</td>\n",
       "      <td>8</td>\n",
       "      <td>0</td>\n",
       "      <td>0</td>\n",
       "      <td>0</td>\n",
       "      <td>0</td>\n",
       "      <td>[]</td>\n",
       "      <td>0</td>\n",
       "      <td>0</td>\n",
       "    </tr>\n",
       "  </tbody>\n",
       "</table>\n",
       "</div>"
      ],
      "text/plain": [
       "   ratings  \\\n",
       "0  4.0       \n",
       "1  5.0       \n",
       "2  5.0       \n",
       "3  5.0       \n",
       "4  4.0       \n",
       "\n",
       "                                                                                                                                                                                                                                                                                                                                                                                                                                                                                                                 review  \\\n",
       "0  i been using this beauty for last 6 days, ordered on big billion days sale, the is brand new not refurbished, got the charger and headset and pin in the box, got them checked in apple service center, the built is truly premium, sophisticated space grey color, it is blazing fast device, never hangs, never get heated, or no lags at all. giving 1 day battery for moderate use, like whatsapp regularly and checking email in intervals, and some calling. this is my 1st  iphone, i came from android, s...   \n",
       "1  1st of all guys i do not believe in online shopping specially for the phone (specially apple)                                                                                                                                                                                                                                                                                                                                                                                                                          \n",
       "2  super class phone display awesome sounds awesome camera good quality great deals in this price                                                                                                                                                                                                                                                                                                                                                                                                                         \n",
       "3  on this purchase i got great deal with flipkart thanks flipkart. and its delivered before estimate date so over all its my great experience with flipkart.                                                                                                                                                                                                                                                                                                                                                             \n",
       "4  i love the size of this phone. it camera is good love the ios performance is best overall                                                                                                                                                                                                                                                                                                                                                                                                                              \n",
       "\n",
       "   Word_counts  Char_counts  average_word_length  stop_words  hashtags_count  \\\n",
       "0  90           500          4.555556             37          0                \n",
       "1  16           92           4.812500             6           0                \n",
       "2  15           95           5.333333             2           0                \n",
       "3  26           154          4.961538             10          0                \n",
       "4  18           89           4.000000             8           0                \n",
       "\n",
       "   mention_count  numeric_count  upper_case_alphabet_count emails  \\\n",
       "0  0              3              0                          []      \n",
       "1  0              1              0                          []      \n",
       "2  0              0              0                          []      \n",
       "3  0              0              0                          []      \n",
       "4  0              0              0                          []      \n",
       "\n",
       "   emails_count  url_flag  \n",
       "0  0             0         \n",
       "1  0             0         \n",
       "2  0             0         \n",
       "3  0             0         \n",
       "4  0             0         "
      ]
     },
     "execution_count": 79,
     "metadata": {},
     "output_type": "execute_result"
    }
   ],
   "source": [
    "df.head()"
   ]
  },
  {
   "cell_type": "markdown",
   "id": "31aa5584",
   "metadata": {},
   "source": [
    "# Special Chars removal & punctuation removal"
   ]
  },
  {
   "cell_type": "code",
   "execution_count": 80,
   "id": "60be06e3",
   "metadata": {},
   "outputs": [],
   "source": [
    "#Function for removal of the special characters and punctuations.\n",
    "df['review']=df[\"review\"].apply(lambda x :re.sub(r'[^a-z0-9A-Z_]',' ',x))"
   ]
  },
  {
   "cell_type": "code",
   "execution_count": 81,
   "id": "0424c31b",
   "metadata": {},
   "outputs": [
    {
     "data": {
      "text/html": [
       "<div>\n",
       "<style scoped>\n",
       "    .dataframe tbody tr th:only-of-type {\n",
       "        vertical-align: middle;\n",
       "    }\n",
       "\n",
       "    .dataframe tbody tr th {\n",
       "        vertical-align: top;\n",
       "    }\n",
       "\n",
       "    .dataframe thead th {\n",
       "        text-align: right;\n",
       "    }\n",
       "</style>\n",
       "<table border=\"1\" class=\"dataframe\">\n",
       "  <thead>\n",
       "    <tr style=\"text-align: right;\">\n",
       "      <th></th>\n",
       "      <th>ratings</th>\n",
       "      <th>review</th>\n",
       "      <th>Word_counts</th>\n",
       "      <th>Char_counts</th>\n",
       "      <th>average_word_length</th>\n",
       "      <th>stop_words</th>\n",
       "      <th>hashtags_count</th>\n",
       "      <th>mention_count</th>\n",
       "      <th>numeric_count</th>\n",
       "      <th>upper_case_alphabet_count</th>\n",
       "      <th>emails</th>\n",
       "      <th>emails_count</th>\n",
       "      <th>url_flag</th>\n",
       "    </tr>\n",
       "  </thead>\n",
       "  <tbody>\n",
       "    <tr>\n",
       "      <th>0</th>\n",
       "      <td>4.0</td>\n",
       "      <td>i been using this beauty for last 6 days  ordered on big billion days sale  the is brand new not refurbished  got the charger and headset and pin in the box  got them checked in apple service center  the built is truly premium  sophisticated space grey color  it is blazing fast device  never hangs  never get heated  or no lags at all  giving 1 day battery for moderate use  like whatsapp regularly and checking email in intervals  and some calling  this is my 1st  iphone  i came from android  s</td>\n",
       "      <td>90</td>\n",
       "      <td>500</td>\n",
       "      <td>4.555556</td>\n",
       "      <td>37</td>\n",
       "      <td>0</td>\n",
       "      <td>0</td>\n",
       "      <td>3</td>\n",
       "      <td>0</td>\n",
       "      <td>[]</td>\n",
       "      <td>0</td>\n",
       "      <td>0</td>\n",
       "    </tr>\n",
       "    <tr>\n",
       "      <th>1</th>\n",
       "      <td>5.0</td>\n",
       "      <td>1st of all guys i do not believe in online shopping specially for the phone  specially apple</td>\n",
       "      <td>16</td>\n",
       "      <td>92</td>\n",
       "      <td>4.812500</td>\n",
       "      <td>6</td>\n",
       "      <td>0</td>\n",
       "      <td>0</td>\n",
       "      <td>1</td>\n",
       "      <td>0</td>\n",
       "      <td>[]</td>\n",
       "      <td>0</td>\n",
       "      <td>0</td>\n",
       "    </tr>\n",
       "    <tr>\n",
       "      <th>2</th>\n",
       "      <td>5.0</td>\n",
       "      <td>super class phone display awesome sounds awesome camera good quality great deals in this price</td>\n",
       "      <td>15</td>\n",
       "      <td>95</td>\n",
       "      <td>5.333333</td>\n",
       "      <td>2</td>\n",
       "      <td>0</td>\n",
       "      <td>0</td>\n",
       "      <td>0</td>\n",
       "      <td>0</td>\n",
       "      <td>[]</td>\n",
       "      <td>0</td>\n",
       "      <td>0</td>\n",
       "    </tr>\n",
       "    <tr>\n",
       "      <th>3</th>\n",
       "      <td>5.0</td>\n",
       "      <td>on this purchase i got great deal with flipkart thanks flipkart  and its delivered before estimate date so over all its my great experience with flipkart</td>\n",
       "      <td>26</td>\n",
       "      <td>154</td>\n",
       "      <td>4.961538</td>\n",
       "      <td>10</td>\n",
       "      <td>0</td>\n",
       "      <td>0</td>\n",
       "      <td>0</td>\n",
       "      <td>0</td>\n",
       "      <td>[]</td>\n",
       "      <td>0</td>\n",
       "      <td>0</td>\n",
       "    </tr>\n",
       "    <tr>\n",
       "      <th>4</th>\n",
       "      <td>4.0</td>\n",
       "      <td>i love the size of this phone  it camera is good love the ios performance is best overall</td>\n",
       "      <td>18</td>\n",
       "      <td>89</td>\n",
       "      <td>4.000000</td>\n",
       "      <td>8</td>\n",
       "      <td>0</td>\n",
       "      <td>0</td>\n",
       "      <td>0</td>\n",
       "      <td>0</td>\n",
       "      <td>[]</td>\n",
       "      <td>0</td>\n",
       "      <td>0</td>\n",
       "    </tr>\n",
       "  </tbody>\n",
       "</table>\n",
       "</div>"
      ],
      "text/plain": [
       "   ratings  \\\n",
       "0  4.0       \n",
       "1  5.0       \n",
       "2  5.0       \n",
       "3  5.0       \n",
       "4  4.0       \n",
       "\n",
       "                                                                                                                                                                                                                                                                                                                                                                                                                                                                                                                 review  \\\n",
       "0  i been using this beauty for last 6 days  ordered on big billion days sale  the is brand new not refurbished  got the charger and headset and pin in the box  got them checked in apple service center  the built is truly premium  sophisticated space grey color  it is blazing fast device  never hangs  never get heated  or no lags at all  giving 1 day battery for moderate use  like whatsapp regularly and checking email in intervals  and some calling  this is my 1st  iphone  i came from android  s      \n",
       "1  1st of all guys i do not believe in online shopping specially for the phone  specially apple                                                                                                                                                                                                                                                                                                                                                                                                                           \n",
       "2  super class phone display awesome sounds awesome camera good quality great deals in this price                                                                                                                                                                                                                                                                                                                                                                                                                         \n",
       "3  on this purchase i got great deal with flipkart thanks flipkart  and its delivered before estimate date so over all its my great experience with flipkart                                                                                                                                                                                                                                                                                                                                                              \n",
       "4  i love the size of this phone  it camera is good love the ios performance is best overall                                                                                                                                                                                                                                                                                                                                                                                                                              \n",
       "\n",
       "   Word_counts  Char_counts  average_word_length  stop_words  hashtags_count  \\\n",
       "0  90           500          4.555556             37          0                \n",
       "1  16           92           4.812500             6           0                \n",
       "2  15           95           5.333333             2           0                \n",
       "3  26           154          4.961538             10          0                \n",
       "4  18           89           4.000000             8           0                \n",
       "\n",
       "   mention_count  numeric_count  upper_case_alphabet_count emails  \\\n",
       "0  0              3              0                          []      \n",
       "1  0              1              0                          []      \n",
       "2  0              0              0                          []      \n",
       "3  0              0              0                          []      \n",
       "4  0              0              0                          []      \n",
       "\n",
       "   emails_count  url_flag  \n",
       "0  0             0         \n",
       "1  0             0         \n",
       "2  0             0         \n",
       "3  0             0         \n",
       "4  0             0         "
      ]
     },
     "execution_count": 81,
     "metadata": {},
     "output_type": "execute_result"
    }
   ],
   "source": [
    "df.head()"
   ]
  },
  {
   "cell_type": "markdown",
   "id": "d538a8a9",
   "metadata": {},
   "source": [
    "# Removal the Multiple Spaces from reviews"
   ]
  },
  {
   "cell_type": "code",
   "execution_count": 82,
   "id": "c0612085",
   "metadata": {},
   "outputs": [],
   "source": [
    "x= \"hi    hello      universe\""
   ]
  },
  {
   "cell_type": "code",
   "execution_count": 83,
   "id": "64499e0c",
   "metadata": {},
   "outputs": [
    {
     "data": {
      "text/plain": [
       "'hi hello universe'"
      ]
     },
     "execution_count": 83,
     "metadata": {},
     "output_type": "execute_result"
    }
   ],
   "source": [
    "\" \".join(x.split())"
   ]
  },
  {
   "cell_type": "code",
   "execution_count": 84,
   "id": "85b96141",
   "metadata": {},
   "outputs": [],
   "source": [
    "#Function to remove all multiple spaces present in the reviews.\n",
    "df['review']=df['review'].apply(lambda x:\" \".join(x.split()))"
   ]
  },
  {
   "cell_type": "code",
   "execution_count": 85,
   "id": "9919d0b8",
   "metadata": {},
   "outputs": [
    {
     "data": {
      "text/html": [
       "<div>\n",
       "<style scoped>\n",
       "    .dataframe tbody tr th:only-of-type {\n",
       "        vertical-align: middle;\n",
       "    }\n",
       "\n",
       "    .dataframe tbody tr th {\n",
       "        vertical-align: top;\n",
       "    }\n",
       "\n",
       "    .dataframe thead th {\n",
       "        text-align: right;\n",
       "    }\n",
       "</style>\n",
       "<table border=\"1\" class=\"dataframe\">\n",
       "  <thead>\n",
       "    <tr style=\"text-align: right;\">\n",
       "      <th></th>\n",
       "      <th>ratings</th>\n",
       "      <th>review</th>\n",
       "      <th>Word_counts</th>\n",
       "      <th>Char_counts</th>\n",
       "      <th>average_word_length</th>\n",
       "      <th>stop_words</th>\n",
       "      <th>hashtags_count</th>\n",
       "      <th>mention_count</th>\n",
       "      <th>numeric_count</th>\n",
       "      <th>upper_case_alphabet_count</th>\n",
       "      <th>emails</th>\n",
       "      <th>emails_count</th>\n",
       "      <th>url_flag</th>\n",
       "    </tr>\n",
       "  </thead>\n",
       "  <tbody>\n",
       "    <tr>\n",
       "      <th>0</th>\n",
       "      <td>4.0</td>\n",
       "      <td>i been using this beauty for last 6 days ordered on big billion days sale the is brand new not refurbished got the charger and headset and pin in the box got them checked in apple service center the built is truly premium sophisticated space grey color it is blazing fast device never hangs never get heated or no lags at all giving 1 day battery for moderate use like whatsapp regularly and checking email in intervals and some calling this is my 1st iphone i came from android s</td>\n",
       "      <td>90</td>\n",
       "      <td>500</td>\n",
       "      <td>4.555556</td>\n",
       "      <td>37</td>\n",
       "      <td>0</td>\n",
       "      <td>0</td>\n",
       "      <td>3</td>\n",
       "      <td>0</td>\n",
       "      <td>[]</td>\n",
       "      <td>0</td>\n",
       "      <td>0</td>\n",
       "    </tr>\n",
       "    <tr>\n",
       "      <th>1</th>\n",
       "      <td>5.0</td>\n",
       "      <td>1st of all guys i do not believe in online shopping specially for the phone specially apple</td>\n",
       "      <td>16</td>\n",
       "      <td>92</td>\n",
       "      <td>4.812500</td>\n",
       "      <td>6</td>\n",
       "      <td>0</td>\n",
       "      <td>0</td>\n",
       "      <td>1</td>\n",
       "      <td>0</td>\n",
       "      <td>[]</td>\n",
       "      <td>0</td>\n",
       "      <td>0</td>\n",
       "    </tr>\n",
       "  </tbody>\n",
       "</table>\n",
       "</div>"
      ],
      "text/plain": [
       "   ratings  \\\n",
       "0  4.0       \n",
       "1  5.0       \n",
       "\n",
       "                                                                                                                                                                                                                                                                                                                                                                                                                                                                                             review  \\\n",
       "0  i been using this beauty for last 6 days ordered on big billion days sale the is brand new not refurbished got the charger and headset and pin in the box got them checked in apple service center the built is truly premium sophisticated space grey color it is blazing fast device never hangs never get heated or no lags at all giving 1 day battery for moderate use like whatsapp regularly and checking email in intervals and some calling this is my 1st iphone i came from android s   \n",
       "1  1st of all guys i do not believe in online shopping specially for the phone specially apple                                                                                                                                                                                                                                                                                                                                                                                                        \n",
       "\n",
       "   Word_counts  Char_counts  average_word_length  stop_words  hashtags_count  \\\n",
       "0  90           500          4.555556             37          0                \n",
       "1  16           92           4.812500             6           0                \n",
       "\n",
       "   mention_count  numeric_count  upper_case_alphabet_count emails  \\\n",
       "0  0              3              0                          []      \n",
       "1  0              1              0                          []      \n",
       "\n",
       "   emails_count  url_flag  \n",
       "0  0             0         \n",
       "1  0             0         "
      ]
     },
     "execution_count": 85,
     "metadata": {},
     "output_type": "execute_result"
    }
   ],
   "source": [
    "df.head(2)"
   ]
  },
  {
   "cell_type": "markdown",
   "id": "384679fa",
   "metadata": {},
   "source": [
    "# Let us remove the html tags"
   ]
  },
  {
   "cell_type": "code",
   "execution_count": 86,
   "id": "d4a8d992",
   "metadata": {},
   "outputs": [],
   "source": [
    "from bs4 import BeautifulSoup"
   ]
  },
  {
   "cell_type": "code",
   "execution_count": 87,
   "id": "c03f627f",
   "metadata": {},
   "outputs": [],
   "source": [
    "x='<html><h2>Thanks for watching </h2></html>'"
   ]
  },
  {
   "cell_type": "code",
   "execution_count": 88,
   "id": "d026daed",
   "metadata": {},
   "outputs": [
    {
     "data": {
      "text/plain": [
       "'Thanks for watching '"
      ]
     },
     "execution_count": 88,
     "metadata": {},
     "output_type": "execute_result"
    }
   ],
   "source": [
    "BeautifulSoup(x,'lxml').get_text()"
   ]
  },
  {
   "cell_type": "code",
   "execution_count": 89,
   "id": "52f0ebea",
   "metadata": {},
   "outputs": [],
   "source": [
    "#Function for the removal of the html tags present in review if any.\n",
    "df['review']=df['review'].apply(lambda x:BeautifulSoup(x,'lxml').get_text())"
   ]
  },
  {
   "cell_type": "code",
   "execution_count": 90,
   "id": "730089df",
   "metadata": {},
   "outputs": [
    {
     "data": {
      "text/plain": [
       "'aswome phone'"
      ]
     },
     "execution_count": 90,
     "metadata": {},
     "output_type": "execute_result"
    }
   ],
   "source": [
    "df.loc[330]['review']"
   ]
  },
  {
   "cell_type": "markdown",
   "id": "1591eb39",
   "metadata": {},
   "source": [
    "# Let us  remove the  ACCENTED characters."
   ]
  },
  {
   "cell_type": "code",
   "execution_count": 91,
   "id": "8ac0e4f6",
   "metadata": {},
   "outputs": [],
   "source": [
    "import unidecode"
   ]
  },
  {
   "cell_type": "code",
   "execution_count": 92,
   "id": "5230403b",
   "metadata": {},
   "outputs": [],
   "source": [
    "#Function which converts accented characters into normal english characters.\n",
    "def accented_characters_removal(text):\n",
    "    text = unidecode.unidecode(text)\n",
    "    return text"
   ]
  },
  {
   "cell_type": "code",
   "execution_count": 93,
   "id": "58ee16bb",
   "metadata": {},
   "outputs": [],
   "source": [
    "df['review']=df['review'].apply(lambda x:accented_characters_removal(x))"
   ]
  },
  {
   "cell_type": "code",
   "execution_count": 94,
   "id": "a9e7155b",
   "metadata": {},
   "outputs": [
    {
     "data": {
      "text/plain": [
       "'stavanger'"
      ]
     },
     "execution_count": 94,
     "metadata": {},
     "output_type": "execute_result"
    }
   ],
   "source": [
    "accented_characters_removal(\"stävänger\")"
   ]
  },
  {
   "cell_type": "markdown",
   "id": "618b2667",
   "metadata": {},
   "source": [
    "# Spacy and NLP"
   ]
  },
  {
   "cell_type": "code",
   "execution_count": 95,
   "id": "b7f78ada",
   "metadata": {},
   "outputs": [],
   "source": [
    "import spacy"
   ]
  },
  {
   "cell_type": "markdown",
   "id": "e369c79e",
   "metadata": {},
   "source": [
    "# Let us remove the stopwords."
   ]
  },
  {
   "cell_type": "code",
   "execution_count": 96,
   "id": "5ed84e31",
   "metadata": {},
   "outputs": [],
   "source": [
    "x=\"This is a stop words removal code\""
   ]
  },
  {
   "cell_type": "code",
   "execution_count": 97,
   "id": "60e26ea7",
   "metadata": {},
   "outputs": [
    {
     "data": {
      "text/plain": [
       "'This stop words removal code'"
      ]
     },
     "execution_count": 97,
     "metadata": {},
     "output_type": "execute_result"
    }
   ],
   "source": [
    "\" \".join([t for t in x.split() if t not in STOP_WORDS])"
   ]
  },
  {
   "cell_type": "code",
   "execution_count": 98,
   "id": "22ca1079",
   "metadata": {},
   "outputs": [],
   "source": [
    "df['review']=df['review'].apply(lambda x :\" \".join([t for t in x.split() if t not in STOP_WORDS]))"
   ]
  },
  {
   "cell_type": "code",
   "execution_count": 99,
   "id": "16f74c49",
   "metadata": {},
   "outputs": [
    {
     "data": {
      "text/html": [
       "<div>\n",
       "<style scoped>\n",
       "    .dataframe tbody tr th:only-of-type {\n",
       "        vertical-align: middle;\n",
       "    }\n",
       "\n",
       "    .dataframe tbody tr th {\n",
       "        vertical-align: top;\n",
       "    }\n",
       "\n",
       "    .dataframe thead th {\n",
       "        text-align: right;\n",
       "    }\n",
       "</style>\n",
       "<table border=\"1\" class=\"dataframe\">\n",
       "  <thead>\n",
       "    <tr style=\"text-align: right;\">\n",
       "      <th></th>\n",
       "      <th>ratings</th>\n",
       "      <th>review</th>\n",
       "      <th>Word_counts</th>\n",
       "      <th>Char_counts</th>\n",
       "      <th>average_word_length</th>\n",
       "      <th>stop_words</th>\n",
       "      <th>hashtags_count</th>\n",
       "      <th>mention_count</th>\n",
       "      <th>numeric_count</th>\n",
       "      <th>upper_case_alphabet_count</th>\n",
       "      <th>emails</th>\n",
       "      <th>emails_count</th>\n",
       "      <th>url_flag</th>\n",
       "    </tr>\n",
       "  </thead>\n",
       "  <tbody>\n",
       "    <tr>\n",
       "      <th>0</th>\n",
       "      <td>4.0</td>\n",
       "      <td>beauty 6 days ordered big billion days sale brand new refurbished got charger headset pin box got checked apple service center built truly premium sophisticated space grey color blazing fast device hangs heated lags giving 1 day battery moderate use like whatsapp regularly checking email intervals calling 1st iphone came android s</td>\n",
       "      <td>90</td>\n",
       "      <td>500</td>\n",
       "      <td>4.555556</td>\n",
       "      <td>37</td>\n",
       "      <td>0</td>\n",
       "      <td>0</td>\n",
       "      <td>3</td>\n",
       "      <td>0</td>\n",
       "      <td>[]</td>\n",
       "      <td>0</td>\n",
       "      <td>0</td>\n",
       "    </tr>\n",
       "    <tr>\n",
       "      <th>1</th>\n",
       "      <td>5.0</td>\n",
       "      <td>1st guys believe online shopping specially phone specially apple</td>\n",
       "      <td>16</td>\n",
       "      <td>92</td>\n",
       "      <td>4.812500</td>\n",
       "      <td>6</td>\n",
       "      <td>0</td>\n",
       "      <td>0</td>\n",
       "      <td>1</td>\n",
       "      <td>0</td>\n",
       "      <td>[]</td>\n",
       "      <td>0</td>\n",
       "      <td>0</td>\n",
       "    </tr>\n",
       "    <tr>\n",
       "      <th>2</th>\n",
       "      <td>5.0</td>\n",
       "      <td>super class phone display awesome sounds awesome camera good quality great deals price</td>\n",
       "      <td>15</td>\n",
       "      <td>95</td>\n",
       "      <td>5.333333</td>\n",
       "      <td>2</td>\n",
       "      <td>0</td>\n",
       "      <td>0</td>\n",
       "      <td>0</td>\n",
       "      <td>0</td>\n",
       "      <td>[]</td>\n",
       "      <td>0</td>\n",
       "      <td>0</td>\n",
       "    </tr>\n",
       "    <tr>\n",
       "      <th>3</th>\n",
       "      <td>5.0</td>\n",
       "      <td>purchase got great deal flipkart thanks flipkart delivered estimate date great experience flipkart</td>\n",
       "      <td>26</td>\n",
       "      <td>154</td>\n",
       "      <td>4.961538</td>\n",
       "      <td>10</td>\n",
       "      <td>0</td>\n",
       "      <td>0</td>\n",
       "      <td>0</td>\n",
       "      <td>0</td>\n",
       "      <td>[]</td>\n",
       "      <td>0</td>\n",
       "      <td>0</td>\n",
       "    </tr>\n",
       "    <tr>\n",
       "      <th>4</th>\n",
       "      <td>4.0</td>\n",
       "      <td>love size phone camera good love ios performance best overall</td>\n",
       "      <td>18</td>\n",
       "      <td>89</td>\n",
       "      <td>4.000000</td>\n",
       "      <td>8</td>\n",
       "      <td>0</td>\n",
       "      <td>0</td>\n",
       "      <td>0</td>\n",
       "      <td>0</td>\n",
       "      <td>[]</td>\n",
       "      <td>0</td>\n",
       "      <td>0</td>\n",
       "    </tr>\n",
       "  </tbody>\n",
       "</table>\n",
       "</div>"
      ],
      "text/plain": [
       "   ratings  \\\n",
       "0  4.0       \n",
       "1  5.0       \n",
       "2  5.0       \n",
       "3  5.0       \n",
       "4  4.0       \n",
       "\n",
       "                                                                                                                                                                                                                                                                                                                                         review  \\\n",
       "0  beauty 6 days ordered big billion days sale brand new refurbished got charger headset pin box got checked apple service center built truly premium sophisticated space grey color blazing fast device hangs heated lags giving 1 day battery moderate use like whatsapp regularly checking email intervals calling 1st iphone came android s   \n",
       "1  1st guys believe online shopping specially phone specially apple                                                                                                                                                                                                                                                                               \n",
       "2  super class phone display awesome sounds awesome camera good quality great deals price                                                                                                                                                                                                                                                         \n",
       "3  purchase got great deal flipkart thanks flipkart delivered estimate date great experience flipkart                                                                                                                                                                                                                                             \n",
       "4  love size phone camera good love ios performance best overall                                                                                                                                                                                                                                                                                  \n",
       "\n",
       "   Word_counts  Char_counts  average_word_length  stop_words  hashtags_count  \\\n",
       "0  90           500          4.555556             37          0                \n",
       "1  16           92           4.812500             6           0                \n",
       "2  15           95           5.333333             2           0                \n",
       "3  26           154          4.961538             10          0                \n",
       "4  18           89           4.000000             8           0                \n",
       "\n",
       "   mention_count  numeric_count  upper_case_alphabet_count emails  \\\n",
       "0  0              3              0                          []      \n",
       "1  0              1              0                          []      \n",
       "2  0              0              0                          []      \n",
       "3  0              0              0                          []      \n",
       "4  0              0              0                          []      \n",
       "\n",
       "   emails_count  url_flag  \n",
       "0  0             0         \n",
       "1  0             0         \n",
       "2  0             0         \n",
       "3  0             0         \n",
       "4  0             0         "
      ]
     },
     "execution_count": 99,
     "metadata": {},
     "output_type": "execute_result"
    }
   ],
   "source": [
    "df.head()"
   ]
  },
  {
   "cell_type": "markdown",
   "id": "efee286f",
   "metadata": {},
   "source": [
    "# Let us Convert words into base or root form."
   ]
  },
  {
   "cell_type": "code",
   "execution_count": 100,
   "id": "89896438",
   "metadata": {},
   "outputs": [],
   "source": [
    "import spacy"
   ]
  },
  {
   "cell_type": "code",
   "execution_count": 101,
   "id": "db07afbb",
   "metadata": {},
   "outputs": [],
   "source": [
    "nlp=spacy.load('en_core_web_sm')"
   ]
  },
  {
   "cell_type": "code",
   "execution_count": 102,
   "id": "4f66d712",
   "metadata": {},
   "outputs": [],
   "source": [
    "x=\"light weight carrying mobile little costlier compare 20000 mi power bank\""
   ]
  },
  {
   "cell_type": "code",
   "execution_count": 103,
   "id": "226bdeb2",
   "metadata": {},
   "outputs": [],
   "source": [
    "def make_to_base(x):\n",
    "    x_list=[]\n",
    "    doc=nlp(x)\n",
    "    \n",
    "    for token in doc:\n",
    "        lemma =str(token.lemma_)\n",
    "        x_list.append(lemma)\n",
    "    return (\" \".join(x_list))"
   ]
  },
  {
   "cell_type": "code",
   "execution_count": 104,
   "id": "c39bad35",
   "metadata": {},
   "outputs": [],
   "source": [
    "x=\"light weight carrying mobile little costlier compare 20000 mi power bank \""
   ]
  },
  {
   "cell_type": "code",
   "execution_count": 105,
   "id": "7968ceb5",
   "metadata": {},
   "outputs": [
    {
     "data": {
      "text/plain": [
       "'light weight carry mobile little costlier compare 20000 mi power bank'"
      ]
     },
     "execution_count": 105,
     "metadata": {},
     "output_type": "execute_result"
    }
   ],
   "source": [
    "make_to_base(x)"
   ]
  },
  {
   "cell_type": "code",
   "execution_count": 106,
   "id": "d1e13415",
   "metadata": {},
   "outputs": [
    {
     "name": "stdout",
     "output_type": "stream",
     "text": [
      "Wall time: 21.2 s\n"
     ]
    }
   ],
   "source": [
    "%%time\n",
    "df['review']=df['review'].apply(lambda x :make_to_base(x))"
   ]
  },
  {
   "cell_type": "markdown",
   "id": "dea48de7",
   "metadata": {},
   "source": [
    "# Let us remove the Common Words."
   ]
  },
  {
   "cell_type": "code",
   "execution_count": 107,
   "id": "534fe82d",
   "metadata": {},
   "outputs": [
    {
     "data": {
      "text/plain": [
       "0    beauty 6 day order big billion day sale brand new refurbish get charger headset pin box got check apple service center build truly premium sophisticated space grey color blaze fast device hang heat lag give 1 day battery moderate use like whatsapp regularly check email interval call 1st iphone come android s\n",
       "1    1st guy believe online shopping specially phone specially apple                                                                                                                                                                                                                                                      \n",
       "2    super class phone display awesome sound awesome camera good quality great deal price                                                                                                                                                                                                                                 \n",
       "3    purchase get great deal flipkart thank flipkart deliver estimate date great experience flipkart                                                                                                                                                                                                                      \n",
       "4    love size phone camera good love io performance good overall                                                                                                                                                                                                                                                         \n",
       "5    pro                                                                                                                                                                                                                                                                                                                  \n",
       "6    purchase bbd 2016 oct 5months use find good bad point                                                                                                                                                                                                                                                                \n",
       "7    move android io turn good reason camera well pricetag particularly camera rest excellent loudspeaker unblvably good                                                                                                                                                                                                  \n",
       "8    know good feature iphone go mention review want know iphone well android stop read review review android user think switch iphone android problem lay ahead                                                                                                                                                          \n",
       "9    awesome product                                                                                                                                                                                                                                                                                                      \n",
       "Name: review, dtype: object"
      ]
     },
     "execution_count": 107,
     "metadata": {},
     "output_type": "execute_result"
    }
   ],
   "source": [
    "df.head(10)[\"review\"]"
   ]
  },
  {
   "cell_type": "code",
   "execution_count": 108,
   "id": "ee1cce60",
   "metadata": {},
   "outputs": [
    {
     "data": {
      "text/plain": [
       "'beauty 6 day order big billion day sale brand new refurbish get charger headset pin box got check apple service center build truly premium sophisticated space grey color blaze fast device hang heat lag give 1 day battery moderate use like whatsapp regularly check email interval call 1st iphone come android s 1st guy believe online shopping specially phone specially apple super class phone display awesome sound awesome camera good quality great deal price purchase get great deal flipkart thank flipkart deliver estimate date great experience flipkart love size phone camera good love io performance good overall pro purchase bbd 2016 oct 5months use find good bad point move android io turn good reason camera well pricetag particularly camera rest excellent loudspeaker unblvably good know good feature iphone go mention review want know iphone well android stop read review review android user think switch iphone android problem lay ahead awesome product'"
      ]
     },
     "execution_count": 108,
     "metadata": {},
     "output_type": "execute_result"
    }
   ],
   "source": [
    "' '.join(df.head(10)[\"review\"])"
   ]
  },
  {
   "cell_type": "code",
   "execution_count": 109,
   "id": "02faf891",
   "metadata": {},
   "outputs": [],
   "source": [
    "text=' '.join(df[\"review\"])"
   ]
  },
  {
   "cell_type": "code",
   "execution_count": 110,
   "id": "a25e3d98",
   "metadata": {},
   "outputs": [],
   "source": [
    "text=text.split()"
   ]
  },
  {
   "cell_type": "code",
   "execution_count": 111,
   "id": "9eca5b8c",
   "metadata": {},
   "outputs": [],
   "source": [
    "freq_comm=pd.Series(text).value_counts()"
   ]
  },
  {
   "cell_type": "code",
   "execution_count": 112,
   "id": "d5381ad1",
   "metadata": {},
   "outputs": [],
   "source": [
    "freq_comm15=freq_comm[:15]"
   ]
  },
  {
   "cell_type": "code",
   "execution_count": 113,
   "id": "b3cc5423",
   "metadata": {},
   "outputs": [
    {
     "data": {
      "text/plain": [
       "good           985\n",
       "phone          971\n",
       "product        425\n",
       "camera         303\n",
       "awesome        292\n",
       "flipkart       243\n",
       "battery        237\n",
       "price          234\n",
       "performance    223\n",
       "iphone         219\n",
       "great          217\n",
       "nice           209\n",
       "mobile         204\n",
       "buy            194\n",
       "money          156\n",
       "dtype: int64"
      ]
     },
     "execution_count": 113,
     "metadata": {},
     "output_type": "execute_result"
    }
   ],
   "source": [
    "freq_comm15"
   ]
  },
  {
   "cell_type": "markdown",
   "id": "02b1a255",
   "metadata": {},
   "source": [
    "Removing top 15 most occuring types of words"
   ]
  },
  {
   "cell_type": "code",
   "execution_count": 114,
   "id": "63040156",
   "metadata": {},
   "outputs": [],
   "source": [
    "df['review']=df['review'].apply(lambda x: \" \".join([t for t in x.split() if t not in freq_comm15]))"
   ]
  },
  {
   "cell_type": "markdown",
   "id": "3fbf41f5",
   "metadata": {},
   "source": [
    "Removing rare occuring words"
   ]
  },
  {
   "cell_type": "code",
   "execution_count": 115,
   "id": "1d9c9e23",
   "metadata": {},
   "outputs": [],
   "source": [
    "rare_comm20=freq_comm[-20:]"
   ]
  },
  {
   "cell_type": "code",
   "execution_count": 116,
   "id": "e5dc8687",
   "metadata": {},
   "outputs": [
    {
     "data": {
      "text/plain": [
       "waranty      1\n",
       "blank        1\n",
       "earpod       1\n",
       "90           1\n",
       "pleaseee     1\n",
       "nycccc       1\n",
       "13rd         1\n",
       "lay          1\n",
       "settle       1\n",
       "am           1\n",
       "horrible     1\n",
       "ota          1\n",
       "sluggish     1\n",
       "extremely    1\n",
       "lame         1\n",
       "hiding       1\n",
       "nfs          1\n",
       "niece        1\n",
       "feat         1\n",
       "approx       1\n",
       "dtype: int64"
      ]
     },
     "execution_count": 116,
     "metadata": {},
     "output_type": "execute_result"
    }
   ],
   "source": [
    "rare_comm20"
   ]
  },
  {
   "cell_type": "code",
   "execution_count": 117,
   "id": "83fbc811",
   "metadata": {},
   "outputs": [],
   "source": [
    "rare=freq_comm[freq_comm.values==1]"
   ]
  },
  {
   "cell_type": "code",
   "execution_count": 118,
   "id": "c600f412",
   "metadata": {},
   "outputs": [
    {
     "data": {
      "text/plain": [
       "compass       1\n",
       "24hrs         1\n",
       "fullscreen    1\n",
       "peek          1\n",
       "tempered      1\n",
       "             ..\n",
       "hiding        1\n",
       "nfs           1\n",
       "niece         1\n",
       "feat          1\n",
       "approx        1\n",
       "Length: 1273, dtype: int64"
      ]
     },
     "execution_count": 118,
     "metadata": {},
     "output_type": "execute_result"
    }
   ],
   "source": [
    "rare"
   ]
  },
  {
   "cell_type": "code",
   "execution_count": 119,
   "id": "b42e9305",
   "metadata": {},
   "outputs": [
    {
     "data": {
      "text/plain": [
       "1273"
      ]
     },
     "execution_count": 119,
     "metadata": {},
     "output_type": "execute_result"
    }
   ],
   "source": [
    "len(rare)"
   ]
  },
  {
   "cell_type": "code",
   "execution_count": 120,
   "id": "2d44dcfe",
   "metadata": {},
   "outputs": [],
   "source": [
    "df['review']=df['review'].apply(lambda x: ' '.join([t for t in x.split() if t not in rare]))"
   ]
  },
  {
   "cell_type": "code",
   "execution_count": 121,
   "id": "869350d0",
   "metadata": {},
   "outputs": [
    {
     "data": {
      "text/plain": [
       "0    beauty 6 day order big billion day sale brand new refurbish get charger headset box got check apple service center build truly premium sophisticated space grey color blaze fast device hang heat lag give 1 day moderate use like whatsapp check email call 1st come android s\n",
       "1    1st guy believe online shopping specially specially apple                                                                                                                                                                                                                      \n",
       "2    super class display sound quality deal                                                                                                                                                                                                                                         \n",
       "3    purchase get deal thank deliver estimate date experience                                                                                                                                                                                                                       \n",
       "4    love size love io overall                                                                                                                                                                                                                                                      \n",
       "Name: review, dtype: object"
      ]
     },
     "execution_count": 121,
     "metadata": {},
     "output_type": "execute_result"
    }
   ],
   "source": [
    "df['review'].head()"
   ]
  },
  {
   "cell_type": "markdown",
   "id": "54582b8e",
   "metadata": {},
   "source": [
    "#Word Cloud Visualisation"
   ]
  },
  {
   "cell_type": "markdown",
   "id": "6a478f18",
   "metadata": {},
   "source": []
  },
  {
   "cell_type": "code",
   "execution_count": 122,
   "id": "d3ced110",
   "metadata": {},
   "outputs": [],
   "source": [
    "from wordcloud import WordCloud"
   ]
  },
  {
   "cell_type": "code",
   "execution_count": 123,
   "id": "035c98c6",
   "metadata": {},
   "outputs": [],
   "source": [
    "text=\"\".join(text)"
   ]
  },
  {
   "cell_type": "code",
   "execution_count": 124,
   "id": "1bc6fd98",
   "metadata": {},
   "outputs": [],
   "source": [
    "import matplotlib.pyplot as plt\n",
    "%matplotlib inline"
   ]
  },
  {
   "cell_type": "code",
   "execution_count": 125,
   "id": "ad02c4fd",
   "metadata": {},
   "outputs": [
    {
     "data": {
      "text/plain": [
       "\"wc=WordCloud(width=900,height=600).generate(text)\\nplt.imshow(wc)\\nplt.axis('off')\\nplt.show()\""
      ]
     },
     "execution_count": 125,
     "metadata": {},
     "output_type": "execute_result"
    }
   ],
   "source": [
    "'''wc=WordCloud(width=900,height=600).generate(text)\n",
    "plt.imshow(wc)\n",
    "plt.axis('off')\n",
    "plt.show()'''"
   ]
  },
  {
   "cell_type": "code",
   "execution_count": null,
   "id": "8ea5765d",
   "metadata": {},
   "outputs": [],
   "source": []
  },
  {
   "cell_type": "markdown",
   "id": "b2a87462",
   "metadata": {},
   "source": [
    "# Lets do the Spelling Correction of words."
   ]
  },
  {
   "cell_type": "code",
   "execution_count": 126,
   "id": "005de3f8",
   "metadata": {},
   "outputs": [],
   "source": [
    "from textblob import TextBlob"
   ]
  },
  {
   "cell_type": "code",
   "execution_count": 127,
   "id": "eeb86ec9",
   "metadata": {},
   "outputs": [],
   "source": [
    "x=\"thnks forr waching this vidio carefuly\""
   ]
  },
  {
   "cell_type": "code",
   "execution_count": 128,
   "id": "2270ce26",
   "metadata": {},
   "outputs": [],
   "source": [
    "x=TextBlob(x).correct()"
   ]
  },
  {
   "cell_type": "code",
   "execution_count": 129,
   "id": "6866830f",
   "metadata": {},
   "outputs": [
    {
     "data": {
      "text/plain": [
       "TextBlob(\"thanks for watching this video carefully\")"
      ]
     },
     "execution_count": 129,
     "metadata": {},
     "output_type": "execute_result"
    }
   ],
   "source": [
    "x"
   ]
  },
  {
   "cell_type": "code",
   "execution_count": 130,
   "id": "9b22c816",
   "metadata": {},
   "outputs": [],
   "source": [
    "#df['review']=df['review'].apply(lambda x:TextBlob(x).correct())"
   ]
  },
  {
   "cell_type": "markdown",
   "id": "02451f1d",
   "metadata": {},
   "source": [
    "# Lets do the Tokenization"
   ]
  },
  {
   "cell_type": "code",
   "execution_count": 133,
   "id": "0c73f66f",
   "metadata": {},
   "outputs": [],
   "source": [
    "x=\"Thanks for watching this video\""
   ]
  },
  {
   "cell_type": "code",
   "execution_count": 134,
   "id": "07824dbb",
   "metadata": {},
   "outputs": [
    {
     "data": {
      "text/plain": [
       "WordList(['Thanks', 'for', 'watching', 'this', 'video'])"
      ]
     },
     "execution_count": 134,
     "metadata": {},
     "output_type": "execute_result"
    }
   ],
   "source": [
    "TextBlob(x).words"
   ]
  },
  {
   "cell_type": "code",
   "execution_count": 135,
   "id": "ecc8d9ef",
   "metadata": {},
   "outputs": [],
   "source": [
    "df['review_token']=df['review'].apply(lambda x:TextBlob(x).words)"
   ]
  },
  {
   "cell_type": "code",
   "execution_count": 136,
   "id": "5a5b571c",
   "metadata": {},
   "outputs": [
    {
     "data": {
      "text/html": [
       "<div>\n",
       "<style scoped>\n",
       "    .dataframe tbody tr th:only-of-type {\n",
       "        vertical-align: middle;\n",
       "    }\n",
       "\n",
       "    .dataframe tbody tr th {\n",
       "        vertical-align: top;\n",
       "    }\n",
       "\n",
       "    .dataframe thead th {\n",
       "        text-align: right;\n",
       "    }\n",
       "</style>\n",
       "<table border=\"1\" class=\"dataframe\">\n",
       "  <thead>\n",
       "    <tr style=\"text-align: right;\">\n",
       "      <th></th>\n",
       "      <th>ratings</th>\n",
       "      <th>review</th>\n",
       "      <th>Word_counts</th>\n",
       "      <th>Char_counts</th>\n",
       "      <th>average_word_length</th>\n",
       "      <th>stop_words</th>\n",
       "      <th>hashtags_count</th>\n",
       "      <th>mention_count</th>\n",
       "      <th>numeric_count</th>\n",
       "      <th>upper_case_alphabet_count</th>\n",
       "      <th>emails</th>\n",
       "      <th>emails_count</th>\n",
       "      <th>url_flag</th>\n",
       "      <th>review_token</th>\n",
       "    </tr>\n",
       "  </thead>\n",
       "  <tbody>\n",
       "    <tr>\n",
       "      <th>0</th>\n",
       "      <td>4.0</td>\n",
       "      <td>beauty 6 day order big billion day sale brand new refurbish get charger headset box got check apple service center build truly premium sophisticated space grey color blaze fast device hang heat lag give 1 day moderate use like whatsapp check email call 1st come android s</td>\n",
       "      <td>90</td>\n",
       "      <td>500</td>\n",
       "      <td>4.555556</td>\n",
       "      <td>37</td>\n",
       "      <td>0</td>\n",
       "      <td>0</td>\n",
       "      <td>3</td>\n",
       "      <td>0</td>\n",
       "      <td>[]</td>\n",
       "      <td>0</td>\n",
       "      <td>0</td>\n",
       "      <td>[beauty, 6, day, order, big, billion, day, sale, brand, new, refurbish, get, charger, headset, box, got, check, apple, service, center, build, truly, premium, sophisticated, space, grey, color, blaze, fast, device, hang, heat, lag, give, 1, day, moderate, use, like, whatsapp, check, email, call, 1st, come, android, s]</td>\n",
       "    </tr>\n",
       "    <tr>\n",
       "      <th>1</th>\n",
       "      <td>5.0</td>\n",
       "      <td>1st guy believe online shopping specially specially apple</td>\n",
       "      <td>16</td>\n",
       "      <td>92</td>\n",
       "      <td>4.812500</td>\n",
       "      <td>6</td>\n",
       "      <td>0</td>\n",
       "      <td>0</td>\n",
       "      <td>1</td>\n",
       "      <td>0</td>\n",
       "      <td>[]</td>\n",
       "      <td>0</td>\n",
       "      <td>0</td>\n",
       "      <td>[1st, guy, believe, online, shopping, specially, specially, apple]</td>\n",
       "    </tr>\n",
       "    <tr>\n",
       "      <th>2</th>\n",
       "      <td>5.0</td>\n",
       "      <td>super class display sound quality deal</td>\n",
       "      <td>15</td>\n",
       "      <td>95</td>\n",
       "      <td>5.333333</td>\n",
       "      <td>2</td>\n",
       "      <td>0</td>\n",
       "      <td>0</td>\n",
       "      <td>0</td>\n",
       "      <td>0</td>\n",
       "      <td>[]</td>\n",
       "      <td>0</td>\n",
       "      <td>0</td>\n",
       "      <td>[super, class, display, sound, quality, deal]</td>\n",
       "    </tr>\n",
       "    <tr>\n",
       "      <th>3</th>\n",
       "      <td>5.0</td>\n",
       "      <td>purchase get deal thank deliver estimate date experience</td>\n",
       "      <td>26</td>\n",
       "      <td>154</td>\n",
       "      <td>4.961538</td>\n",
       "      <td>10</td>\n",
       "      <td>0</td>\n",
       "      <td>0</td>\n",
       "      <td>0</td>\n",
       "      <td>0</td>\n",
       "      <td>[]</td>\n",
       "      <td>0</td>\n",
       "      <td>0</td>\n",
       "      <td>[purchase, get, deal, thank, deliver, estimate, date, experience]</td>\n",
       "    </tr>\n",
       "    <tr>\n",
       "      <th>4</th>\n",
       "      <td>4.0</td>\n",
       "      <td>love size love io overall</td>\n",
       "      <td>18</td>\n",
       "      <td>89</td>\n",
       "      <td>4.000000</td>\n",
       "      <td>8</td>\n",
       "      <td>0</td>\n",
       "      <td>0</td>\n",
       "      <td>0</td>\n",
       "      <td>0</td>\n",
       "      <td>[]</td>\n",
       "      <td>0</td>\n",
       "      <td>0</td>\n",
       "      <td>[love, size, love, io, overall]</td>\n",
       "    </tr>\n",
       "  </tbody>\n",
       "</table>\n",
       "</div>"
      ],
      "text/plain": [
       "   ratings  \\\n",
       "0  4.0       \n",
       "1  5.0       \n",
       "2  5.0       \n",
       "3  5.0       \n",
       "4  4.0       \n",
       "\n",
       "                                                                                                                                                                                                                                                                            review  \\\n",
       "0  beauty 6 day order big billion day sale brand new refurbish get charger headset box got check apple service center build truly premium sophisticated space grey color blaze fast device hang heat lag give 1 day moderate use like whatsapp check email call 1st come android s   \n",
       "1  1st guy believe online shopping specially specially apple                                                                                                                                                                                                                         \n",
       "2  super class display sound quality deal                                                                                                                                                                                                                                            \n",
       "3  purchase get deal thank deliver estimate date experience                                                                                                                                                                                                                          \n",
       "4  love size love io overall                                                                                                                                                                                                                                                         \n",
       "\n",
       "   Word_counts  Char_counts  average_word_length  stop_words  hashtags_count  \\\n",
       "0  90           500          4.555556             37          0                \n",
       "1  16           92           4.812500             6           0                \n",
       "2  15           95           5.333333             2           0                \n",
       "3  26           154          4.961538             10          0                \n",
       "4  18           89           4.000000             8           0                \n",
       "\n",
       "   mention_count  numeric_count  upper_case_alphabet_count emails  \\\n",
       "0  0              3              0                          []      \n",
       "1  0              1              0                          []      \n",
       "2  0              0              0                          []      \n",
       "3  0              0              0                          []      \n",
       "4  0              0              0                          []      \n",
       "\n",
       "   emails_count  url_flag  \\\n",
       "0  0             0          \n",
       "1  0             0          \n",
       "2  0             0          \n",
       "3  0             0          \n",
       "4  0             0          \n",
       "\n",
       "                                                                                                                                                                                                                                                                                                                      review_token  \n",
       "0  [beauty, 6, day, order, big, billion, day, sale, brand, new, refurbish, get, charger, headset, box, got, check, apple, service, center, build, truly, premium, sophisticated, space, grey, color, blaze, fast, device, hang, heat, lag, give, 1, day, moderate, use, like, whatsapp, check, email, call, 1st, come, android, s]  \n",
       "1  [1st, guy, believe, online, shopping, specially, specially, apple]                                                                                                                                                                                                                                                               \n",
       "2  [super, class, display, sound, quality, deal]                                                                                                                                                                                                                                                                                    \n",
       "3  [purchase, get, deal, thank, deliver, estimate, date, experience]                                                                                                                                                                                                                                                                \n",
       "4  [love, size, love, io, overall]                                                                                                                                                                                                                                                                                                  "
      ]
     },
     "execution_count": 136,
     "metadata": {},
     "output_type": "execute_result"
    }
   ],
   "source": [
    "df.head()"
   ]
  },
  {
   "cell_type": "markdown",
   "id": "140952b6",
   "metadata": {},
   "source": [
    "# Let us do the Lemmatization."
   ]
  },
  {
   "cell_type": "code",
   "execution_count": 137,
   "id": "ca52d47f",
   "metadata": {},
   "outputs": [],
   "source": [
    "x='runs run running ran'"
   ]
  },
  {
   "cell_type": "code",
   "execution_count": 138,
   "id": "4eb2d096",
   "metadata": {},
   "outputs": [],
   "source": [
    "from textblob import Word"
   ]
  },
  {
   "cell_type": "code",
   "execution_count": 139,
   "id": "b88fcdc3",
   "metadata": {},
   "outputs": [
    {
     "name": "stdout",
     "output_type": "stream",
     "text": [
      "run\n",
      "run\n",
      "running\n",
      "ran\n"
     ]
    }
   ],
   "source": [
    "for token in x.split():\n",
    "    print(Word(token).lemmatize())"
   ]
  },
  {
   "cell_type": "code",
   "execution_count": 140,
   "id": "0071df84",
   "metadata": {},
   "outputs": [
    {
     "name": "stdout",
     "output_type": "stream",
     "text": [
      "run\n",
      "run\n",
      "run\n",
      "run\n"
     ]
    }
   ],
   "source": [
    "doc=nlp(x)\n",
    "for token in doc:\n",
    "    print(token.lemma_)"
   ]
  },
  {
   "cell_type": "code",
   "execution_count": 143,
   "id": "3bc797b1",
   "metadata": {},
   "outputs": [],
   "source": [
    "def lemmatization_sentence(x):\n",
    "    doc=nlp(x)\n",
    "    l=[]\n",
    "    for token in doc:\n",
    "        x=(token.lemma_)\n",
    "        l.append(x)\n",
    "    return \" \".join(l)\n",
    "    "
   ]
  },
  {
   "cell_type": "code",
   "execution_count": 144,
   "id": "623799fa",
   "metadata": {},
   "outputs": [
    {
     "name": "stdout",
     "output_type": "stream",
     "text": [
      "Wall time: 17.9 s\n"
     ]
    }
   ],
   "source": [
    "%%time\n",
    "df['review_lemmatized']=df['review'].apply(lambda x:lemmatization_sentence(x))"
   ]
  },
  {
   "cell_type": "code",
   "execution_count": 145,
   "id": "430fe9e1",
   "metadata": {},
   "outputs": [
    {
     "data": {
      "text/html": [
       "<div>\n",
       "<style scoped>\n",
       "    .dataframe tbody tr th:only-of-type {\n",
       "        vertical-align: middle;\n",
       "    }\n",
       "\n",
       "    .dataframe tbody tr th {\n",
       "        vertical-align: top;\n",
       "    }\n",
       "\n",
       "    .dataframe thead th {\n",
       "        text-align: right;\n",
       "    }\n",
       "</style>\n",
       "<table border=\"1\" class=\"dataframe\">\n",
       "  <thead>\n",
       "    <tr style=\"text-align: right;\">\n",
       "      <th></th>\n",
       "      <th>ratings</th>\n",
       "      <th>review</th>\n",
       "      <th>Word_counts</th>\n",
       "      <th>Char_counts</th>\n",
       "      <th>average_word_length</th>\n",
       "      <th>stop_words</th>\n",
       "      <th>hashtags_count</th>\n",
       "      <th>mention_count</th>\n",
       "      <th>numeric_count</th>\n",
       "      <th>upper_case_alphabet_count</th>\n",
       "      <th>emails</th>\n",
       "      <th>emails_count</th>\n",
       "      <th>url_flag</th>\n",
       "      <th>review_token</th>\n",
       "      <th>review_lemmatized</th>\n",
       "    </tr>\n",
       "  </thead>\n",
       "  <tbody>\n",
       "    <tr>\n",
       "      <th>0</th>\n",
       "      <td>4.0</td>\n",
       "      <td>beauty 6 day order big billion day sale brand new refurbish get charger headset box got check apple service center build truly premium sophisticated space grey color blaze fast device hang heat lag give 1 day moderate use like whatsapp check email call 1st come android s</td>\n",
       "      <td>90</td>\n",
       "      <td>500</td>\n",
       "      <td>4.555556</td>\n",
       "      <td>37</td>\n",
       "      <td>0</td>\n",
       "      <td>0</td>\n",
       "      <td>3</td>\n",
       "      <td>0</td>\n",
       "      <td>[]</td>\n",
       "      <td>0</td>\n",
       "      <td>0</td>\n",
       "      <td>[beauty, 6, day, order, big, billion, day, sale, brand, new, refurbish, get, charger, headset, box, got, check, apple, service, center, build, truly, premium, sophisticated, space, grey, color, blaze, fast, device, hang, heat, lag, give, 1, day, moderate, use, like, whatsapp, check, email, call, 1st, come, android, s]</td>\n",
       "      <td>beauty 6 day order big billion day sale brand new refurbish get charger headset box get check apple service center build truly premium sophisticated space grey color blaze fast device hang heat lag give 1 day moderate use like whatsapp check email call 1st come android s</td>\n",
       "    </tr>\n",
       "    <tr>\n",
       "      <th>1</th>\n",
       "      <td>5.0</td>\n",
       "      <td>1st guy believe online shopping specially specially apple</td>\n",
       "      <td>16</td>\n",
       "      <td>92</td>\n",
       "      <td>4.812500</td>\n",
       "      <td>6</td>\n",
       "      <td>0</td>\n",
       "      <td>0</td>\n",
       "      <td>1</td>\n",
       "      <td>0</td>\n",
       "      <td>[]</td>\n",
       "      <td>0</td>\n",
       "      <td>0</td>\n",
       "      <td>[1st, guy, believe, online, shopping, specially, specially, apple]</td>\n",
       "      <td>1st guy believe online shopping specially specially apple</td>\n",
       "    </tr>\n",
       "    <tr>\n",
       "      <th>2</th>\n",
       "      <td>5.0</td>\n",
       "      <td>super class display sound quality deal</td>\n",
       "      <td>15</td>\n",
       "      <td>95</td>\n",
       "      <td>5.333333</td>\n",
       "      <td>2</td>\n",
       "      <td>0</td>\n",
       "      <td>0</td>\n",
       "      <td>0</td>\n",
       "      <td>0</td>\n",
       "      <td>[]</td>\n",
       "      <td>0</td>\n",
       "      <td>0</td>\n",
       "      <td>[super, class, display, sound, quality, deal]</td>\n",
       "      <td>super class display sound quality deal</td>\n",
       "    </tr>\n",
       "    <tr>\n",
       "      <th>3</th>\n",
       "      <td>5.0</td>\n",
       "      <td>purchase get deal thank deliver estimate date experience</td>\n",
       "      <td>26</td>\n",
       "      <td>154</td>\n",
       "      <td>4.961538</td>\n",
       "      <td>10</td>\n",
       "      <td>0</td>\n",
       "      <td>0</td>\n",
       "      <td>0</td>\n",
       "      <td>0</td>\n",
       "      <td>[]</td>\n",
       "      <td>0</td>\n",
       "      <td>0</td>\n",
       "      <td>[purchase, get, deal, thank, deliver, estimate, date, experience]</td>\n",
       "      <td>purchase get deal thank deliver estimate date experience</td>\n",
       "    </tr>\n",
       "    <tr>\n",
       "      <th>4</th>\n",
       "      <td>4.0</td>\n",
       "      <td>love size love io overall</td>\n",
       "      <td>18</td>\n",
       "      <td>89</td>\n",
       "      <td>4.000000</td>\n",
       "      <td>8</td>\n",
       "      <td>0</td>\n",
       "      <td>0</td>\n",
       "      <td>0</td>\n",
       "      <td>0</td>\n",
       "      <td>[]</td>\n",
       "      <td>0</td>\n",
       "      <td>0</td>\n",
       "      <td>[love, size, love, io, overall]</td>\n",
       "      <td>love size love io overall</td>\n",
       "    </tr>\n",
       "    <tr>\n",
       "      <th>...</th>\n",
       "      <td>...</td>\n",
       "      <td>...</td>\n",
       "      <td>...</td>\n",
       "      <td>...</td>\n",
       "      <td>...</td>\n",
       "      <td>...</td>\n",
       "      <td>...</td>\n",
       "      <td>...</td>\n",
       "      <td>...</td>\n",
       "      <td>...</td>\n",
       "      <td>...</td>\n",
       "      <td>...</td>\n",
       "      <td>...</td>\n",
       "      <td>...</td>\n",
       "      <td>...</td>\n",
       "    </tr>\n",
       "    <tr>\n",
       "      <th>2324</th>\n",
       "      <td>4.0</td>\n",
       "      <td>value need improve</td>\n",
       "      <td>11</td>\n",
       "      <td>64</td>\n",
       "      <td>4.909091</td>\n",
       "      <td>4</td>\n",
       "      <td>0</td>\n",
       "      <td>0</td>\n",
       "      <td>0</td>\n",
       "      <td>0</td>\n",
       "      <td>[]</td>\n",
       "      <td>0</td>\n",
       "      <td>0</td>\n",
       "      <td>[value, need, improve]</td>\n",
       "      <td>value need improve</td>\n",
       "    </tr>\n",
       "    <tr>\n",
       "      <th>2325</th>\n",
       "      <td>4.0</td>\n",
       "      <td>affordable</td>\n",
       "      <td>5</td>\n",
       "      <td>30</td>\n",
       "      <td>5.200000</td>\n",
       "      <td>1</td>\n",
       "      <td>0</td>\n",
       "      <td>0</td>\n",
       "      <td>0</td>\n",
       "      <td>0</td>\n",
       "      <td>[]</td>\n",
       "      <td>0</td>\n",
       "      <td>0</td>\n",
       "      <td>[affordable]</td>\n",
       "      <td>affordable</td>\n",
       "    </tr>\n",
       "    <tr>\n",
       "      <th>2326</th>\n",
       "      <td>5.0</td>\n",
       "      <td>bad</td>\n",
       "      <td>5</td>\n",
       "      <td>26</td>\n",
       "      <td>4.400000</td>\n",
       "      <td>2</td>\n",
       "      <td>0</td>\n",
       "      <td>0</td>\n",
       "      <td>0</td>\n",
       "      <td>0</td>\n",
       "      <td>[]</td>\n",
       "      <td>0</td>\n",
       "      <td>0</td>\n",
       "      <td>[bad]</td>\n",
       "      <td>bad</td>\n",
       "    </tr>\n",
       "    <tr>\n",
       "      <th>2327</th>\n",
       "      <td>5.0</td>\n",
       "      <td>excellent</td>\n",
       "      <td>4</td>\n",
       "      <td>38</td>\n",
       "      <td>8.750000</td>\n",
       "      <td>0</td>\n",
       "      <td>0</td>\n",
       "      <td>0</td>\n",
       "      <td>0</td>\n",
       "      <td>0</td>\n",
       "      <td>[]</td>\n",
       "      <td>0</td>\n",
       "      <td>0</td>\n",
       "      <td>[excellent]</td>\n",
       "      <td>excellent</td>\n",
       "    </tr>\n",
       "    <tr>\n",
       "      <th>2328</th>\n",
       "      <td>5.0</td>\n",
       "      <td>experience pubg high graphic</td>\n",
       "      <td>5</td>\n",
       "      <td>32</td>\n",
       "      <td>5.600000</td>\n",
       "      <td>1</td>\n",
       "      <td>0</td>\n",
       "      <td>0</td>\n",
       "      <td>0</td>\n",
       "      <td>0</td>\n",
       "      <td>[]</td>\n",
       "      <td>0</td>\n",
       "      <td>0</td>\n",
       "      <td>[experience, pubg, high, graphic]</td>\n",
       "      <td>experience pubg high graphic</td>\n",
       "    </tr>\n",
       "  </tbody>\n",
       "</table>\n",
       "<p>2328 rows × 15 columns</p>\n",
       "</div>"
      ],
      "text/plain": [
       "      ratings  \\\n",
       "0     4.0       \n",
       "1     5.0       \n",
       "2     5.0       \n",
       "3     5.0       \n",
       "4     4.0       \n",
       "...   ...       \n",
       "2324  4.0       \n",
       "2325  4.0       \n",
       "2326  5.0       \n",
       "2327  5.0       \n",
       "2328  5.0       \n",
       "\n",
       "                                                                                                                                                                                                                                                                               review  \\\n",
       "0     beauty 6 day order big billion day sale brand new refurbish get charger headset box got check apple service center build truly premium sophisticated space grey color blaze fast device hang heat lag give 1 day moderate use like whatsapp check email call 1st come android s   \n",
       "1     1st guy believe online shopping specially specially apple                                                                                                                                                                                                                         \n",
       "2     super class display sound quality deal                                                                                                                                                                                                                                            \n",
       "3     purchase get deal thank deliver estimate date experience                                                                                                                                                                                                                          \n",
       "4     love size love io overall                                                                                                                                                                                                                                                         \n",
       "...                         ...                                                                                                                                                                                                                                                         \n",
       "2324  value need improve                                                                                                                                                                                                                                                                \n",
       "2325  affordable                                                                                                                                                                                                                                                                        \n",
       "2326  bad                                                                                                                                                                                                                                                                               \n",
       "2327  excellent                                                                                                                                                                                                                                                                         \n",
       "2328  experience pubg high graphic                                                                                                                                                                                                                                                      \n",
       "\n",
       "      Word_counts  Char_counts  average_word_length  stop_words  \\\n",
       "0     90           500          4.555556             37           \n",
       "1     16           92           4.812500             6            \n",
       "2     15           95           5.333333             2            \n",
       "3     26           154          4.961538             10           \n",
       "4     18           89           4.000000             8            \n",
       "...   ..           ..                ...            ..            \n",
       "2324  11           64           4.909091             4            \n",
       "2325  5            30           5.200000             1            \n",
       "2326  5            26           4.400000             2            \n",
       "2327  4            38           8.750000             0            \n",
       "2328  5            32           5.600000             1            \n",
       "\n",
       "      hashtags_count  mention_count  numeric_count  upper_case_alphabet_count  \\\n",
       "0     0               0              3              0                           \n",
       "1     0               0              1              0                           \n",
       "2     0               0              0              0                           \n",
       "3     0               0              0              0                           \n",
       "4     0               0              0              0                           \n",
       "...  ..              ..             ..             ..                           \n",
       "2324  0               0              0              0                           \n",
       "2325  0               0              0              0                           \n",
       "2326  0               0              0              0                           \n",
       "2327  0               0              0              0                           \n",
       "2328  0               0              0              0                           \n",
       "\n",
       "     emails  emails_count  url_flag  \\\n",
       "0     []     0             0          \n",
       "1     []     0             0          \n",
       "2     []     0             0          \n",
       "3     []     0             0          \n",
       "4     []     0             0          \n",
       "...   ..    ..            ..          \n",
       "2324  []     0             0          \n",
       "2325  []     0             0          \n",
       "2326  []     0             0          \n",
       "2327  []     0             0          \n",
       "2328  []     0             0          \n",
       "\n",
       "                                                                                                                                                                                                                                                                                                                         review_token  \\\n",
       "0     [beauty, 6, day, order, big, billion, day, sale, brand, new, refurbish, get, charger, headset, box, got, check, apple, service, center, build, truly, premium, sophisticated, space, grey, color, blaze, fast, device, hang, heat, lag, give, 1, day, moderate, use, like, whatsapp, check, email, call, 1st, come, android, s]   \n",
       "1     [1st, guy, believe, online, shopping, specially, specially, apple]                                                                                                                                                                                                                                                                \n",
       "2     [super, class, display, sound, quality, deal]                                                                                                                                                                                                                                                                                     \n",
       "3     [purchase, get, deal, thank, deliver, estimate, date, experience]                                                                                                                                                                                                                                                                 \n",
       "4     [love, size, love, io, overall]                                                                                                                                                                                                                                                                                                   \n",
       "...                               ...                                                                                                                                                                                                                                                                                                   \n",
       "2324  [value, need, improve]                                                                                                                                                                                                                                                                                                            \n",
       "2325  [affordable]                                                                                                                                                                                                                                                                                                                      \n",
       "2326  [bad]                                                                                                                                                                                                                                                                                                                             \n",
       "2327  [excellent]                                                                                                                                                                                                                                                                                                                       \n",
       "2328  [experience, pubg, high, graphic]                                                                                                                                                                                                                                                                                                 \n",
       "\n",
       "                                                                                                                                                                                                                                                                    review_lemmatized  \n",
       "0     beauty 6 day order big billion day sale brand new refurbish get charger headset box get check apple service center build truly premium sophisticated space grey color blaze fast device hang heat lag give 1 day moderate use like whatsapp check email call 1st come android s  \n",
       "1     1st guy believe online shopping specially specially apple                                                                                                                                                                                                                        \n",
       "2     super class display sound quality deal                                                                                                                                                                                                                                           \n",
       "3     purchase get deal thank deliver estimate date experience                                                                                                                                                                                                                         \n",
       "4     love size love io overall                                                                                                                                                                                                                                                        \n",
       "...                         ...                                                                                                                                                                                                                                                        \n",
       "2324  value need improve                                                                                                                                                                                                                                                               \n",
       "2325  affordable                                                                                                                                                                                                                                                                       \n",
       "2326  bad                                                                                                                                                                                                                                                                              \n",
       "2327  excellent                                                                                                                                                                                                                                                                        \n",
       "2328  experience pubg high graphic                                                                                                                                                                                                                                                     \n",
       "\n",
       "[2328 rows x 15 columns]"
      ]
     },
     "execution_count": 145,
     "metadata": {},
     "output_type": "execute_result"
    }
   ],
   "source": [
    "df"
   ]
  },
  {
   "cell_type": "markdown",
   "id": "df0c0634",
   "metadata": {},
   "source": [
    "# TFIDF AND LINEAR SVM"
   ]
  },
  {
   "cell_type": "code",
   "execution_count": 146,
   "id": "791415a8",
   "metadata": {},
   "outputs": [],
   "source": [
    "#Importing important modules OF ML.\n",
    "from sklearn.feature_extraction.text import TfidfVectorizer\n",
    "from sklearn.model_selection import train_test_split\n",
    "from sklearn.svm import LinearSVC\n",
    "from sklearn.metrics import classification_report"
   ]
  },
  {
   "cell_type": "code",
   "execution_count": 147,
   "id": "1bf48352",
   "metadata": {},
   "outputs": [
    {
     "data": {
      "text/plain": [
       "Index(['ratings', 'review', 'Word_counts', 'Char_counts',\n",
       "       'average_word_length', 'stop_words', 'hashtags_count', 'mention_count',\n",
       "       'numeric_count', 'upper_case_alphabet_count', 'emails', 'emails_count',\n",
       "       'url_flag', 'review_token', 'review_lemmatized'],\n",
       "      dtype='object')"
      ]
     },
     "execution_count": 147,
     "metadata": {},
     "output_type": "execute_result"
    }
   ],
   "source": [
    "df.columns"
   ]
  },
  {
   "cell_type": "code",
   "execution_count": 148,
   "id": "3f43e69d",
   "metadata": {},
   "outputs": [],
   "source": [
    "df=df[['ratings','review_lemmatized', 'review', 'Word_counts', 'Char_counts',\n",
    "       'average_word_length', 'stop_words', 'hashtags_count', 'mention_count',\n",
    "       'numeric_count', 'upper_case_alphabet_count', 'emails', 'emails_count',\n",
    "       'url_flag', 'review_token']]"
   ]
  },
  {
   "cell_type": "code",
   "execution_count": 149,
   "id": "4ec96786",
   "metadata": {},
   "outputs": [
    {
     "data": {
      "text/html": [
       "<div>\n",
       "<style scoped>\n",
       "    .dataframe tbody tr th:only-of-type {\n",
       "        vertical-align: middle;\n",
       "    }\n",
       "\n",
       "    .dataframe tbody tr th {\n",
       "        vertical-align: top;\n",
       "    }\n",
       "\n",
       "    .dataframe thead th {\n",
       "        text-align: right;\n",
       "    }\n",
       "</style>\n",
       "<table border=\"1\" class=\"dataframe\">\n",
       "  <thead>\n",
       "    <tr style=\"text-align: right;\">\n",
       "      <th></th>\n",
       "      <th>ratings</th>\n",
       "      <th>review_lemmatized</th>\n",
       "      <th>review</th>\n",
       "      <th>Word_counts</th>\n",
       "      <th>Char_counts</th>\n",
       "      <th>average_word_length</th>\n",
       "      <th>stop_words</th>\n",
       "      <th>hashtags_count</th>\n",
       "      <th>mention_count</th>\n",
       "      <th>numeric_count</th>\n",
       "      <th>upper_case_alphabet_count</th>\n",
       "      <th>emails</th>\n",
       "      <th>emails_count</th>\n",
       "      <th>url_flag</th>\n",
       "      <th>review_token</th>\n",
       "    </tr>\n",
       "  </thead>\n",
       "  <tbody>\n",
       "    <tr>\n",
       "      <th>0</th>\n",
       "      <td>4.0</td>\n",
       "      <td>beauty 6 day order big billion day sale brand new refurbish get charger headset box get check apple service center build truly premium sophisticated space grey color blaze fast device hang heat lag give 1 day moderate use like whatsapp check email call 1st come android s</td>\n",
       "      <td>beauty 6 day order big billion day sale brand new refurbish get charger headset box got check apple service center build truly premium sophisticated space grey color blaze fast device hang heat lag give 1 day moderate use like whatsapp check email call 1st come android s</td>\n",
       "      <td>90</td>\n",
       "      <td>500</td>\n",
       "      <td>4.555556</td>\n",
       "      <td>37</td>\n",
       "      <td>0</td>\n",
       "      <td>0</td>\n",
       "      <td>3</td>\n",
       "      <td>0</td>\n",
       "      <td>[]</td>\n",
       "      <td>0</td>\n",
       "      <td>0</td>\n",
       "      <td>[beauty, 6, day, order, big, billion, day, sale, brand, new, refurbish, get, charger, headset, box, got, check, apple, service, center, build, truly, premium, sophisticated, space, grey, color, blaze, fast, device, hang, heat, lag, give, 1, day, moderate, use, like, whatsapp, check, email, call, 1st, come, android, s]</td>\n",
       "    </tr>\n",
       "    <tr>\n",
       "      <th>1</th>\n",
       "      <td>5.0</td>\n",
       "      <td>1st guy believe online shopping specially specially apple</td>\n",
       "      <td>1st guy believe online shopping specially specially apple</td>\n",
       "      <td>16</td>\n",
       "      <td>92</td>\n",
       "      <td>4.812500</td>\n",
       "      <td>6</td>\n",
       "      <td>0</td>\n",
       "      <td>0</td>\n",
       "      <td>1</td>\n",
       "      <td>0</td>\n",
       "      <td>[]</td>\n",
       "      <td>0</td>\n",
       "      <td>0</td>\n",
       "      <td>[1st, guy, believe, online, shopping, specially, specially, apple]</td>\n",
       "    </tr>\n",
       "    <tr>\n",
       "      <th>2</th>\n",
       "      <td>5.0</td>\n",
       "      <td>super class display sound quality deal</td>\n",
       "      <td>super class display sound quality deal</td>\n",
       "      <td>15</td>\n",
       "      <td>95</td>\n",
       "      <td>5.333333</td>\n",
       "      <td>2</td>\n",
       "      <td>0</td>\n",
       "      <td>0</td>\n",
       "      <td>0</td>\n",
       "      <td>0</td>\n",
       "      <td>[]</td>\n",
       "      <td>0</td>\n",
       "      <td>0</td>\n",
       "      <td>[super, class, display, sound, quality, deal]</td>\n",
       "    </tr>\n",
       "    <tr>\n",
       "      <th>3</th>\n",
       "      <td>5.0</td>\n",
       "      <td>purchase get deal thank deliver estimate date experience</td>\n",
       "      <td>purchase get deal thank deliver estimate date experience</td>\n",
       "      <td>26</td>\n",
       "      <td>154</td>\n",
       "      <td>4.961538</td>\n",
       "      <td>10</td>\n",
       "      <td>0</td>\n",
       "      <td>0</td>\n",
       "      <td>0</td>\n",
       "      <td>0</td>\n",
       "      <td>[]</td>\n",
       "      <td>0</td>\n",
       "      <td>0</td>\n",
       "      <td>[purchase, get, deal, thank, deliver, estimate, date, experience]</td>\n",
       "    </tr>\n",
       "    <tr>\n",
       "      <th>4</th>\n",
       "      <td>4.0</td>\n",
       "      <td>love size love io overall</td>\n",
       "      <td>love size love io overall</td>\n",
       "      <td>18</td>\n",
       "      <td>89</td>\n",
       "      <td>4.000000</td>\n",
       "      <td>8</td>\n",
       "      <td>0</td>\n",
       "      <td>0</td>\n",
       "      <td>0</td>\n",
       "      <td>0</td>\n",
       "      <td>[]</td>\n",
       "      <td>0</td>\n",
       "      <td>0</td>\n",
       "      <td>[love, size, love, io, overall]</td>\n",
       "    </tr>\n",
       "  </tbody>\n",
       "</table>\n",
       "</div>"
      ],
      "text/plain": [
       "   ratings  \\\n",
       "0  4.0       \n",
       "1  5.0       \n",
       "2  5.0       \n",
       "3  5.0       \n",
       "4  4.0       \n",
       "\n",
       "                                                                                                                                                                                                                                                                 review_lemmatized  \\\n",
       "0  beauty 6 day order big billion day sale brand new refurbish get charger headset box get check apple service center build truly premium sophisticated space grey color blaze fast device hang heat lag give 1 day moderate use like whatsapp check email call 1st come android s   \n",
       "1  1st guy believe online shopping specially specially apple                                                                                                                                                                                                                         \n",
       "2  super class display sound quality deal                                                                                                                                                                                                                                            \n",
       "3  purchase get deal thank deliver estimate date experience                                                                                                                                                                                                                          \n",
       "4  love size love io overall                                                                                                                                                                                                                                                         \n",
       "\n",
       "                                                                                                                                                                                                                                                                            review  \\\n",
       "0  beauty 6 day order big billion day sale brand new refurbish get charger headset box got check apple service center build truly premium sophisticated space grey color blaze fast device hang heat lag give 1 day moderate use like whatsapp check email call 1st come android s   \n",
       "1  1st guy believe online shopping specially specially apple                                                                                                                                                                                                                         \n",
       "2  super class display sound quality deal                                                                                                                                                                                                                                            \n",
       "3  purchase get deal thank deliver estimate date experience                                                                                                                                                                                                                          \n",
       "4  love size love io overall                                                                                                                                                                                                                                                         \n",
       "\n",
       "   Word_counts  Char_counts  average_word_length  stop_words  hashtags_count  \\\n",
       "0  90           500          4.555556             37          0                \n",
       "1  16           92           4.812500             6           0                \n",
       "2  15           95           5.333333             2           0                \n",
       "3  26           154          4.961538             10          0                \n",
       "4  18           89           4.000000             8           0                \n",
       "\n",
       "   mention_count  numeric_count  upper_case_alphabet_count emails  \\\n",
       "0  0              3              0                          []      \n",
       "1  0              1              0                          []      \n",
       "2  0              0              0                          []      \n",
       "3  0              0              0                          []      \n",
       "4  0              0              0                          []      \n",
       "\n",
       "   emails_count  url_flag  \\\n",
       "0  0             0          \n",
       "1  0             0          \n",
       "2  0             0          \n",
       "3  0             0          \n",
       "4  0             0          \n",
       "\n",
       "                                                                                                                                                                                                                                                                                                                      review_token  \n",
       "0  [beauty, 6, day, order, big, billion, day, sale, brand, new, refurbish, get, charger, headset, box, got, check, apple, service, center, build, truly, premium, sophisticated, space, grey, color, blaze, fast, device, hang, heat, lag, give, 1, day, moderate, use, like, whatsapp, check, email, call, 1st, come, android, s]  \n",
       "1  [1st, guy, believe, online, shopping, specially, specially, apple]                                                                                                                                                                                                                                                               \n",
       "2  [super, class, display, sound, quality, deal]                                                                                                                                                                                                                                                                                    \n",
       "3  [purchase, get, deal, thank, deliver, estimate, date, experience]                                                                                                                                                                                                                                                                \n",
       "4  [love, size, love, io, overall]                                                                                                                                                                                                                                                                                                  "
      ]
     },
     "execution_count": 149,
     "metadata": {},
     "output_type": "execute_result"
    }
   ],
   "source": [
    "df.head()"
   ]
  },
  {
   "cell_type": "code",
   "execution_count": 150,
   "id": "d93d919c",
   "metadata": {},
   "outputs": [],
   "source": [
    "df=df.iloc[:,0:2]"
   ]
  },
  {
   "cell_type": "code",
   "execution_count": 152,
   "id": "39ebe67b",
   "metadata": {},
   "outputs": [
    {
     "data": {
      "text/html": [
       "<div>\n",
       "<style scoped>\n",
       "    .dataframe tbody tr th:only-of-type {\n",
       "        vertical-align: middle;\n",
       "    }\n",
       "\n",
       "    .dataframe tbody tr th {\n",
       "        vertical-align: top;\n",
       "    }\n",
       "\n",
       "    .dataframe thead th {\n",
       "        text-align: right;\n",
       "    }\n",
       "</style>\n",
       "<table border=\"1\" class=\"dataframe\">\n",
       "  <thead>\n",
       "    <tr style=\"text-align: right;\">\n",
       "      <th></th>\n",
       "      <th>ratings</th>\n",
       "      <th>review_lemmatized</th>\n",
       "    </tr>\n",
       "  </thead>\n",
       "  <tbody>\n",
       "    <tr>\n",
       "      <th>0</th>\n",
       "      <td>4.0</td>\n",
       "      <td>beauty 6 day order big billion day sale brand new refurbish get charger headset box get check apple service center build truly premium sophisticated space grey color blaze fast device hang heat lag give 1 day moderate use like whatsapp check email call 1st come android s</td>\n",
       "    </tr>\n",
       "    <tr>\n",
       "      <th>1</th>\n",
       "      <td>5.0</td>\n",
       "      <td>1st guy believe online shopping specially specially apple</td>\n",
       "    </tr>\n",
       "    <tr>\n",
       "      <th>2</th>\n",
       "      <td>5.0</td>\n",
       "      <td>super class display sound quality deal</td>\n",
       "    </tr>\n",
       "    <tr>\n",
       "      <th>3</th>\n",
       "      <td>5.0</td>\n",
       "      <td>purchase get deal thank deliver estimate date experience</td>\n",
       "    </tr>\n",
       "    <tr>\n",
       "      <th>4</th>\n",
       "      <td>4.0</td>\n",
       "      <td>love size love io overall</td>\n",
       "    </tr>\n",
       "    <tr>\n",
       "      <th>...</th>\n",
       "      <td>...</td>\n",
       "      <td>...</td>\n",
       "    </tr>\n",
       "    <tr>\n",
       "      <th>2324</th>\n",
       "      <td>4.0</td>\n",
       "      <td>value need improve</td>\n",
       "    </tr>\n",
       "    <tr>\n",
       "      <th>2325</th>\n",
       "      <td>4.0</td>\n",
       "      <td>affordable</td>\n",
       "    </tr>\n",
       "    <tr>\n",
       "      <th>2326</th>\n",
       "      <td>5.0</td>\n",
       "      <td>bad</td>\n",
       "    </tr>\n",
       "    <tr>\n",
       "      <th>2327</th>\n",
       "      <td>5.0</td>\n",
       "      <td>excellent</td>\n",
       "    </tr>\n",
       "    <tr>\n",
       "      <th>2328</th>\n",
       "      <td>5.0</td>\n",
       "      <td>experience pubg high graphic</td>\n",
       "    </tr>\n",
       "  </tbody>\n",
       "</table>\n",
       "<p>2328 rows × 2 columns</p>\n",
       "</div>"
      ],
      "text/plain": [
       "      ratings  \\\n",
       "0     4.0       \n",
       "1     5.0       \n",
       "2     5.0       \n",
       "3     5.0       \n",
       "4     4.0       \n",
       "...   ...       \n",
       "2324  4.0       \n",
       "2325  4.0       \n",
       "2326  5.0       \n",
       "2327  5.0       \n",
       "2328  5.0       \n",
       "\n",
       "                                                                                                                                                                                                                                                                    review_lemmatized  \n",
       "0     beauty 6 day order big billion day sale brand new refurbish get charger headset box get check apple service center build truly premium sophisticated space grey color blaze fast device hang heat lag give 1 day moderate use like whatsapp check email call 1st come android s  \n",
       "1     1st guy believe online shopping specially specially apple                                                                                                                                                                                                                        \n",
       "2     super class display sound quality deal                                                                                                                                                                                                                                           \n",
       "3     purchase get deal thank deliver estimate date experience                                                                                                                                                                                                                         \n",
       "4     love size love io overall                                                                                                                                                                                                                                                        \n",
       "...                         ...                                                                                                                                                                                                                                                        \n",
       "2324  value need improve                                                                                                                                                                                                                                                               \n",
       "2325  affordable                                                                                                                                                                                                                                                                       \n",
       "2326  bad                                                                                                                                                                                                                                                                              \n",
       "2327  excellent                                                                                                                                                                                                                                                                        \n",
       "2328  experience pubg high graphic                                                                                                                                                                                                                                                     \n",
       "\n",
       "[2328 rows x 2 columns]"
      ]
     },
     "execution_count": 152,
     "metadata": {},
     "output_type": "execute_result"
    }
   ],
   "source": [
    "df"
   ]
  },
  {
   "cell_type": "code",
   "execution_count": 153,
   "id": "8c62ca99",
   "metadata": {},
   "outputs": [
    {
     "data": {
      "text/plain": [
       "'know feature go mention review want know well android stop read review review android user think switch android problem ahead'"
      ]
     },
     "execution_count": 153,
     "metadata": {},
     "output_type": "execute_result"
    }
   ],
   "source": [
    "df.loc[8,'review_lemmatized']"
   ]
  },
  {
   "cell_type": "code",
   "execution_count": 154,
   "id": "9f46dfd9",
   "metadata": {},
   "outputs": [],
   "source": [
    "for i in df.index:\n",
    "    if df.loc[i,'review_lemmatized']=='':\n",
    "        df.drop(i,inplace=True)\n",
    "    else:\n",
    "        pass"
   ]
  },
  {
   "cell_type": "code",
   "execution_count": 155,
   "id": "b6fcb63b",
   "metadata": {},
   "outputs": [],
   "source": [
    "df=df.reset_index()"
   ]
  },
  {
   "cell_type": "code",
   "execution_count": 156,
   "id": "1588e782",
   "metadata": {},
   "outputs": [
    {
     "data": {
      "text/html": [
       "<div>\n",
       "<style scoped>\n",
       "    .dataframe tbody tr th:only-of-type {\n",
       "        vertical-align: middle;\n",
       "    }\n",
       "\n",
       "    .dataframe tbody tr th {\n",
       "        vertical-align: top;\n",
       "    }\n",
       "\n",
       "    .dataframe thead th {\n",
       "        text-align: right;\n",
       "    }\n",
       "</style>\n",
       "<table border=\"1\" class=\"dataframe\">\n",
       "  <thead>\n",
       "    <tr style=\"text-align: right;\">\n",
       "      <th></th>\n",
       "      <th>index</th>\n",
       "      <th>ratings</th>\n",
       "      <th>review_lemmatized</th>\n",
       "    </tr>\n",
       "  </thead>\n",
       "  <tbody>\n",
       "    <tr>\n",
       "      <th>0</th>\n",
       "      <td>0</td>\n",
       "      <td>4.0</td>\n",
       "      <td>beauty 6 day order big billion day sale brand new refurbish get charger headset box get check apple service center build truly premium sophisticated space grey color blaze fast device hang heat lag give 1 day moderate use like whatsapp check email call 1st come android s</td>\n",
       "    </tr>\n",
       "    <tr>\n",
       "      <th>1</th>\n",
       "      <td>1</td>\n",
       "      <td>5.0</td>\n",
       "      <td>1st guy believe online shopping specially specially apple</td>\n",
       "    </tr>\n",
       "    <tr>\n",
       "      <th>2</th>\n",
       "      <td>2</td>\n",
       "      <td>5.0</td>\n",
       "      <td>super class display sound quality deal</td>\n",
       "    </tr>\n",
       "    <tr>\n",
       "      <th>3</th>\n",
       "      <td>3</td>\n",
       "      <td>5.0</td>\n",
       "      <td>purchase get deal thank deliver estimate date experience</td>\n",
       "    </tr>\n",
       "    <tr>\n",
       "      <th>4</th>\n",
       "      <td>4</td>\n",
       "      <td>4.0</td>\n",
       "      <td>love size love io overall</td>\n",
       "    </tr>\n",
       "    <tr>\n",
       "      <th>...</th>\n",
       "      <td>...</td>\n",
       "      <td>...</td>\n",
       "      <td>...</td>\n",
       "    </tr>\n",
       "    <tr>\n",
       "      <th>1996</th>\n",
       "      <td>2324</td>\n",
       "      <td>4.0</td>\n",
       "      <td>value need improve</td>\n",
       "    </tr>\n",
       "    <tr>\n",
       "      <th>1997</th>\n",
       "      <td>2325</td>\n",
       "      <td>4.0</td>\n",
       "      <td>affordable</td>\n",
       "    </tr>\n",
       "    <tr>\n",
       "      <th>1998</th>\n",
       "      <td>2326</td>\n",
       "      <td>5.0</td>\n",
       "      <td>bad</td>\n",
       "    </tr>\n",
       "    <tr>\n",
       "      <th>1999</th>\n",
       "      <td>2327</td>\n",
       "      <td>5.0</td>\n",
       "      <td>excellent</td>\n",
       "    </tr>\n",
       "    <tr>\n",
       "      <th>2000</th>\n",
       "      <td>2328</td>\n",
       "      <td>5.0</td>\n",
       "      <td>experience pubg high graphic</td>\n",
       "    </tr>\n",
       "  </tbody>\n",
       "</table>\n",
       "<p>2001 rows × 3 columns</p>\n",
       "</div>"
      ],
      "text/plain": [
       "      index  ratings  \\\n",
       "0     0      4.0       \n",
       "1     1      5.0       \n",
       "2     2      5.0       \n",
       "3     3      5.0       \n",
       "4     4      4.0       \n",
       "...  ..      ...       \n",
       "1996  2324   4.0       \n",
       "1997  2325   4.0       \n",
       "1998  2326   5.0       \n",
       "1999  2327   5.0       \n",
       "2000  2328   5.0       \n",
       "\n",
       "                                                                                                                                                                                                                                                                    review_lemmatized  \n",
       "0     beauty 6 day order big billion day sale brand new refurbish get charger headset box get check apple service center build truly premium sophisticated space grey color blaze fast device hang heat lag give 1 day moderate use like whatsapp check email call 1st come android s  \n",
       "1     1st guy believe online shopping specially specially apple                                                                                                                                                                                                                        \n",
       "2     super class display sound quality deal                                                                                                                                                                                                                                           \n",
       "3     purchase get deal thank deliver estimate date experience                                                                                                                                                                                                                         \n",
       "4     love size love io overall                                                                                                                                                                                                                                                        \n",
       "...                         ...                                                                                                                                                                                                                                                        \n",
       "1996  value need improve                                                                                                                                                                                                                                                               \n",
       "1997  affordable                                                                                                                                                                                                                                                                       \n",
       "1998  bad                                                                                                                                                                                                                                                                              \n",
       "1999  excellent                                                                                                                                                                                                                                                                        \n",
       "2000  experience pubg high graphic                                                                                                                                                                                                                                                     \n",
       "\n",
       "[2001 rows x 3 columns]"
      ]
     },
     "execution_count": 156,
     "metadata": {},
     "output_type": "execute_result"
    }
   ],
   "source": [
    "df"
   ]
  },
  {
   "cell_type": "code",
   "execution_count": 157,
   "id": "6141584b",
   "metadata": {},
   "outputs": [],
   "source": [
    "df=df.drop(['index'], axis = 1)"
   ]
  },
  {
   "cell_type": "code",
   "execution_count": 158,
   "id": "bb1764f3",
   "metadata": {},
   "outputs": [
    {
     "data": {
      "text/html": [
       "<div>\n",
       "<style scoped>\n",
       "    .dataframe tbody tr th:only-of-type {\n",
       "        vertical-align: middle;\n",
       "    }\n",
       "\n",
       "    .dataframe tbody tr th {\n",
       "        vertical-align: top;\n",
       "    }\n",
       "\n",
       "    .dataframe thead th {\n",
       "        text-align: right;\n",
       "    }\n",
       "</style>\n",
       "<table border=\"1\" class=\"dataframe\">\n",
       "  <thead>\n",
       "    <tr style=\"text-align: right;\">\n",
       "      <th></th>\n",
       "      <th>ratings</th>\n",
       "      <th>review_lemmatized</th>\n",
       "    </tr>\n",
       "  </thead>\n",
       "  <tbody>\n",
       "    <tr>\n",
       "      <th>0</th>\n",
       "      <td>4.0</td>\n",
       "      <td>beauty 6 day order big billion day sale brand new refurbish get charger headset box get check apple service center build truly premium sophisticated space grey color blaze fast device hang heat lag give 1 day moderate use like whatsapp check email call 1st come android s</td>\n",
       "    </tr>\n",
       "    <tr>\n",
       "      <th>1</th>\n",
       "      <td>5.0</td>\n",
       "      <td>1st guy believe online shopping specially specially apple</td>\n",
       "    </tr>\n",
       "    <tr>\n",
       "      <th>2</th>\n",
       "      <td>5.0</td>\n",
       "      <td>super class display sound quality deal</td>\n",
       "    </tr>\n",
       "    <tr>\n",
       "      <th>3</th>\n",
       "      <td>5.0</td>\n",
       "      <td>purchase get deal thank deliver estimate date experience</td>\n",
       "    </tr>\n",
       "    <tr>\n",
       "      <th>4</th>\n",
       "      <td>4.0</td>\n",
       "      <td>love size love io overall</td>\n",
       "    </tr>\n",
       "    <tr>\n",
       "      <th>...</th>\n",
       "      <td>...</td>\n",
       "      <td>...</td>\n",
       "    </tr>\n",
       "    <tr>\n",
       "      <th>1996</th>\n",
       "      <td>4.0</td>\n",
       "      <td>value need improve</td>\n",
       "    </tr>\n",
       "    <tr>\n",
       "      <th>1997</th>\n",
       "      <td>4.0</td>\n",
       "      <td>affordable</td>\n",
       "    </tr>\n",
       "    <tr>\n",
       "      <th>1998</th>\n",
       "      <td>5.0</td>\n",
       "      <td>bad</td>\n",
       "    </tr>\n",
       "    <tr>\n",
       "      <th>1999</th>\n",
       "      <td>5.0</td>\n",
       "      <td>excellent</td>\n",
       "    </tr>\n",
       "    <tr>\n",
       "      <th>2000</th>\n",
       "      <td>5.0</td>\n",
       "      <td>experience pubg high graphic</td>\n",
       "    </tr>\n",
       "  </tbody>\n",
       "</table>\n",
       "<p>2001 rows × 2 columns</p>\n",
       "</div>"
      ],
      "text/plain": [
       "      ratings  \\\n",
       "0     4.0       \n",
       "1     5.0       \n",
       "2     5.0       \n",
       "3     5.0       \n",
       "4     4.0       \n",
       "...   ...       \n",
       "1996  4.0       \n",
       "1997  4.0       \n",
       "1998  5.0       \n",
       "1999  5.0       \n",
       "2000  5.0       \n",
       "\n",
       "                                                                                                                                                                                                                                                                    review_lemmatized  \n",
       "0     beauty 6 day order big billion day sale brand new refurbish get charger headset box get check apple service center build truly premium sophisticated space grey color blaze fast device hang heat lag give 1 day moderate use like whatsapp check email call 1st come android s  \n",
       "1     1st guy believe online shopping specially specially apple                                                                                                                                                                                                                        \n",
       "2     super class display sound quality deal                                                                                                                                                                                                                                           \n",
       "3     purchase get deal thank deliver estimate date experience                                                                                                                                                                                                                         \n",
       "4     love size love io overall                                                                                                                                                                                                                                                        \n",
       "...                         ...                                                                                                                                                                                                                                                        \n",
       "1996  value need improve                                                                                                                                                                                                                                                               \n",
       "1997  affordable                                                                                                                                                                                                                                                                       \n",
       "1998  bad                                                                                                                                                                                                                                                                              \n",
       "1999  excellent                                                                                                                                                                                                                                                                        \n",
       "2000  experience pubg high graphic                                                                                                                                                                                                                                                     \n",
       "\n",
       "[2001 rows x 2 columns]"
      ]
     },
     "execution_count": 158,
     "metadata": {},
     "output_type": "execute_result"
    }
   ],
   "source": [
    "df"
   ]
  },
  {
   "cell_type": "code",
   "execution_count": 159,
   "id": "c9ba0ec8",
   "metadata": {},
   "outputs": [],
   "source": [
    "tfidf=TfidfVectorizer(max_features=20000,ngram_range=(1,5),analyzer='char')"
   ]
  },
  {
   "cell_type": "code",
   "execution_count": 160,
   "id": "26623a8d",
   "metadata": {},
   "outputs": [],
   "source": [
    "\n",
    "x=tfidf.fit_transform(df[\"review_lemmatized\"])\n",
    "y=df[\"ratings\"]"
   ]
  },
  {
   "cell_type": "code",
   "execution_count": 161,
   "id": "cc224c02",
   "metadata": {},
   "outputs": [
    {
     "data": {
      "text/plain": [
       "((2001, 20000), (2001,))"
      ]
     },
     "execution_count": 161,
     "metadata": {},
     "output_type": "execute_result"
    }
   ],
   "source": [
    "x.shape,y.shape"
   ]
  },
  {
   "cell_type": "code",
   "execution_count": 162,
   "id": "cdfcaf9f",
   "metadata": {},
   "outputs": [],
   "source": [
    "x_train,x_test,y_train,y_test=train_test_split(x,y,test_size=0.2,random_state=0)"
   ]
  },
  {
   "cell_type": "code",
   "execution_count": 163,
   "id": "4652cb1c",
   "metadata": {},
   "outputs": [
    {
     "data": {
      "text/plain": [
       "(1600, 20000)"
      ]
     },
     "execution_count": 163,
     "metadata": {},
     "output_type": "execute_result"
    }
   ],
   "source": [
    "x_train.shape"
   ]
  },
  {
   "cell_type": "code",
   "execution_count": 164,
   "id": "d0a9ad1e",
   "metadata": {},
   "outputs": [
    {
     "data": {
      "text/plain": [
       "LinearSVC()"
      ]
     },
     "execution_count": 164,
     "metadata": {},
     "output_type": "execute_result"
    }
   ],
   "source": [
    "clf=LinearSVC()\n",
    "clf.fit(x_train,y_train)"
   ]
  },
  {
   "cell_type": "code",
   "execution_count": 165,
   "id": "4d851aeb",
   "metadata": {},
   "outputs": [],
   "source": [
    "y_pred=clf.predict(x_test)"
   ]
  },
  {
   "cell_type": "code",
   "execution_count": 166,
   "id": "a503af10",
   "metadata": {},
   "outputs": [
    {
     "name": "stdout",
     "output_type": "stream",
     "text": [
      "              precision    recall  f1-score   support\n",
      "\n",
      "         3.0       0.25      0.04      0.07        24\n",
      "         4.0       0.33      0.15      0.21        72\n",
      "         5.0       0.78      0.93      0.85       305\n",
      "\n",
      "    accuracy                           0.74       401\n",
      "   macro avg       0.45      0.38      0.38       401\n",
      "weighted avg       0.67      0.74      0.69       401\n",
      "\n"
     ]
    }
   ],
   "source": [
    "print(classification_report(y_test,y_pred))"
   ]
  },
  {
   "cell_type": "markdown",
   "id": "ca26cf91",
   "metadata": {},
   "source": [
    "We can see that our ML model is giving an accuracy of 74%"
   ]
  },
  {
   "cell_type": "code",
   "execution_count": null,
   "id": "ac2f4dd6",
   "metadata": {},
   "outputs": [],
   "source": [
    "#Dumping our model\n",
    "import joblib   \n",
    "joblib.dump(clf,\"review_svc.pkl\")"
   ]
  }
 ],
 "metadata": {
  "kernelspec": {
   "display_name": "Python 3",
   "language": "python",
   "name": "python3"
  },
  "language_info": {
   "codemirror_mode": {
    "name": "ipython",
    "version": 3
   },
   "file_extension": ".py",
   "mimetype": "text/x-python",
   "name": "python",
   "nbconvert_exporter": "python",
   "pygments_lexer": "ipython3",
   "version": "3.8.8"
  }
 },
 "nbformat": 4,
 "nbformat_minor": 5
}
